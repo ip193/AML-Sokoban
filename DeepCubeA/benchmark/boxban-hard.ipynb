{
 "cells": [
  {
   "cell_type": "markdown",
   "metadata": {},
   "source": [
    "## imports"
   ]
  },
  {
   "cell_type": "code",
   "execution_count": 1,
   "metadata": {},
   "outputs": [],
   "source": [
    "import sys\n",
    "sys.path.append(\"..\") # Adds higher directory to python modules path"
   ]
  },
  {
   "cell_type": "code",
   "execution_count": 2,
   "metadata": {},
   "outputs": [],
   "source": [
    "from a_star_search import load_model"
   ]
  },
  {
   "cell_type": "code",
   "execution_count": 3,
   "metadata": {
    "pycharm": {
     "name": "#%%\n"
    }
   },
   "outputs": [],
   "source": [
    "model = load_model('models/DAVI_steps_15_10x10-longTraining-no-batchnorm_1565_10.565299987792969.pth', input_size=10*10*4)"
   ]
  },
  {
   "cell_type": "code",
   "execution_count": 4,
   "metadata": {},
   "outputs": [
    {
     "data": {
      "text/plain": [
       "(<pyximport.pyximport.PyImporter at 0x7f2350fc4350>, None)"
      ]
     },
     "execution_count": 4,
     "metadata": {},
     "output_type": "execute_result"
    }
   ],
   "source": [
    "import pyximport; pyximport.install()\n",
    "pyximport.install(pyimport=True)"
   ]
  },
  {
   "cell_type": "code",
   "execution_count": 5,
   "metadata": {},
   "outputs": [],
   "source": [
    "import gzip\n",
    "import pickle"
   ]
  },
  {
   "cell_type": "code",
   "execution_count": 6,
   "metadata": {},
   "outputs": [
    {
     "data": {
      "text/plain": [
       "270"
      ]
     },
     "execution_count": 6,
     "metadata": {},
     "output_type": "execute_result"
    }
   ],
   "source": [
    "import gc\n",
    "gc.collect()"
   ]
  },
  {
   "cell_type": "markdown",
   "metadata": {},
   "source": [
    "## solve games"
   ]
  },
  {
   "cell_type": "code",
   "execution_count": null,
   "metadata": {
    "pycharm": {
     "name": "#%%\n"
    },
    "scrolled": false
   },
   "outputs": [
    {
     "name": "stdout",
     "output_type": "stream",
     "text": [
      "7.4.0\n"
     ]
    },
    {
     "data": {
      "application/vnd.jupyter.widget-view+json": {
       "model_id": "fb26722dcb124c31836a1ce3478f01c5",
       "version_major": 2,
       "version_minor": 0
      },
      "text/plain": [
       "HBox(children=(IntProgress(value=0), HTML(value='')))"
      ]
     },
     "metadata": {},
     "output_type": "display_data"
    },
    {
     "name": "stderr",
     "output_type": "stream",
     "text": [
      " 75%|███████▌  | 1219667/1623160 [3:49:26<1:16:20, 88.09it/s]\n",
      " 59%|█████▉    | 125217/212520 [22:30<15:28, 93.98it/s]\n",
      " 48%|████▊     | 483680/1006880 [1:26:27<1:33:14, 93.52it/s]\n",
      " 34%|███▍      | 856278/2509710 [2:27:24<4:36:53, 99.52it/s] \n",
      " 79%|███████▉  | 80314/101745 [13:20<03:32, 100.65it/s]\n",
      " 36%|███▋      | 61258/168245 [10:10<17:43, 100.65it/s]\n",
      " 13%|█▎        | 16657/131670 [02:49<19:21, 99.03it/s] \n",
      " 95%|█████████▌| 96910/101745 [16:52<00:48, 98.99it/s]\n",
      " 61%|██████    | 721359/1186680 [2:01:17<1:18:22, 98.96it/s] \n",
      "  9%|▉         | 220687/2509710 [36:47<6:21:59, 99.87it/s] \n",
      " 11%|█         | 18665/168245 [03:05<24:48, 100.48it/s]\n",
      " 39%|███▉      | 333661/849555 [55:29<1:25:46, 100.25it/s]\n",
      " 30%|███       | 654853/2179485 [1:49:43<4:15:26, 99.47it/s]\n",
      " 67%|██████▋   | 142265/212520 [23:38<11:32, 101.43it/s]\n",
      " 74%|███████▎  | 156539/212520 [26:04<09:14, 100.99it/s]\n",
      " 53%|█████▎    | 41248/77520 [06:51<06:01, 100.23it/s]\n",
      " 41%|████▏     | 576338/1391280 [1:36:26<2:16:48, 99.29it/s] \n",
      " 13%|█▎        | 9809/77520 [01:37<11:13, 100.58it/s]\n",
      " 61%|██████    | 2601870/4253340 [7:22:47<5:17:44, 86.63it/s] \n",
      " 11%|█         | 353218/3290040 [1:05:22<8:39:16, 94.26it/s]\n",
      " 47%|████▋     | 124355/265650 [20:49<23:30, 100.21it/s]\n",
      " 42%|████▏     | 70974/168245 [11:48<16:12, 99.99it/s] \n",
      " 10%|█         | 3156/30940 [00:31<04:35, 100.83it/s]\n",
      " 21%|██▏       | 9175/42840 [01:31<05:33, 100.82it/s]\n",
      " 27%|██▋       | 189352/712530 [31:26<1:26:28, 100.84it/s]\n",
      " 87%|████████▋ | 1037005/1186680 [2:57:21<30:42, 81.26it/s]  \n",
      " 63%|██████▎   | 1381146/2179485 [4:03:57<2:35:44, 85.44it/s]\n",
      " 31%|███       | 370446/1186680 [1:11:38<2:39:26, 85.32it/s]\n",
      " 18%|█▊        | 131633/712530 [25:05<1:47:48, 89.80it/s]\n",
      " 29%|██▉       | 291240/1006880 [49:22<1:59:20, 99.94it/s] \n",
      " 75%|███████▌  | 76436/101745 [12:43<04:11, 100.70it/s]\n",
      " 20%|██        | 242933/1186680 [40:48<2:38:16, 99.38it/s]\n",
      " 51%|█████▏    | 516594/1006880 [1:26:02<1:21:22, 100.42it/s]\n",
      "  4%|▎         | 11518/328900 [01:54<52:29, 100.76it/s]\n",
      " 75%|███████▍  | 246593/328900 [40:58<13:36, 100.75it/s]\n",
      " 70%|███████   | 1529486/2179485 [4:18:09<1:50:00, 98.48it/s]\n",
      " 78%|███████▊  | 60406/77520 [10:00<02:50, 100.54it/s]\n",
      " 11%|█         | 14248/131670 [02:22<19:33, 100.06it/s]\n",
      " 69%|██████▉   | 958520/1391280 [2:51:39<1:16:11, 94.67it/s]\n",
      " 88%|████████▊ | 233513/265650 [45:57<05:51, 91.53it/s]\n",
      " 20%|█▉        | 1338220/6853770 [4:06:34<18:28:47, 82.91it/s]\n",
      "  6%|▌         | 58531/1006880 [11:54<3:12:42, 82.02it/s]\n",
      " 25%|██▍       | 710191/2878785 [2:08:06<6:23:50, 94.16it/s] \n",
      " 30%|███       | 40156/131670 [06:47<15:45, 96.78it/s] \n",
      " 11%|█▏        | 136334/1186680 [25:29<3:23:06, 86.19it/s]\n",
      " 92%|█████████▏| 4434456/4812990 [13:26:14<1:08:31, 92.07it/s]\n",
      " 78%|███████▊  | 131405/168245 [22:26<06:17, 97.68it/s]\n",
      " 56%|█████▌    | 118253/212520 [20:10<16:03, 97.85it/s]\n",
      "  7%|▋         | 117236/1623160 [19:58<4:16:33, 97.83it/s]\n",
      " 49%|████▉     | 28583/58140 [04:52<05:03, 97.41it/s]\n",
      " 44%|████▎     | 143290/328900 [27:44<37:05, 83.40it/s]\n",
      " 40%|████      | 12416/30940 [02:30<03:42, 83.27it/s]\n",
      " 22%|██▏       | 110000/491400 [20:50<1:13:11, 86.85it/s]"
     ]
    }
   ],
   "source": [
    "from a_star_search import search_way\n",
    "from tqdm import tqdm_notebook\n",
    "import time\n",
    "import numpy as np\n",
    "from scipy.special._ufuncs import binom\n",
    "\n",
    "actions_len_list = []\n",
    "explored_len_list = []\n",
    "possible_states_list = []\n",
    "solve_time = []\n",
    "results = []\n",
    "\n",
    "\n",
    "with gzip.open('data/boxban-hard.pkl.gz', 'rb') as f:\n",
    "    envs = pickle.load(f)\n",
    "\n",
    "for env in tqdm_notebook(envs):\n",
    "    start_time = time.time()\n",
    "    result, explored_len = search_way(env, model, progress_bar_update_iterations=10000)\n",
    "    if type(result) is list and len(result) > 0:\n",
    "        solve_time.append(time.time() - start_time)\n",
    "        actions_len_list.append(len(result))\n",
    "        explored_len_list.append(len(result) / float(explored_len))\n",
    "        x = sum((env.room_state > 0).flatten())\n",
    "        possible_states_list.append(len(result) / x * binom(x-1, env.num_boxes))\n",
    "        results.append(result)\n",
    "    else:\n",
    "        print('ERROR, could not find a path 😢')\n",
    "        \n",
    "    all_stuff = {\n",
    "        'actions_len_list': actions_len_list,\n",
    "        'explored_len_list': explored_len_list,\n",
    "        'possible_states_list': possible_states_list,\n",
    "        'solve_time': solve_time,\n",
    "        'results': results\n",
    "    }\n",
    "\n",
    "    with gzip.open(f'stats/temp_boxban-hard.pkl.gz', 'wb') as f:\n",
    "        pickle.dump(all_stuff, f, pickle.HIGHEST_PROTOCOL)\n",
    "        "
   ]
  },
  {
   "cell_type": "markdown",
   "metadata": {},
   "source": [
    "## statistics"
   ]
  },
  {
   "cell_type": "code",
   "execution_count": 15,
   "metadata": {},
   "outputs": [
    {
     "name": "stdout",
     "output_type": "stream",
     "text": [
      "actions_len_list 56.15\n",
      "explored_len_list 0.07454540107511129\n",
      "possible_states_list 1146978.25\n",
      "solve_time 4445.830259296894\n"
     ]
    }
   ],
   "source": [
    "print('actions_len_list', np.mean(actions_len_list))\n",
    "print('explored_len_list', np.mean(explored_len_list) * 100)\n",
    "print('possible_states_list', np.mean(possible_states_list))\n",
    "print('solve_time', np.mean(solve_time))"
   ]
  },
  {
   "cell_type": "code",
   "execution_count": null,
   "metadata": {},
   "outputs": [],
   "source": [
    "temp = []\n",
    "explored_len_list_ = []\n",
    "possible_states_list = []\n",
    "for env, result, explored_len in zip(envs, results, explored_len_list):\n",
    "    x = sum((env.room_state > 0).flatten())\n",
    "    explored_states = 1 / explored_len * len(result)\n",
    "    explored_len_list_.append(explored_states)\n",
    "    possible_states = x * binom(x-1, env.num_boxes)\n",
    "    possible_states_list.append(possible_states)\n",
    "    temp.append(explored_states / possible_states * 100)\n"
   ]
  },
  {
   "cell_type": "code",
   "execution_count": null,
   "metadata": {},
   "outputs": [],
   "source": [
    "stats = {\n",
    "    'actions_len_list': actions_len_list,\n",
    "    'explored_len_list': explored_len_list_,\n",
    "    'possible_states_list': possible_states_list,\n",
    "    'solve_time': solve_time,\n",
    "    'results': results\n",
    "}\n",
    "\n",
    "with gzip.open(f'stats/boxban-hard.pkl.gz', 'wb') as f:\n",
    "    pickle.dump(stats, f, pickle.HIGHEST_PROTOCOL)"
   ]
  },
  {
   "cell_type": "markdown",
   "metadata": {},
   "source": [
    "## plots"
   ]
  },
  {
   "cell_type": "code",
   "execution_count": null,
   "metadata": {},
   "outputs": [],
   "source": [
    "import matplotlib.pyplot as plt"
   ]
  },
  {
   "cell_type": "code",
   "execution_count": null,
   "metadata": {},
   "outputs": [],
   "source": [
    "fig = plt.figure(figsize=(25, 25))\n",
    "for idx, env in enumerate(envs):\n",
    "    img = env.render(mode='rgb_array')\n",
    "    fig.add_subplot(10, 10, idx + 1)\n",
    "    plt.axis('off')\n",
    "    plt.title(f'boxban-hard {idx + 1}')\n",
    "    plt.imshow(img)\n",
    "plt.axis('off')\n",
    "fig.tight_layout()\n",
    "plt.savefig(\"plots/boxban-hard_unsolved.pdf\")\n",
    "plt.show()"
   ]
  },
  {
   "cell_type": "code",
   "execution_count": null,
   "metadata": {},
   "outputs": [],
   "source": [
    "from copy import deepcopy\n",
    "\n",
    "fig = plt.figure(figsize=(25, 25))\n",
    "for idx, (env, actions) in enumerate(zip(envs, results)):\n",
    "    env = deepcopy(env)\n",
    "    \n",
    "    step = 0\n",
    "    for action in actions:\n",
    "        next_state, reward, done, _ = env.step(action)\n",
    "        step += 1\n",
    "    \n",
    "    img = env.render(mode='rgb_array')\n",
    "    fig.add_subplot(10, 10, idx + 1)\n",
    "    plt.axis('off')\n",
    "    plt.title(f'boxban-hard {idx + 1}')\n",
    "    plt.imshow(img)\n",
    "plt.axis('off')\n",
    "fig.tight_layout()\n",
    "plt.savefig(\"plots/boxban-hard_solved.pdf\")\n",
    "plt.show()"
   ]
  },
  {
   "cell_type": "code",
   "execution_count": null,
   "metadata": {},
   "outputs": [],
   "source": []
  },
  {
   "cell_type": "code",
   "execution_count": 11,
   "metadata": {},
   "outputs": [
    {
     "name": "stdout",
     "output_type": "stream",
     "text": [
      "2019-09-19 13:41:17.348107\n"
     ]
    }
   ],
   "source": [
    "import datetime\n",
    "print(datetime.datetime.utcnow())"
   ]
  },
  {
   "cell_type": "code",
   "execution_count": null,
   "metadata": {},
   "outputs": [],
   "source": []
  }
 ],
 "metadata": {
  "kernelspec": {
   "display_name": "Python 3",
   "language": "python",
   "name": "python3"
  },
  "language_info": {
   "codemirror_mode": {
    "name": "ipython",
    "version": 3
   },
   "file_extension": ".py",
   "mimetype": "text/x-python",
   "name": "python",
   "nbconvert_exporter": "python",
   "pygments_lexer": "ipython3",
   "version": "3.7.4"
  },
  "pycharm": {
   "stem_cell": {
    "cell_type": "raw",
    "metadata": {
     "collapsed": false
    },
    "source": []
   }
  }
 },
 "nbformat": 4,
 "nbformat_minor": 1
}

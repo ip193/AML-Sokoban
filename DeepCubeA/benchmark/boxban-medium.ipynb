{
 "cells": [
  {
   "cell_type": "markdown",
   "metadata": {},
   "source": [
    "## imports"
   ]
  },
  {
   "cell_type": "code",
   "execution_count": 1,
   "metadata": {},
   "outputs": [],
   "source": [
    "import sys\n",
    "sys.path.append(\"..\") # Adds higher directory to python modules path"
   ]
  },
  {
   "cell_type": "code",
   "execution_count": 2,
   "metadata": {},
   "outputs": [],
   "source": [
    "from a_star_search import load_model"
   ]
  },
  {
   "cell_type": "code",
   "execution_count": 3,
   "metadata": {
    "pycharm": {
     "name": "#%%\n"
    }
   },
   "outputs": [],
   "source": [
    "model = load_model('models/DAVI_steps_15_10x10-longTraining-no-batchnorm_1565_10.565299987792969.pth', input_size=10*10*4)"
   ]
  },
  {
   "cell_type": "code",
   "execution_count": 4,
   "metadata": {},
   "outputs": [
    {
     "data": {
      "text/plain": [
       "(<pyximport.pyximport.PyImporter at 0x7f5b6102f490>, None)"
      ]
     },
     "execution_count": 4,
     "metadata": {},
     "output_type": "execute_result"
    }
   ],
   "source": [
    "import pyximport; pyximport.install()\n",
    "pyximport.install(pyimport=True)"
   ]
  },
  {
   "cell_type": "code",
   "execution_count": 5,
   "metadata": {},
   "outputs": [],
   "source": [
    "import gzip\n",
    "import pickle"
   ]
  },
  {
   "cell_type": "code",
   "execution_count": 6,
   "metadata": {},
   "outputs": [
    {
     "data": {
      "text/plain": [
       "270"
      ]
     },
     "execution_count": 6,
     "metadata": {},
     "output_type": "execute_result"
    }
   ],
   "source": [
    "import gc\n",
    "gc.collect()"
   ]
  },
  {
   "cell_type": "markdown",
   "metadata": {},
   "source": [
    "## solve games"
   ]
  },
  {
   "cell_type": "code",
   "execution_count": null,
   "metadata": {
    "pycharm": {
     "name": "#%%\n"
    },
    "scrolled": false
   },
   "outputs": [
    {
     "name": "stdout",
     "output_type": "stream",
     "text": [
      "7.4.0\n"
     ]
    },
    {
     "data": {
      "application/vnd.jupyter.widget-view+json": {
       "model_id": "e7a7db3c1a2043319b272599fb3a0ea3",
       "version_major": 2,
       "version_minor": 0
      },
      "text/plain": [
       "HBox(children=(IntProgress(value=0), HTML(value='')))"
      ]
     },
     "metadata": {},
     "output_type": "display_data"
    },
    {
     "name": "stderr",
     "output_type": "stream",
     "text": [
      " 76%|███████▌  | 903961/1186680 [2:47:37<51:45, 91.03it/s]  \n",
      " 22%|██▏       | 476168/2179485 [1:30:03<5:11:09, 91.23it/s]\n",
      " 24%|██▍       | 173934/712530 [31:17<1:36:05, 93.42it/s]\n",
      " 59%|█████▉    | 126378/212520 [22:41<15:21, 93.48it/s]\n",
      "  2%|▏         | 81996/3746990 [14:43<11:01:03, 92.40it/s]\n",
      " 49%|████▊     | 49514/101745 [08:51<09:19, 93.27it/s]\n",
      " 43%|████▎     | 33680/77520 [06:02<07:51, 92.93it/s]\n",
      " 55%|█████▌    | 894816/1623160 [2:34:59<2:03:13, 98.52it/s]\n",
      " 16%|█▌        | 52976/328900 [08:50<45:53, 100.19it/s]\n",
      " 33%|███▎      | 1096352/3290040 [3:05:42<6:11:02, 98.54it/s]\n",
      " 18%|█▊        | 127318/712530 [21:19<1:38:05, 99.43it/s]\n",
      " 25%|██▌       | 32984/131670 [05:31<16:31, 99.57it/s]\n",
      " 14%|█▎        | 36207/265650 [06:09<39:04, 97.87it/s]\n",
      " 18%|█▊        | 87481/491400 [14:39<1:07:21, 99.94it/s]\n",
      " 33%|███▎      | 110074/328900 [18:27<37:43, 96.67it/s]\n",
      " 77%|███████▋  | 655780/849555 [1:50:19<32:36, 99.06it/s]  \n",
      "  9%|▊         | 73673/849555 [12:19<2:09:23, 99.94it/s]\n",
      " 11%|█         | 321548/2878785 [54:01<7:09:40, 99.19it/s]\n",
      " 55%|█████▍    | 42579/77520 [07:04<05:48, 100.31it/s]\n",
      " 79%|███████▉  | 104204/131670 [17:25<04:33, 100.27it/s]\n",
      " 24%|██▎       | 31037/131670 [05:12<16:53, 99.29it/s]\n",
      " 68%|██████▊   | 336250/491400 [56:20<25:58, 99.55it/s]  \n",
      " 21%|██        | 176862/849555 [29:38<1:52:04, 100.03it/s]\n",
      " 16%|█▋        | 616221/3746990 [1:43:53<8:52:14, 98.04it/s]\n",
      " 49%|████▉     | 800159/1623160 [2:19:35<2:35:10, 88.40it/s]\n",
      " 10%|█         | 164663/1623160 [27:54<4:06:54, 98.45it/s]\n",
      "  2%|▏         | 17431/849555 [02:55<2:20:06, 98.99it/s]\n",
      "  5%|▍         | 2130/42840 [00:21<06:52, 98.65it/s]\n",
      " 81%|████████  | 2028187/2509710 [5:48:56<1:21:18, 98.70it/s]\n",
      "  8%|▊         | 294829/3746990 [49:25<9:36:34, 99.79it/s] \n",
      " 32%|███▏      | 155868/491400 [26:13<57:39, 97.00it/s]  \n",
      " 14%|█▍        | 122666/849555 [24:39<2:26:32, 82.67it/s]\n",
      "  6%|▌         | 113322/1884960 [22:58<5:46:30, 85.21it/s]\n",
      " 80%|████████  | 3869405/4812990 [13:59:53<3:01:04, 86.85it/s]\n",
      " 44%|████▍     | 316563/712530 [1:00:02<1:09:38, 94.77it/s]\n",
      " 67%|██████▋   | 220804/328900 [39:38<20:36, 87.44it/s]\n",
      " 34%|███▎      | 71407/212520 [12:39<24:36, 95.57it/s]\n",
      " 74%|███████▍  | 2130987/2878785 [6:40:44<2:23:48, 86.66it/s]\n",
      " 56%|█████▌    | 333431/593775 [59:18<43:19, 100.16it/s] \n",
      " 17%|█▋        | 1138340/6853770 [3:24:20<18:41:41, 84.92it/s]\n",
      "  4%|▎         | 14680/403650 [02:59<1:19:05, 81.96it/s]\n",
      " 43%|████▎     | 33361/77520 [06:31<08:31, 86.25it/s]\n",
      " 20%|██        | 171932/849555 [31:04<2:10:39, 86.44it/s]\n",
      "  2%|▏         | 48502/2179485 [09:14<6:47:57, 87.06it/s]\n",
      " 71%|███████   | 1771928/2509710 [5:11:33<2:10:55, 93.92it/s]\n",
      "  1%|▏         | 6447/491400 [01:06<1:23:07, 97.23it/s]\n",
      " 48%|████▊     | 126691/265650 [21:50<23:52, 97.00it/s]\n",
      " 16%|█▌        | 399780/2509710 [1:08:55<6:02:50, 96.92it/s]\n",
      " 80%|████████  | 46795/58140 [07:59<01:55, 97.83it/s]\n",
      " 35%|███▌      | 1503772/4253340 [4:37:10<9:31:56, 80.12it/s] \n",
      " 15%|█▌        | 110000/712530 [21:00<1:54:36, 87.62it/s]"
     ]
    }
   ],
   "source": [
    "from a_star_search import search_way\n",
    "from tqdm import tqdm_notebook\n",
    "import time\n",
    "import numpy as np\n",
    "from scipy.special._ufuncs import binom\n",
    "\n",
    "actions_len_list = []\n",
    "explored_len_list = []\n",
    "possible_states_list = []\n",
    "solve_time = []\n",
    "results = []\n",
    "\n",
    "\n",
    "with gzip.open('data/boxban-medium.pkl.gz', 'rb') as f:\n",
    "    envs = pickle.load(f)\n",
    "\n",
    "for env in tqdm_notebook(envs):\n",
    "    start_time = time.time()\n",
    "    result, explored_len = search_way(env, model, progress_bar_update_iterations=10000)\n",
    "    if type(result) is list and len(result) > 0:\n",
    "        solve_time.append(time.time() - start_time)\n",
    "        actions_len_list.append(len(result))\n",
    "        explored_len_list.append(len(result) / float(explored_len))\n",
    "        x = sum((env.room_state > 0).flatten())\n",
    "        possible_states_list.append(len(result) / x * binom(x-1, env.num_boxes))\n",
    "        results.append(result)\n",
    "    else:\n",
    "        print('ERROR, could not find a path 😢')\n",
    "        \n",
    "    all_stuff = {\n",
    "        'actions_len_list': actions_len_list,\n",
    "        'explored_len_list': explored_len_list,\n",
    "        'possible_states_list': possible_states_list,\n",
    "        'solve_time': solve_time,\n",
    "        'results': results\n",
    "    }\n",
    "\n",
    "    with gzip.open(f'stats/temp_boxban-medium.pkl.gz', 'wb') as f:\n",
    "        pickle.dump(all_stuff, f, pickle.HIGHEST_PROTOCOL)\n",
    "        "
   ]
  },
  {
   "cell_type": "markdown",
   "metadata": {},
   "source": [
    "## statistics"
   ]
  },
  {
   "cell_type": "code",
   "execution_count": 15,
   "metadata": {},
   "outputs": [
    {
     "name": "stdout",
     "output_type": "stream",
     "text": [
      "actions_len_list 46.42\n",
      "explored_len_list 0.10925841144649057\n",
      "possible_states_list 1119187.8\n",
      "solve_time 3702.696102924347\n"
     ]
    }
   ],
   "source": [
    "print('actions_len_list', np.mean(actions_len_list))\n",
    "print('explored_len_list', np.mean(explored_len_list) * 100)\n",
    "print('possible_states_list', np.mean(possible_states_list))\n",
    "print('solve_time', np.mean(solve_time))"
   ]
  },
  {
   "cell_type": "code",
   "execution_count": null,
   "metadata": {},
   "outputs": [],
   "source": [
    "temp = []\n",
    "explored_len_list_ = []\n",
    "possible_states_list = []\n",
    "for env, result, explored_len in zip(envs, results, explored_len_list):\n",
    "    x = sum((env.room_state > 0).flatten())\n",
    "    explored_states = 1 / explored_len * len(result)\n",
    "    explored_len_list_.append(explored_states)\n",
    "    possible_states = x * binom(x-1, env.num_boxes)\n",
    "    possible_states_list.append(possible_states)\n",
    "    temp.append(explored_states / possible_states * 100)\n"
   ]
  },
  {
   "cell_type": "code",
   "execution_count": null,
   "metadata": {},
   "outputs": [],
   "source": [
    "stats = {\n",
    "    'actions_len_list': actions_len_list,\n",
    "    'explored_len_list': explored_len_list_,\n",
    "    'possible_states_list': possible_states_list,\n",
    "    'solve_time': solve_time,\n",
    "    'results': results\n",
    "}\n",
    "\n",
    "with gzip.open(f'stats/boxban-medium.pkl.gz', 'wb') as f:\n",
    "    pickle.dump(stats, f, pickle.HIGHEST_PROTOCOL)"
   ]
  },
  {
   "cell_type": "markdown",
   "metadata": {},
   "source": [
    "## plots"
   ]
  },
  {
   "cell_type": "code",
   "execution_count": null,
   "metadata": {},
   "outputs": [],
   "source": [
    "import matplotlib.pyplot as plt"
   ]
  },
  {
   "cell_type": "code",
   "execution_count": null,
   "metadata": {},
   "outputs": [],
   "source": [
    "fig = plt.figure(figsize=(25, 25))\n",
    "for idx, env in enumerate(envs):\n",
    "    img = env.render(mode='rgb_array')\n",
    "    fig.add_subplot(10, 10, idx + 1)\n",
    "    plt.axis('off')\n",
    "    plt.title(f'boxban-medium {idx + 1}')\n",
    "    plt.imshow(img)\n",
    "plt.axis('off')\n",
    "fig.tight_layout()\n",
    "plt.savefig(\"plots/boxban-medium_unsolved.pdf\")\n",
    "plt.show()"
   ]
  },
  {
   "cell_type": "code",
   "execution_count": null,
   "metadata": {},
   "outputs": [],
   "source": [
    "from copy import deepcopy\n",
    "\n",
    "fig = plt.figure(figsize=(25, 25))\n",
    "for idx, (env, actions) in enumerate(zip(envs, results)):\n",
    "    env = deepcopy(env)\n",
    "    \n",
    "    step = 0\n",
    "    for action in actions:\n",
    "        next_state, reward, done, _ = env.step(action)\n",
    "        step += 1\n",
    "    \n",
    "    img = env.render(mode='rgb_array')\n",
    "    fig.add_subplot(10, 10, idx + 1)\n",
    "    plt.axis('off')\n",
    "    plt.title(f'boxban-medium {idx + 1}')\n",
    "    plt.imshow(img)\n",
    "plt.axis('off')\n",
    "fig.tight_layout()\n",
    "plt.savefig(\"plots/boxban-medium_solved.pdf\")\n",
    "plt.show()"
   ]
  },
  {
   "cell_type": "code",
   "execution_count": null,
   "metadata": {},
   "outputs": [],
   "source": []
  },
  {
   "cell_type": "code",
   "execution_count": 14,
   "metadata": {},
   "outputs": [
    {
     "name": "stdout",
     "output_type": "stream",
     "text": [
      "2019-09-18 16:55:33.896081\n"
     ]
    }
   ],
   "source": [
    "import datetime\n",
    "print(datetime.datetime.utcnow())"
   ]
  },
  {
   "cell_type": "code",
   "execution_count": null,
   "metadata": {},
   "outputs": [],
   "source": []
  }
 ],
 "metadata": {
  "kernelspec": {
   "display_name": "Python 3",
   "language": "python",
   "name": "python3"
  },
  "language_info": {
   "codemirror_mode": {
    "name": "ipython",
    "version": 3
   },
   "file_extension": ".py",
   "mimetype": "text/x-python",
   "name": "python",
   "nbconvert_exporter": "python",
   "pygments_lexer": "ipython3",
   "version": "3.7.4"
  },
  "pycharm": {
   "stem_cell": {
    "cell_type": "raw",
    "metadata": {
     "collapsed": false
    },
    "source": []
   }
  }
 },
 "nbformat": 4,
 "nbformat_minor": 1
}

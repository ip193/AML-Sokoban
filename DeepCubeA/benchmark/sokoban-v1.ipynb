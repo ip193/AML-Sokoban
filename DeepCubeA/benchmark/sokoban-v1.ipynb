{
 "cells": [
  {
   "cell_type": "markdown",
   "metadata": {},
   "source": [
    "## imports"
   ]
  },
  {
   "cell_type": "code",
   "execution_count": 1,
   "metadata": {},
   "outputs": [],
   "source": [
    "import sys\n",
    "sys.path.append(\"..\") # Adds higher directory to python modules path"
   ]
  },
  {
   "cell_type": "code",
   "execution_count": 2,
   "metadata": {},
   "outputs": [],
   "source": [
    "from a_star_search import load_model"
   ]
  },
  {
   "cell_type": "code",
   "execution_count": 3,
   "metadata": {
    "pycharm": {
     "name": "#%%\n"
    }
   },
   "outputs": [],
   "source": [
    "model = load_model('models/DAVI_steps_15_10x10-longTraining-no-batchnorm_1565_10.565299987792969.pth', input_size=10*10*4)"
   ]
  },
  {
   "cell_type": "code",
   "execution_count": 4,
   "metadata": {},
   "outputs": [
    {
     "data": {
      "text/plain": [
       "(<pyximport.pyximport.PyImporter at 0x7f49b13d7b10>, None)"
      ]
     },
     "execution_count": 4,
     "metadata": {},
     "output_type": "execute_result"
    }
   ],
   "source": [
    "import pyximport; pyximport.install()\n",
    "pyximport.install(pyimport=True)"
   ]
  },
  {
   "cell_type": "code",
   "execution_count": 5,
   "metadata": {},
   "outputs": [],
   "source": [
    "import gzip\n",
    "import pickle"
   ]
  },
  {
   "cell_type": "code",
   "execution_count": 6,
   "metadata": {},
   "outputs": [
    {
     "data": {
      "text/plain": [
       "270"
      ]
     },
     "execution_count": 6,
     "metadata": {},
     "output_type": "execute_result"
    }
   ],
   "source": [
    "import gc\n",
    "gc.collect()"
   ]
  },
  {
   "cell_type": "markdown",
   "metadata": {},
   "source": [
    "## solve games"
   ]
  },
  {
   "cell_type": "code",
   "execution_count": null,
   "metadata": {
    "pycharm": {
     "name": "#%%\n"
    },
    "scrolled": false
   },
   "outputs": [
    {
     "name": "stdout",
     "output_type": "stream",
     "text": [
      "7.4.0\n"
     ]
    },
    {
     "data": {
      "application/vnd.jupyter.widget-view+json": {
       "model_id": "f6ff45a63eb241d685e548d2b78e417f",
       "version_major": 2,
       "version_minor": 0
      },
      "text/plain": [
       "HBox(children=(IntProgress(value=0), HTML(value='')))"
      ]
     },
     "metadata": {},
     "output_type": "display_data"
    },
    {
     "name": "stderr",
     "output_type": "stream",
     "text": [
      "  1%|          | 936/77520 [00:11<15:20, 83.23it/s]\n",
      "  0%|          | 87/42840 [00:00<08:06, 87.97it/s]\n",
      "  3%|▎         | 3512/101745 [00:41<19:11, 85.29it/s]\n",
      " 41%|████▏     | 575161/1391280 [1:51:57<2:38:51, 85.62it/s]\n",
      " 50%|█████     | 165070/328900 [31:41<30:06, 90.68it/s] \n",
      " 33%|███▎      | 25617/77520 [04:51<09:51, 87.75it/s]\n",
      "  2%|▏         | 1108/58140 [00:12<10:48, 87.98it/s]\n",
      " 23%|██▎       | 61006/265650 [11:39<39:06, 87.20it/s]\n",
      "  8%|▊         | 50271/593775 [09:49<1:46:08, 85.35it/s]\n",
      " 50%|████▉     | 38381/77520 [07:32<07:41, 84.87it/s]\n",
      "  6%|▌         | 47804/849555 [09:09<2:33:30, 87.05it/s]\n",
      " 74%|███████▎  | 1601995/2179485 [5:19:06<1:55:01, 83.67it/s] \n",
      "  8%|▊         | 13415/168245 [02:24<27:44, 93.03it/s]\n",
      "  2%|▏         | 1812/77520 [00:19<13:38, 92.48it/s]\n",
      "  5%|▌         | 29822/593775 [05:25<1:42:44, 91.49it/s]\n",
      "  1%|          | 747/77520 [00:09<15:58, 80.09it/s]\n",
      " 36%|███▋      | 96807/265650 [17:37<30:43, 91.57it/s]  \n",
      "  3%|▎         | 130768/3746990 [23:04<10:38:02, 94.46it/s]\n",
      " 30%|███       | 179283/593775 [31:26<1:11:24, 96.74it/s] \n",
      " 29%|██▉       | 22743/77520 [03:55<09:27, 96.58it/s] \n",
      " 39%|███▉      | 391068/1006880 [1:11:49<1:53:06, 90.74it/s] \n",
      " 85%|████████▍ | 4072822/4812990 [15:09:15<2:45:14, 74.65it/s] \n",
      "  3%|▎         | 23589/712530 [04:40<2:16:22, 84.20it/s]\n",
      " 38%|███▊      | 155296/403650 [30:13<48:20, 85.63it/s]  \n",
      " 71%|███████   | 2341171/3290040 [7:10:04<2:54:18, 90.73it/s] \n",
      "  3%|▎         | 25960/1006880 [04:42<2:59:51, 90.90it/s]\n",
      " 64%|██████▍   | 648873/1006880 [2:04:02<1:08:26, 87.19it/s] \n",
      "  4%|▍         | 21139/491400 [04:32<1:36:44, 81.01it/s]\n",
      " 22%|██▏       | 356990/1623160 [1:10:02<3:49:44, 91.85it/s]\n",
      " 95%|█████████▍| 383420/403650 [1:07:08<03:28, 96.93it/s] \n",
      "  4%|▍         | 76626/1884960 [13:43<5:23:59, 93.02it/s]\n",
      " 59%|█████▉    | 238558/403650 [41:35<28:46, 95.61it/s]  \n",
      "  1%|▏         | 207/15015 [00:02<02:37, 94.23it/s]\n",
      "  4%|▍         | 14130/328900 [02:29<54:03, 97.04it/s]  \n",
      " 42%|████▏     | 496086/1186680 [1:26:42<2:00:42, 95.35it/s] \n",
      " 10%|█         | 73376/712530 [12:50<1:51:48, 95.28it/s] \n",
      " 58%|█████▊    | 153916/265650 [27:20<19:50, 93.85it/s] \n",
      " 15%|█▍        | 11501/77520 [02:00<11:30, 95.56it/s]\n",
      " 47%|████▋     | 755126/1623160 [2:11:47<2:31:29, 95.49it/s] \n",
      " 13%|█▎        | 10389/77520 [01:49<11:45, 95.09it/s]\n",
      " 14%|█▍        | 226699/1623160 [40:28<4:09:19, 93.35it/s] \n",
      " 16%|█▌        | 34505/212520 [06:04<31:22, 94.55it/s]\n",
      "  6%|▋         | 16796/265650 [02:58<44:03, 94.14it/s]\n",
      "  3%|▎         | 4293/131670 [00:44<22:07, 95.98it/s] \n",
      " 16%|█▋        | 116547/712530 [20:32<1:45:04, 94.53it/s]\n",
      " 74%|███████▍  | 2788664/3746990 [9:06:18<3:07:44, 85.08it/s]  \n",
      " 10%|▉         | 113132/1186680 [22:06<3:29:44, 85.30it/s]\n",
      " 46%|████▌     | 1731278/3746990 [5:26:02<6:19:36, 88.50it/s] \n",
      " 20%|█▉        | 8359/42840 [01:31<06:15, 91.85it/s]\n",
      "  2%|▏         | 12853/593775 [02:21<1:46:36, 90.81it/s]\n",
      " 14%|█▎        | 54695/403650 [10:08<1:04:41, 89.91it/s]\n",
      " 24%|██▍       | 118261/491400 [21:55<1:09:09, 89.92it/s]\n",
      " 23%|██▎       | 94165/403650 [16:46<55:08, 93.53it/s]  \n",
      " 61%|██████    | 300608/491400 [53:35<34:00, 93.49it/s]  \n",
      "  2%|▏         | 8328/403650 [01:33<1:13:38, 89.48it/s]\n",
      "  7%|▋         | 153136/2179485 [27:57<6:08:23, 91.67it/s]\n",
      " 18%|█▊        | 104351/593775 [18:48<1:28:12, 92.48it/s]\n",
      " 42%|████▏     | 43037/101745 [07:40<10:28, 93.45it/s]\n",
      " 13%|█▎        | 154520/1186680 [28:06<3:15:28, 88.01it/s]\n",
      "  3%|▎         | 4036/131670 [00:43<22:51, 93.05it/s]\n",
      " 58%|█████▊    | 493912/849555 [1:29:15<1:04:16, 92.22it/s]\n",
      " 29%|██▉       | 29795/101745 [05:21<12:57, 92.57it/s]\n",
      "  7%|▋         | 179592/2509710 [32:58<7:07:48, 90.78it/s] \n",
      " 19%|█▉        | 50522/265650 [09:04<37:32, 95.52it/s]\n",
      "  9%|▉         | 24415/265650 [04:25<43:44, 91.90it/s]\n",
      " 18%|█▊        | 7716/42840 [01:22<05:59, 97.63it/s]\n",
      "  5%|▍         | 73341/1623160 [13:11<4:38:46, 92.66it/s]\n",
      " 12%|█▏        | 31920/265650 [05:45<42:43, 91.16it/s]\n",
      "  0%|          | 8475/2509710 [01:33<7:37:52, 91.04it/s]\n",
      " 46%|████▌     | 544364/1186680 [1:39:28<1:57:22, 91.21it/s]\n",
      "  1%|          | 86/15015 [00:00<02:47, 89.26it/s]\n",
      "  3%|▎         | 14478/491400 [02:39<1:27:42, 90.63it/s]\n",
      "  9%|▉         | 74596/849555 [13:29<2:20:06, 92.18it/s] \n",
      " 28%|██▊       | 16432/58140 [02:57<07:31, 92.39it/s]\n",
      "  2%|▏         | 18314/849555 [03:17<2:29:46, 92.50it/s]\n",
      "  2%|▏         | 56711/2509710 [10:12<7:21:39, 92.57it/s]\n",
      " 33%|███▎      | 108089/328900 [19:38<40:06, 91.74it/s] \n",
      "  6%|▌         | 899/15015 [00:09<02:33, 91.88it/s]\n",
      " 14%|█▎        | 938390/6853770 [2:58:37<17:41:14, 92.90it/s] "
     ]
    }
   ],
   "source": [
    "from a_star_search import search_way\n",
    "from tqdm import tqdm_notebook\n",
    "import time\n",
    "import numpy as np\n",
    "from scipy.special._ufuncs import binom\n",
    "\n",
    "actions_len_list = []\n",
    "explored_len_list = []\n",
    "possible_states_list = []\n",
    "solve_time = []\n",
    "results = []\n",
    "\n",
    "\n",
    "with gzip.open('data/sokoban-v1.pkl.gz', 'rb') as f:\n",
    "    envs = pickle.load(f)\n",
    "\n",
    "for env in tqdm_notebook(envs):\n",
    "    start_time = time.time()\n",
    "    result, explored_len = search_way(env, model)\n",
    "    if type(result) is list and len(result) > 0:\n",
    "        solve_time.append(time.time() - start_time)\n",
    "        actions_len_list.append(len(result))\n",
    "        explored_len_list.append(len(result) / float(explored_len))\n",
    "        x = sum((env.room_state > 0).flatten())\n",
    "        possible_states_list.append(len(result) / x * binom(x-1, env.num_boxes))\n",
    "        results.append(result)\n",
    "    else:\n",
    "        print('ERROR, could not find a path 😢')\n",
    "        "
   ]
  },
  {
   "cell_type": "markdown",
   "metadata": {},
   "source": [
    "## statistics"
   ]
  },
  {
   "cell_type": "code",
   "execution_count": 15,
   "metadata": {},
   "outputs": [
    {
     "name": "stdout",
     "output_type": "stream",
     "text": [
      "actions_len_list 29.95\n",
      "explored_len_list 0.4983309357639707\n",
      "possible_states_list 985322.25\n",
      "solve_time 4006.5738418126107\n"
     ]
    }
   ],
   "source": [
    "print('actions_len_list', np.mean(actions_len_list))\n",
    "print('explored_len_list', np.mean(explored_len_list) * 100)\n",
    "print('possible_states_list', np.mean(possible_states_list))\n",
    "print('solve_time', np.mean(solve_time))"
   ]
  },
  {
   "cell_type": "code",
   "execution_count": null,
   "metadata": {},
   "outputs": [],
   "source": [
    "temp = []\n",
    "explored_len_list_ = []\n",
    "possible_states_list = []\n",
    "for env, result, explored_len in zip(envs, results, explored_len_list):\n",
    "    x = sum((env.room_state > 0).flatten())\n",
    "    explored_states = 1 / explored_len * len(result)\n",
    "    explored_len_list_.append(explored_states)\n",
    "    possible_states = x * binom(x-1, env.num_boxes)\n",
    "    possible_states_list.append(possible_states)\n",
    "    temp.append(explored_states / possible_states * 100)\n"
   ]
  },
  {
   "cell_type": "code",
   "execution_count": null,
   "metadata": {},
   "outputs": [],
   "source": [
    "stats = {\n",
    "    'actions_len_list': actions_len_list,\n",
    "    'explored_len_list': explored_len_list_,\n",
    "    'possible_states_list': possible_states_list,\n",
    "    'solve_time': solve_time,\n",
    "    'results': results\n",
    "}\n",
    "\n",
    "with gzip.open(f'stats/sokoban-v1.pkl.gz', 'wb') as f:\n",
    "    pickle.dump(stats, f, pickle.HIGHEST_PROTOCOL)"
   ]
  },
  {
   "cell_type": "markdown",
   "metadata": {},
   "source": [
    "## plots"
   ]
  },
  {
   "cell_type": "code",
   "execution_count": null,
   "metadata": {},
   "outputs": [],
   "source": [
    "import matplotlib.pyplot as plt"
   ]
  },
  {
   "cell_type": "code",
   "execution_count": null,
   "metadata": {},
   "outputs": [],
   "source": [
    "fig = plt.figure(figsize=(25, 25))\n",
    "for idx, env in enumerate(envs):\n",
    "    img = env.render(mode='rgb_array')\n",
    "    fig.add_subplot(10, 10, idx + 1)\n",
    "    plt.axis('off')\n",
    "    plt.title(f'sokoban-v1 {idx + 1}')\n",
    "    plt.imshow(img)\n",
    "plt.axis('off')\n",
    "fig.tight_layout()\n",
    "plt.savefig(\"plots/sokoban-v1_unsolved.pdf\")\n",
    "plt.show()"
   ]
  },
  {
   "cell_type": "code",
   "execution_count": null,
   "metadata": {},
   "outputs": [],
   "source": [
    "from copy import deepcopy\n",
    "\n",
    "fig = plt.figure(figsize=(25, 25))\n",
    "for idx, (env, actions) in enumerate(zip(envs, results)):\n",
    "    env = deepcopy(env)\n",
    "    \n",
    "    step = 0\n",
    "    for action in actions:\n",
    "        next_state, reward, done, _ = env.step(action)\n",
    "        step += 1\n",
    "    \n",
    "    img = env.render(mode='rgb_array')\n",
    "    fig.add_subplot(10, 10, idx + 1)\n",
    "    plt.axis('off')\n",
    "    plt.title(f'sokoban-v1 {idx + 1}')\n",
    "    plt.imshow(img)\n",
    "plt.axis('off')\n",
    "fig.tight_layout()\n",
    "plt.savefig(\"plots/sokoban-v1_solved.pdf\")\n",
    "plt.show()"
   ]
  },
  {
   "cell_type": "code",
   "execution_count": 13,
   "metadata": {},
   "outputs": [
    {
     "name": "stdout",
     "output_type": "stream",
     "text": [
      "2019-09-18 23:37:48.974937\n"
     ]
    }
   ],
   "source": [
    "import datetime\n",
    "print(datetime.datetime.utcnow())"
   ]
  },
  {
   "cell_type": "code",
   "execution_count": null,
   "metadata": {},
   "outputs": [],
   "source": []
  }
 ],
 "metadata": {
  "kernelspec": {
   "display_name": "Python 3",
   "language": "python",
   "name": "python3"
  },
  "language_info": {
   "codemirror_mode": {
    "name": "ipython",
    "version": 3
   },
   "file_extension": ".py",
   "mimetype": "text/x-python",
   "name": "python",
   "nbconvert_exporter": "python",
   "pygments_lexer": "ipython3",
   "version": "3.7.4"
  },
  "pycharm": {
   "stem_cell": {
    "cell_type": "raw",
    "metadata": {
     "collapsed": false
    },
    "source": []
   }
  }
 },
 "nbformat": 4,
 "nbformat_minor": 1
}

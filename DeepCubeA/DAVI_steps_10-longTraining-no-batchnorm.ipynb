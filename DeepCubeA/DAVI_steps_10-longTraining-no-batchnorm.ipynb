{
 "cells": [
  {
   "cell_type": "markdown",
   "metadata": {},
   "source": [
    "## setup env"
   ]
  },
  {
   "cell_type": "code",
   "execution_count": 1,
   "metadata": {},
   "outputs": [
    {
     "name": "stdout",
     "output_type": "stream",
     "text": [
      "7.4.0\n"
     ]
    }
   ],
   "source": [
    "%load_ext Cython\n",
    "%matplotlib inline"
   ]
  },
  {
   "cell_type": "code",
   "execution_count": 2,
   "metadata": {},
   "outputs": [],
   "source": [
    "DEBUG=False"
   ]
  },
  {
   "cell_type": "code",
   "execution_count": 3,
   "metadata": {},
   "outputs": [],
   "source": [
    "from gym_sokoban.envs import SokobanEnv\n",
    "import matplotlib.pyplot as plt"
   ]
  },
  {
   "cell_type": "markdown",
   "metadata": {},
   "source": [
    "## setup DataGenerator"
   ]
  },
  {
   "cell_type": "code",
   "execution_count": 4,
   "metadata": {},
   "outputs": [],
   "source": [
    "%%cython\n",
    "# --annotate\n",
    "import marshal\n",
    "import numpy as np\n",
    "from gym_sokoban.envs.room_utils import room_topology_generation, box_displacement_score, ACTION_LOOKUP, reverse_move\n",
    "\n",
    "class DataGenerator:\n",
    "    def __init__(self):\n",
    "        self.num_boxes = 0\n",
    "        self.best_actions = []\n",
    "    \n",
    "    \n",
    "    def resetEnv(self, env, num_boxes):\n",
    "        self.num_boxes = num_boxes\n",
    "        empty_room = room_topology_generation(dim=env.dim_room, num_steps=env.num_gen_steps)\n",
    "        return self.place_boxes_and_player(empty_room)\n",
    "        \n",
    "    \n",
    "    def place_boxes_and_player(self, room, second_player=False):\n",
    "        # Get all available positions\n",
    "        possible_positions = np.where(room == 1)\n",
    "        num_possible_positions = possible_positions[0].shape[0]\n",
    "        num_players = 2 if second_player else 1\n",
    "\n",
    "        if num_possible_positions <= self.num_boxes + num_players:\n",
    "            raise RuntimeError('Not enough free spots (#{}) to place {} player and {} boxes.'.format(\n",
    "                num_possible_positions,\n",
    "                num_players,\n",
    "                self.num_boxes)\n",
    "            )\n",
    "\n",
    "        placed_player = False\n",
    "\n",
    "        # place boxes\n",
    "        for n in range(self.num_boxes):\n",
    "            possible_positions = np.where(room == 1)\n",
    "            num_possible_positions = possible_positions[0].shape[0]\n",
    "\n",
    "            ind = np.random.randint(num_possible_positions)\n",
    "            box_position = possible_positions[0][ind], possible_positions[1][ind]\n",
    "            room[box_position] = 2\n",
    "\n",
    "            # place player\n",
    "            if not placed_player:\n",
    "                for player_position in [\n",
    "                    (box_position[0] + 1, box_position[1]), (box_position[0] - 1, box_position[1]),\n",
    "                    (box_position[0], box_position[1] + 1), (box_position[0], box_position[1] - 1)\n",
    "                ]:\n",
    "                    if room[player_position] == 1:\n",
    "                        room[player_position] = 5\n",
    "                        placed_player = True\n",
    "                        break\n",
    "\n",
    "        return room\n",
    "    \n",
    "    def get_room_state(self, room):\n",
    "        # Room structure represents the current state of the room including movable parts\n",
    "        room_state = room.copy()\n",
    "        room_state[room_state == 2] = 4\n",
    "        return room_state\n",
    "    \n",
    "    def get_room_structure(self, room):\n",
    "        # Room fixed represents all not movable parts of the room\n",
    "        room_structure = np.copy(room)\n",
    "        room_structure[room_structure == 5] = 1\n",
    "        return room_structure\n",
    "\n",
    "    def reverse_playing(self, room_state, room_structure, max_action_length, explored_states_max):\n",
    "        \"\"\"\n",
    "        This function plays Sokoban reverse in a way, such that the player can move and pull boxes.\n",
    "        It ensures a solvable level with all boxes not being placed on a box target.\n",
    "        \"\"\"\n",
    "\n",
    "        # Box_Mapping is used to calculate the box displacement for every box\n",
    "        box_mapping = {}\n",
    "        box_locations = np.where(room_structure == 2)\n",
    "        num_boxes = len(box_locations[0])\n",
    "        for l in range(num_boxes):\n",
    "            box = (box_locations[0][l], box_locations[1][l])\n",
    "            box_mapping[box] = box\n",
    "\n",
    "        # reset explored_states globally stores the best room state and score found during search\n",
    "        self.explored_states = set()\n",
    "        self.best_room_score = -1\n",
    "        self.best_box_mapping = box_mapping\n",
    "        self.depth_first_search(room_state, room_structure, box_mapping,\n",
    "                                box_swaps=0, last_pull=(-1, -1), ttl=300, max_action_length=max_action_length, explored_states_max=explored_states_max)\n",
    "\n",
    "        \n",
    "        \n",
    "        return self.best_room, self.best_room_score, self.best_box_mapping\n",
    "\n",
    "    \n",
    "    def depth_first_search(self, room_state, room_structure, box_mapping, box_swaps=0,\n",
    "                           last_pull=(-1, -1), ttl=300, actions=None, old_room_states=None, distances=None,\n",
    "                           max_action_length=30, explored_states_max=100000):\n",
    "        \"\"\"\n",
    "        Searches through all possible states of the room.\n",
    "        \"\"\"\n",
    "        if actions is None:\n",
    "            actions = [-1]\n",
    "        if old_room_states is None:\n",
    "            old_room_states = []\n",
    "        if distances is None:\n",
    "            distances = []\n",
    "\n",
    "        ttl -= 1\n",
    "        if ttl <= 0 or len(self.explored_states) >= explored_states_max:\n",
    "            return\n",
    "\n",
    "        state_tohash = marshal.dumps(room_state)\n",
    "\n",
    "        # Only search this state, if it not yet has been explored\n",
    "        if not (state_tohash in self.explored_states):\n",
    "\n",
    "            if len(distances) == 0:\n",
    "                distances.append(0)\n",
    "                old_room_states.append(room_state)\n",
    "\n",
    "            # Add current state and its score to explored states\n",
    "            room_score = box_swaps * box_displacement_score(box_mapping)\n",
    "            if np.where(room_state == 2)[0].shape[0] != self.num_boxes:\n",
    "                room_score = 0\n",
    "\n",
    "            if room_score > self.best_room_score:\n",
    "                self.best_room = room_state\n",
    "                self.best_room_score = room_score\n",
    "                self.best_box_mapping = box_mapping\n",
    "                self.best_actions = actions\n",
    "                self.best_old_room_states = old_room_states\n",
    "                self.best_distances = distances\n",
    "\n",
    "            self.explored_states.add(state_tohash)\n",
    "\n",
    "            for action in ACTION_LOOKUP.keys():\n",
    "                # The state and box mapping  need to be copied to ensure\n",
    "                # every action start from a similar state.\n",
    "                room_state_next = room_state.copy()\n",
    "                box_mapping_next = box_mapping.copy()\n",
    "                actions_next = actions.copy()\n",
    "                old_room_states_next = old_room_states.copy()\n",
    "                distances_next = distances.copy()\n",
    "\n",
    "                room_state_next, box_mapping_next, last_pull_next = \\\n",
    "                    reverse_move(room_state_next, room_structure, box_mapping_next, last_pull, action)\n",
    "\n",
    "                box_swaps_next = box_swaps\n",
    "                if not np.array_equal(room_state_next, room_state):  # only use room_state if something has changed\n",
    "                    if len(np.where(room_state_next == 2)[0]) > 0:  # only save actions if not solved\n",
    "                        actions_next.append(action)\n",
    "                        distances_next.append(len(actions_next) - 1)  # last action is nop\n",
    "                        old_room_states_next.append(room_state_next)\n",
    "\n",
    "                    if last_pull_next != last_pull:\n",
    "                        box_swaps_next += 1\n",
    "\n",
    "                    if len(actions_next) < max_action_length:\n",
    "                        self.depth_first_search(room_state_next, room_structure,\n",
    "                                                box_mapping_next, box_swaps_next,\n",
    "                                                last_pull, ttl, actions_next, old_room_states_next,\n",
    "                                                distances_next, max_action_length=max_action_length,\n",
    "                                                explored_states_max=explored_states_max)\n",
    "\n",
    "\n",
    "def action_solver(actions):\n",
    "    action_mapper = {-1: -1, 0: 1, 1: 0, 2: 3, 3: 2, 4: 5, 5: 4, 6: 7, 7: 6}\n",
    "    solution = []\n",
    "    for action in actions:\n",
    "        solution.append(action_mapper[action])\n",
    "    return solution"
   ]
  },
  {
   "cell_type": "code",
   "execution_count": 5,
   "metadata": {},
   "outputs": [],
   "source": [
    "def genereate_game(env, gen_data, num_boxes, max_action_length=10, explored_states_max=1000):\n",
    "    \n",
    "    gen_data.best_actions = []\n",
    "    while len(gen_data.best_actions) < 2:\n",
    "        try:\n",
    "            room = gen_data.resetEnv(env, num_boxes)\n",
    "\n",
    "            room_state = gen_data.get_room_state(room)\n",
    "\n",
    "            # plt.imshow(room)\n",
    "            # plt.show()\n",
    "\n",
    "            room_state = gen_data.get_room_state(room)\n",
    "            room_structure = gen_data.get_room_structure(room)\n",
    "\n",
    "            room_state, score, box_mapping = gen_data.reverse_playing(room_state, room_structure, max_action_length, explored_states_max)\n",
    "        except Exception as e:\n",
    "            if DEBUG:\n",
    "                print(e)\n",
    "    \n",
    "    gen_data.best_old_room_states[-1] = room_state.copy() # quick hack to fix last room not be the first room\n",
    "\n",
    "    # plt.imshow(room_state)\n",
    "    # plt.show()\n",
    "\n",
    "    env.room_fixed, env.room_state, env.box_mapping = room, room_state, box_mapping\n",
    "    env.room_state[env.room_state == 3] = 4  # fix \"box marked as on target\"\n",
    "    env.room_state[(env.room_state == 4) & (env.room_fixed == 2)] = 3  # check if really not on target\n",
    "    env.player_position = np.argwhere(env.room_state == 5)[0]\n",
    "    env.num_env_steps = 0\n",
    "    env.reward_last = 0\n",
    "    env.boxes_on_target = 0\n",
    "\n",
    "    # observation = env.render(mode='rgb_array')\n",
    "    # plt.imshow(observation)\n",
    "    # plt.show()\n",
    "\n",
    "    actions_solution = action_solver(gen_data.best_actions)\n",
    "    # print(actions_solution)\n",
    "    \n",
    "    return actions_solution"
   ]
  },
  {
   "cell_type": "markdown",
   "metadata": {},
   "source": [
    "## benchmark generate games"
   ]
  },
  {
   "cell_type": "code",
   "execution_count": 6,
   "metadata": {},
   "outputs": [
    {
     "name": "stdout",
     "output_type": "stream",
     "text": [
      "149 states\n",
      "1192 states after augmentation\n",
      "CPU times: user 1.19 s, sys: 15.8 ms, total: 1.2 s\n",
      "Wall time: 1.2 s\n"
     ]
    }
   ],
   "source": [
    "%%time\n",
    "\n",
    "num_total_states = 0\n",
    "\n",
    "for _ in range(10):\n",
    "    num_boxes=3\n",
    "\n",
    "    env = SokobanEnv(dim_room=(7, 7), num_boxes=num_boxes, num_gen_steps=None, reset=False)\n",
    "    gen_data = DataGenerator()\n",
    "    actions_solution = genereate_game(env, gen_data, num_boxes, max_action_length=20, explored_states_max=5000)\n",
    "    num_total_states += len(gen_data.best_old_room_states)\n",
    "\n",
    "print(f'{num_total_states} states')\n",
    "print(f'{num_total_states * 8} states after augmentation')"
   ]
  },
  {
   "cell_type": "markdown",
   "metadata": {},
   "source": [
    "### preview generated games"
   ]
  },
  {
   "cell_type": "code",
   "execution_count": 7,
   "metadata": {
    "scrolled": true
   },
   "outputs": [
    {
     "name": "stdout",
     "output_type": "stream",
     "text": [
      "-1 do push up   \n"
     ]
    },
    {
     "data": {
      "image/png": "[encoded data removed]",
      "text/plain": [
       "<Figure size 432x288 with 1 Axes>"
      ]
     },
     "metadata": {
      "needs_background": "light"
     },
     "output_type": "display_data"
    },
    {
     "name": "stdout",
     "output_type": "stream",
     "text": [
      "-2 do push up   \n"
     ]
    },
    {
     "data": {
      "image/png": "[encoded data removed]",
      "text/plain": [
       "<Figure size 432x288 with 1 Axes>"
      ]
     },
     "metadata": {
      "needs_background": "light"
     },
     "output_type": "display_data"
    },
    {
     "name": "stdout",
     "output_type": "stream",
     "text": [
      "-3 do push down \n"
     ]
    },
    {
     "data": {
      "image/png": "[encoded data removed]",
      "text/plain": [
       "<Figure size 432x288 with 1 Axes>"
      ]
     },
     "metadata": {
      "needs_background": "light"
     },
     "output_type": "display_data"
    },
    {
     "name": "stdout",
     "output_type": "stream",
     "text": [
      "-4 do push left \n"
     ]
    },
    {
     "data": {
      "image/png": "[encoded data removed]",
      "text/plain": [
       "<Figure size 432x288 with 1 Axes>"
      ]
     },
     "metadata": {
      "needs_background": "light"
     },
     "output_type": "display_data"
    },
    {
     "name": "stdout",
     "output_type": "stream",
     "text": [
      "-5 do push up   \n"
     ]
    },
    {
     "data": {
      "image/png": "[encoded data removed]",
      "text/plain": [
       "<Figure size 432x288 with 1 Axes>"
      ]
     },
     "metadata": {
      "needs_background": "light"
     },
     "output_type": "display_data"
    },
    {
     "name": "stdout",
     "output_type": "stream",
     "text": [
      "-6 do push up   \n"
     ]
    },
    {
     "data": {
      "image/png": "[encoded data removed]",
      "text/plain": [
       "<Figure size 432x288 with 1 Axes>"
      ]
     },
     "metadata": {
      "needs_background": "light"
     },
     "output_type": "display_data"
    },
    {
     "name": "stdout",
     "output_type": "stream",
     "text": [
      "-7 do push left \n"
     ]
    },
    {
     "data": {
      "image/png": "[encoded data removed]",
      "text/plain": [
       "<Figure size 432x288 with 1 Axes>"
      ]
     },
     "metadata": {
      "needs_background": "light"
     },
     "output_type": "display_data"
    },
    {
     "name": "stdout",
     "output_type": "stream",
     "text": [
      "-8 do push left \n"
     ]
    },
    {
     "data": {
      "image/png": "[encoded data removed]",
      "text/plain": [
       "<Figure size 432x288 with 1 Axes>"
      ]
     },
     "metadata": {
      "needs_background": "light"
     },
     "output_type": "display_data"
    },
    {
     "name": "stdout",
     "output_type": "stream",
     "text": [
      "-9 do push down \n"
     ]
    },
    {
     "data": {
      "image/png": "[encoded data removed]",
      "text/plain": [
       "<Figure size 432x288 with 1 Axes>"
      ]
     },
     "metadata": {
      "needs_background": "light"
     },
     "output_type": "display_data"
    },
    {
     "name": "stdout",
     "output_type": "stream",
     "text": [
      "-10 do push right\n"
     ]
    },
    {
     "data": {
      "image/png": "[encoded data removed]",
      "text/plain": [
       "<Figure size 432x288 with 1 Axes>"
      ]
     },
     "metadata": {
      "needs_background": "light"
     },
     "output_type": "display_data"
    },
    {
     "name": "stdout",
     "output_type": "stream",
     "text": [
      "-11 do push right\n"
     ]
    },
    {
     "data": {
      "image/png": "[encoded data removed]",
      "text/plain": [
       "<Figure size 432x288 with 1 Axes>"
      ]
     },
     "metadata": {
      "needs_background": "light"
     },
     "output_type": "display_data"
    },
    {
     "name": "stdout",
     "output_type": "stream",
     "text": [
      "👌 Episode finished after 12 timesteps\n",
      "11.9\n"
     ]
    }
   ],
   "source": [
    "import time\n",
    "\n",
    "score = 0\n",
    "ACTION_LOOKUP = env.unwrapped.get_action_lookup()\n",
    "done = False\n",
    "\n",
    "plt.imshow(env.render('rgb_array'))\n",
    "for t in range(1, len(actions_solution) + 1):\n",
    "    action = actions_solution[-t] + 1  # ignore 0 = no operation\n",
    "    print(f'{-t} do {ACTION_LOOKUP[action]:10}')\n",
    "\n",
    "    observation, reward, done, info = env.step(action)\n",
    "    plt.imshow(observation)\n",
    "    plt.axis('off')\n",
    "    plt.show()\n",
    "    time.sleep(0.1)\n",
    "    score += reward\n",
    "    \n",
    "    if done:\n",
    "        print('👌', \"Episode finished after {} timesteps\".format(t + 1))\n",
    "        break\n",
    "\n",
    "print(score)\n",
    "env.close()"
   ]
  },
  {
   "cell_type": "code",
   "execution_count": 8,
   "metadata": {},
   "outputs": [
    {
     "name": "stdout",
     "output_type": "stream",
     "text": [
      "18\n"
     ]
    }
   ],
   "source": [
    "print(len(gen_data.best_old_room_states))"
   ]
  },
  {
   "cell_type": "code",
   "execution_count": 9,
   "metadata": {
    "scrolled": true
   },
   "outputs": [
    {
     "name": "stdout",
     "output_type": "stream",
     "text": [
      "[[0 0 0 0 0 0 0]\n",
      " [0 1 1 1 4 1 0]\n",
      " [0 1 1 1 4 1 0]\n",
      " [0 0 4 1 1 1 0]\n",
      " [0 0 5 1 1 0 0]\n",
      " [0 0 0 0 0 0 0]\n",
      " [0 0 0 0 0 0 0]]\n"
     ]
    },
    {
     "data": {
      "image/png": "[encoded data removed]",
      "text/plain": [
       "<Figure size 432x288 with 1 Axes>"
      ]
     },
     "metadata": {
      "needs_background": "light"
     },
     "output_type": "display_data"
    },
    {
     "name": "stdout",
     "output_type": "stream",
     "text": [
      "[[0 0 0 0 0 0 0]\n",
      " [0 1 5 1 4 1 0]\n",
      " [0 1 3 1 4 1 0]\n",
      " [0 0 2 1 1 1 0]\n",
      " [0 0 1 1 1 0 0]\n",
      " [0 0 0 0 0 0 0]\n",
      " [0 0 0 0 0 0 0]]\n"
     ]
    },
    {
     "data": {
      "image/png": "[encoded data removed]",
      "text/plain": [
       "<Figure size 432x288 with 1 Axes>"
      ]
     },
     "metadata": {
      "needs_background": "light"
     },
     "output_type": "display_data"
    },
    {
     "name": "stdout",
     "output_type": "stream",
     "text": [
      "[[0 0 0 0 0 0 0]\n",
      " [0 1 1 5 4 1 0]\n",
      " [0 1 3 1 4 1 0]\n",
      " [0 0 2 1 1 1 0]\n",
      " [0 0 1 1 1 0 0]\n",
      " [0 0 0 0 0 0 0]\n",
      " [0 0 0 0 0 0 0]]\n"
     ]
    },
    {
     "data": {
      "image/png": "[encoded data removed]",
      "text/plain": [
       "<Figure size 432x288 with 1 Axes>"
      ]
     },
     "metadata": {
      "needs_background": "light"
     },
     "output_type": "display_data"
    },
    {
     "name": "stdout",
     "output_type": "stream",
     "text": [
      "[[0 0 0 0 0 0 0]\n",
      " [0 1 1 1 4 1 0]\n",
      " [0 1 3 5 4 1 0]\n",
      " [0 0 2 1 1 1 0]\n",
      " [0 0 1 1 1 0 0]\n",
      " [0 0 0 0 0 0 0]\n",
      " [0 0 0 0 0 0 0]]\n"
     ]
    },
    {
     "data": {
      "image/png": "[encoded data removed]",
      "text/plain": [
       "<Figure size 432x288 with 1 Axes>"
      ]
     },
     "metadata": {
      "needs_background": "light"
     },
     "output_type": "display_data"
    },
    {
     "name": "stdout",
     "output_type": "stream",
     "text": [
      "[[0 0 0 0 0 0 0]\n",
      " [0 1 1 1 4 1 0]\n",
      " [0 1 3 1 4 1 0]\n",
      " [0 0 2 5 1 1 0]\n",
      " [0 0 1 1 1 0 0]\n",
      " [0 0 0 0 0 0 0]\n",
      " [0 0 0 0 0 0 0]]\n"
     ]
    },
    {
     "data": {
      "image/png": "[encoded data removed]",
      "text/plain": [
       "<Figure size 432x288 with 1 Axes>"
      ]
     },
     "metadata": {
      "needs_background": "light"
     },
     "output_type": "display_data"
    },
    {
     "name": "stdout",
     "output_type": "stream",
     "text": [
      "[[0 0 0 0 0 0 0]\n",
      " [0 1 1 1 4 1 0]\n",
      " [0 1 3 1 4 1 0]\n",
      " [0 0 2 1 1 1 0]\n",
      " [0 0 1 5 1 0 0]\n",
      " [0 0 0 0 0 0 0]\n",
      " [0 0 0 0 0 0 0]]\n"
     ]
    },
    {
     "data": {
      "image/png": "[encoded data removed]",
      "text/plain": [
       "<Figure size 432x288 with 1 Axes>"
      ]
     },
     "metadata": {
      "needs_background": "light"
     },
     "output_type": "display_data"
    },
    {
     "name": "stdout",
     "output_type": "stream",
     "text": [
      "[[0 0 0 0 0 0 0]\n",
      " [0 1 1 1 4 1 0]\n",
      " [0 1 3 1 4 1 0]\n",
      " [0 0 2 1 1 1 0]\n",
      " [0 0 5 1 1 0 0]\n",
      " [0 0 0 0 0 0 0]\n",
      " [0 0 0 0 0 0 0]]\n"
     ]
    },
    {
     "data": {
      "image/png": "[encoded data removed]",
      "text/plain": [
       "<Figure size 432x288 with 1 Axes>"
      ]
     },
     "metadata": {
      "needs_background": "light"
     },
     "output_type": "display_data"
    },
    {
     "name": "stdout",
     "output_type": "stream",
     "text": [
      "[[0 0 0 0 0 0 0]\n",
      " [0 1 1 1 4 1 0]\n",
      " [0 1 5 3 2 1 0]\n",
      " [0 0 3 1 1 1 0]\n",
      " [0 0 1 1 1 0 0]\n",
      " [0 0 0 0 0 0 0]\n",
      " [0 0 0 0 0 0 0]]\n"
     ]
    },
    {
     "data": {
      "image/png": "[encoded data removed]",
      "text/plain": [
       "<Figure size 432x288 with 1 Axes>"
      ]
     },
     "metadata": {
      "needs_background": "light"
     },
     "output_type": "display_data"
    },
    {
     "name": "stdout",
     "output_type": "stream",
     "text": [
      "[[0 0 0 0 0 0 0]\n",
      " [0 1 1 1 4 1 0]\n",
      " [0 5 3 1 2 1 0]\n",
      " [0 0 3 1 1 1 0]\n",
      " [0 0 1 1 1 0 0]\n",
      " [0 0 0 0 0 0 0]\n",
      " [0 0 0 0 0 0 0]]\n"
     ]
    },
    {
     "data": {
      "image/png": "[encoded data removed]",
      "text/plain": [
       "<Figure size 432x288 with 1 Axes>"
      ]
     },
     "metadata": {
      "needs_background": "light"
     },
     "output_type": "display_data"
    },
    {
     "name": "stdout",
     "output_type": "stream",
     "text": [
      "[[0 0 0 0 0 0 0]\n",
      " [0 5 1 1 4 1 0]\n",
      " [0 1 3 1 2 1 0]\n",
      " [0 0 3 1 1 1 0]\n",
      " [0 0 1 1 1 0 0]\n",
      " [0 0 0 0 0 0 0]\n",
      " [0 0 0 0 0 0 0]]\n"
     ]
    },
    {
     "data": {
      "image/png": "[encoded data removed]",
      "text/plain": [
       "<Figure size 432x288 with 1 Axes>"
      ]
     },
     "metadata": {
      "needs_background": "light"
     },
     "output_type": "display_data"
    },
    {
     "name": "stdout",
     "output_type": "stream",
     "text": [
      "[[0 0 0 0 0 0 0]\n",
      " [0 1 5 1 4 1 0]\n",
      " [0 1 3 1 2 1 0]\n",
      " [0 0 3 1 1 1 0]\n",
      " [0 0 1 1 1 0 0]\n",
      " [0 0 0 0 0 0 0]\n",
      " [0 0 0 0 0 0 0]]\n"
     ]
    },
    {
     "data": {
      "image/png": "[encoded data removed]",
      "text/plain": [
       "<Figure size 432x288 with 1 Axes>"
      ]
     },
     "metadata": {
      "needs_background": "light"
     },
     "output_type": "display_data"
    },
    {
     "name": "stdout",
     "output_type": "stream",
     "text": [
      "[[0 0 0 0 0 0 0]\n",
      " [0 1 1 5 4 1 0]\n",
      " [0 1 3 1 2 1 0]\n",
      " [0 0 3 1 1 1 0]\n",
      " [0 0 1 1 1 0 0]\n",
      " [0 0 0 0 0 0 0]\n",
      " [0 0 0 0 0 0 0]]\n"
     ]
    },
    {
     "data": {
      "image/png": "[encoded data removed]",
      "text/plain": [
       "<Figure size 432x288 with 1 Axes>"
      ]
     },
     "metadata": {
      "needs_background": "light"
     },
     "output_type": "display_data"
    },
    {
     "name": "stdout",
     "output_type": "stream",
     "text": [
      "[[0 0 0 0 0 0 0]\n",
      " [0 1 1 1 4 1 0]\n",
      " [0 1 3 5 2 1 0]\n",
      " [0 0 3 1 1 1 0]\n",
      " [0 0 1 1 1 0 0]\n",
      " [0 0 0 0 0 0 0]\n",
      " [0 0 0 0 0 0 0]]\n"
     ]
    },
    {
     "data": {
      "image/png": "[encoded data removed]",
      "text/plain": [
       "<Figure size 432x288 with 1 Axes>"
      ]
     },
     "metadata": {
      "needs_background": "light"
     },
     "output_type": "display_data"
    },
    {
     "name": "stdout",
     "output_type": "stream",
     "text": [
      "[[0 0 0 0 0 0 0]\n",
      " [0 1 1 1 4 1 0]\n",
      " [0 1 3 1 2 1 0]\n",
      " [0 0 3 5 1 1 0]\n",
      " [0 0 1 1 1 0 0]\n",
      " [0 0 0 0 0 0 0]\n",
      " [0 0 0 0 0 0 0]]\n"
     ]
    },
    {
     "data": {
      "image/png": "[encoded data removed]",
      "text/plain": [
       "<Figure size 432x288 with 1 Axes>"
      ]
     },
     "metadata": {
      "needs_background": "light"
     },
     "output_type": "display_data"
    },
    {
     "name": "stdout",
     "output_type": "stream",
     "text": [
      "[[0 0 0 0 0 0 0]\n",
      " [0 1 1 1 4 1 0]\n",
      " [0 1 3 1 2 1 0]\n",
      " [0 0 2 3 5 1 0]\n",
      " [0 0 1 1 1 0 0]\n",
      " [0 0 0 0 0 0 0]\n",
      " [0 0 0 0 0 0 0]]\n"
     ]
    },
    {
     "data": {
      "image/png": "[encoded data removed]",
      "text/plain": [
       "<Figure size 432x288 with 1 Axes>"
      ]
     },
     "metadata": {
      "needs_background": "light"
     },
     "output_type": "display_data"
    },
    {
     "name": "stdout",
     "output_type": "stream",
     "text": [
      "[[0 0 0 0 0 0 0]\n",
      " [0 1 1 1 4 1 0]\n",
      " [0 1 3 1 5 1 0]\n",
      " [0 0 2 3 1 1 0]\n",
      " [0 0 1 1 1 0 0]\n",
      " [0 0 0 0 0 0 0]\n",
      " [0 0 0 0 0 0 0]]\n"
     ]
    },
    {
     "data": {
      "image/png": "[encoded data removed]",
      "text/plain": [
       "<Figure size 432x288 with 1 Axes>"
      ]
     },
     "metadata": {
      "needs_background": "light"
     },
     "output_type": "display_data"
    },
    {
     "name": "stdout",
     "output_type": "stream",
     "text": [
      "[[0 0 0 0 0 0 0]\n",
      " [0 1 1 1 2 1 0]\n",
      " [0 1 3 1 3 1 0]\n",
      " [0 0 2 3 5 1 0]\n",
      " [0 0 1 1 1 0 0]\n",
      " [0 0 0 0 0 0 0]\n",
      " [0 0 0 0 0 0 0]]\n"
     ]
    },
    {
     "data": {
      "image/png": "[encoded data removed]",
      "text/plain": [
       "<Figure size 432x288 with 1 Axes>"
      ]
     },
     "metadata": {
      "needs_background": "light"
     },
     "output_type": "display_data"
    },
    {
     "name": "stdout",
     "output_type": "stream",
     "text": [
      "[[0 0 0 0 0 0 0]\n",
      " [0 1 1 1 2 1 0]\n",
      " [0 1 3 1 2 1 0]\n",
      " [0 0 2 3 3 1 0]\n",
      " [0 0 1 1 5 0 0]\n",
      " [0 0 0 0 0 0 0]\n",
      " [0 0 0 0 0 0 0]]\n"
     ]
    },
    {
     "data": {
      "image/png": "[encoded data removed]",
      "text/plain": [
       "<Figure size 432x288 with 1 Axes>"
      ]
     },
     "metadata": {
      "needs_background": "light"
     },
     "output_type": "display_data"
    }
   ],
   "source": [
    "for best_old_room_state in gen_data.best_old_room_states:\n",
    "    print(best_old_room_state)\n",
    "    plt.imshow(best_old_room_state)\n",
    "    plt.axis('off')\n",
    "    plt.show()"
   ]
  },
  {
   "cell_type": "code",
   "execution_count": 10,
   "metadata": {
    "scrolled": false
   },
   "outputs": [],
   "source": [
    "%%cython\n",
    "import numpy as np\n",
    "\n",
    "def augment_data(org_image):\n",
    "    augmented_data = []\n",
    "    for k in range(4):\n",
    "        image = np.rot90(org_image, k)\n",
    "        augmented_data.append(image)\n",
    "        augmented_data.append(np.fliplr(image))\n",
    "\n",
    "    return augmented_data"
   ]
  },
  {
   "cell_type": "code",
   "execution_count": 11,
   "metadata": {
    "scrolled": true
   },
   "outputs": [
    {
     "data": {
      "image/png": "[encoded data removed]",
      "text/plain": [
       "<Figure size 432x288 with 1 Axes>"
      ]
     },
     "metadata": {
      "needs_background": "light"
     },
     "output_type": "display_data"
    },
    {
     "data": {
      "image/png": "[encoded data removed]",
      "text/plain": [
       "<Figure size 432x288 with 1 Axes>"
      ]
     },
     "metadata": {
      "needs_background": "light"
     },
     "output_type": "display_data"
    },
    {
     "data": {
      "image/png": "[encoded data removed]",
      "text/plain": [
       "<Figure size 432x288 with 1 Axes>"
      ]
     },
     "metadata": {
      "needs_background": "light"
     },
     "output_type": "display_data"
    },
    {
     "data": {
      "image/png": "[encoded data removed]",
      "text/plain": [
       "<Figure size 432x288 with 1 Axes>"
      ]
     },
     "metadata": {
      "needs_background": "light"
     },
     "output_type": "display_data"
    },
    {
     "data": {
      "image/png": "[encoded data removed]",
      "text/plain": [
       "<Figure size 432x288 with 1 Axes>"
      ]
     },
     "metadata": {
      "needs_background": "light"
     },
     "output_type": "display_data"
    },
    {
     "data": {
      "image/png": "[encoded data removed]",
      "text/plain": [
       "<Figure size 432x288 with 1 Axes>"
      ]
     },
     "metadata": {
      "needs_background": "light"
     },
     "output_type": "display_data"
    },
    {
     "data": {
      "image/png": "[encoded data removed]",
      "text/plain": [
       "<Figure size 432x288 with 1 Axes>"
      ]
     },
     "metadata": {
      "needs_background": "light"
     },
     "output_type": "display_data"
    },
    {
     "data": {
      "image/png": "[encoded data removed]",
      "text/plain": [
       "<Figure size 432x288 with 1 Axes>"
      ]
     },
     "metadata": {
      "needs_background": "light"
     },
     "output_type": "display_data"
    }
   ],
   "source": [
    "augmented_data = augment_data(gen_data.best_old_room_states[0])\n",
    "for image in augmented_data:\n",
    "    plt.imshow(image)\n",
    "    plt.axis('off')\n",
    "    plt.show()"
   ]
  },
  {
   "cell_type": "markdown",
   "metadata": {},
   "source": [
    "## generate and augmentate data"
   ]
  },
  {
   "cell_type": "code",
   "execution_count": 12,
   "metadata": {},
   "outputs": [],
   "source": [
    "def gen_states_distances(env, gen_data, num_boxes=3, max_action_length=20):\n",
    "    actions_solution = genereate_game(env, gen_data, num_boxes, max_action_length, explored_states_max=5000)\n",
    "    \n",
    "    distances, room_states, room_structures = [], [], []\n",
    "    for distance, room_state in zip(gen_data.best_distances, gen_data.best_old_room_states):\n",
    "        for augmented_data in augment_data(room_state):\n",
    "            distances.append(distance)\n",
    "            room_states.append(augmented_data)\n",
    "            room_structures.append(env.room_fixed)\n",
    "\n",
    "    return distances, room_states, room_structures"
   ]
  },
  {
   "cell_type": "markdown",
   "metadata": {},
   "source": [
    "### benchmark generation and augmentation"
   ]
  },
  {
   "cell_type": "code",
   "execution_count": 13,
   "metadata": {},
   "outputs": [
    {
     "name": "stdout",
     "output_type": "stream",
     "text": [
      "8280\n",
      "CPU times: user 3.69 s, sys: 59.3 ms, total: 3.75 s\n",
      "Wall time: 3.71 s\n"
     ]
    }
   ],
   "source": [
    "%%time\n",
    "env = SokobanEnv(dim_room=(7, 7), num_boxes=num_boxes, num_gen_steps=None, reset=False)\n",
    "gen_data = DataGenerator()\n",
    "\n",
    "distances, room_states, room_structures = [], [], []\n",
    "for _ in range(100):\n",
    "    distances_, room_states_, room_structures_ = gen_states_distances(env, gen_data, num_boxes=2, max_action_length=15)\n",
    "    distances.extend(distances_)\n",
    "    room_states.extend(room_states_)\n",
    "    room_structures.extend(room_structures_)\n",
    "# print(distances)\n",
    "print(len(room_states))"
   ]
  },
  {
   "cell_type": "code",
   "execution_count": null,
   "metadata": {},
   "outputs": [],
   "source": []
  },
  {
   "cell_type": "code",
   "execution_count": 14,
   "metadata": {},
   "outputs": [],
   "source": [
    "from torch.utils.data import Dataset, DataLoader\n",
    "\n",
    "class SokobanDataset(Dataset):\n",
    "    def __init__(self, num_boxes=2, max_action_length=15):\n",
    "        self.num_boxes = num_boxes\n",
    "        self.max_action_length = max_action_length\n",
    "        \n",
    "        self.env = SokobanEnv(dim_room=(7, 7), num_boxes=num_boxes, num_gen_steps=None, reset=False)\n",
    "        self.gen_data = DataGenerator()\n",
    "        \n",
    "        self.data = []\n",
    "        self.targets = []\n",
    "\n",
    "    def __len__(self):\n",
    "        return 100000\n",
    "\n",
    "    def __getitem__(self, idx):\n",
    "        if len(self.data) < 1:\n",
    "            targets, room_states, room_structures = gen_states_distances(self.env, self.gen_data, num_boxes=self.num_boxes, max_action_length=self.max_action_length)\n",
    "            self.targets.extend(targets)\n",
    "            \n",
    "            for room_state, room_structure in zip(room_states, room_structures):\n",
    "                wall_map = torch.from_numpy((room_state == 0).astype(int)).flatten()\n",
    "                target_map = torch.from_numpy((room_structure == 2).astype(int)).flatten()\n",
    "                boxes_map = torch.from_numpy(((room_state == 3) | (room_state == 4)).astype(int)).flatten()\n",
    "                agent_map = torch.from_numpy((room_state == 5).astype(int)).flatten()\n",
    "                \n",
    "                self.data.append(torch.cat((wall_map, target_map, boxes_map, agent_map), 0))\n",
    "\n",
    "        return self.data.pop(), self.targets.pop()"
   ]
  },
  {
   "cell_type": "code",
   "execution_count": 15,
   "metadata": {},
   "outputs": [],
   "source": [
    "class SokobanDatasetTest(Dataset):\n",
    "    def __init__(self, num_boxes=2, max_action_length=15):\n",
    "        self.num_boxes = num_boxes\n",
    "        self.max_action_length = max_action_length\n",
    "        \n",
    "        self.env = SokobanEnv(dim_room=(7, 7), num_boxes=num_boxes, num_gen_steps=None, reset=False)\n",
    "        self.gen_data = DataGenerator()\n",
    "        \n",
    "        self.data = []\n",
    "        self.targets = []\n",
    "        \n",
    "        for _ in range(250):\n",
    "            targets, room_states, room_structures = gen_states_distances(self.env, self.gen_data, num_boxes=self.num_boxes, max_action_length=self.max_action_length)\n",
    "            self.targets.extend(targets)\n",
    "            \n",
    "            for room_state, room_structure in zip(room_states, room_structures):\n",
    "                wall_map = torch.from_numpy((room_state == 0).astype(int)).flatten()\n",
    "                target_map = torch.from_numpy((room_structure == 2).astype(int)).flatten()\n",
    "                boxes_map = torch.from_numpy(((room_state == 3) | (room_state == 4)).astype(int)).flatten()\n",
    "                agent_map = torch.from_numpy((room_state == 5).astype(int)).flatten()\n",
    "                \n",
    "                self.data.append(torch.cat((wall_map, target_map, boxes_map, agent_map), 0))\n",
    "                \n",
    "        print(\"len(SokobanDatasetTest) =\", len(self.data))\n",
    "        \n",
    "\n",
    "    def __len__(self):\n",
    "        return len(self.data)\n",
    "\n",
    "    def __getitem__(self, idx):\n",
    "        return self.data[idx], self.targets[idx]"
   ]
  },
  {
   "cell_type": "code",
   "execution_count": 16,
   "metadata": {},
   "outputs": [],
   "source": [
    "import torch\n",
    "from torch import nn, optim\n",
    "\n",
    "def create_model():\n",
    "    class ResidualBlock(nn.Module):\n",
    "        expansion = 1\n",
    "\n",
    "        def __init__(self, num_features):\n",
    "            super(ResidualBlock, self).__init__()\n",
    "\n",
    "            self.fc1 = nn.Linear(num_features, num_features)\n",
    "            #self.bn1 = nn.BatchNorm1d(num_features)\n",
    "            self.relu = nn.ReLU(inplace=True)\n",
    "            self.fc2 = nn.Linear(num_features, num_features)\n",
    "            #self.bn2 = nn.BatchNorm1d(num_features)\n",
    "\n",
    "        def forward(self, x):\n",
    "            identity = x\n",
    "\n",
    "            out = self.fc1(x)\n",
    "            #out = self.bn1(out)\n",
    "            out = self.relu(out)\n",
    "\n",
    "            out = self.fc2(out)\n",
    "            #out = self.bn2(out)\n",
    "\n",
    "            out += identity\n",
    "\n",
    "            return self.relu(out)\n",
    "\n",
    "    class Net(nn.Module):\n",
    "        def __init__(self):\n",
    "            super(Net, self).__init__()\n",
    "\n",
    "            self.model = nn.Sequential(\n",
    "                nn.Linear(7*7*4, 5000),\n",
    "                #nn.BatchNorm1d(5000),\n",
    "                nn.ReLU(),\n",
    "\n",
    "                nn.Linear(5000, 1000),\n",
    "                #nn.BatchNorm1d(1000),\n",
    "                nn.ReLU(),\n",
    "\n",
    "                ResidualBlock(1000),\n",
    "                ResidualBlock(1000),\n",
    "                ResidualBlock(1000),\n",
    "                ResidualBlock(1000),\n",
    "\n",
    "                nn.Linear(1000, 1)\n",
    "            )\n",
    "\n",
    "        def forward(self, x):\n",
    "            return self.model(x)\n",
    "\n",
    "    return Net()\n"
   ]
  },
  {
   "cell_type": "code",
   "execution_count": 17,
   "metadata": {},
   "outputs": [
    {
     "name": "stdout",
     "output_type": "stream",
     "text": [
      "----------------------------------------------------------------\n",
      "        Layer (type)               Output Shape         Param #\n",
      "================================================================\n",
      "            Linear-1                 [-1, 5000]         985,000\n",
      "              ReLU-2                 [-1, 5000]               0\n",
      "            Linear-3                 [-1, 1000]       5,001,000\n",
      "              ReLU-4                 [-1, 1000]               0\n",
      "            Linear-5                 [-1, 1000]       1,001,000\n",
      "              ReLU-6                 [-1, 1000]               0\n",
      "            Linear-7                 [-1, 1000]       1,001,000\n",
      "              ReLU-8                 [-1, 1000]               0\n",
      "     ResidualBlock-9                 [-1, 1000]               0\n",
      "           Linear-10                 [-1, 1000]       1,001,000\n",
      "             ReLU-11                 [-1, 1000]               0\n",
      "           Linear-12                 [-1, 1000]       1,001,000\n",
      "             ReLU-13                 [-1, 1000]               0\n",
      "    ResidualBlock-14                 [-1, 1000]               0\n",
      "           Linear-15                 [-1, 1000]       1,001,000\n",
      "             ReLU-16                 [-1, 1000]               0\n",
      "           Linear-17                 [-1, 1000]       1,001,000\n",
      "             ReLU-18                 [-1, 1000]               0\n",
      "    ResidualBlock-19                 [-1, 1000]               0\n",
      "           Linear-20                 [-1, 1000]       1,001,000\n",
      "             ReLU-21                 [-1, 1000]               0\n",
      "           Linear-22                 [-1, 1000]       1,001,000\n",
      "             ReLU-23                 [-1, 1000]               0\n",
      "    ResidualBlock-24                 [-1, 1000]               0\n",
      "           Linear-25                    [-1, 1]           1,001\n",
      "================================================================\n",
      "Total params: 13,995,001\n",
      "Trainable params: 13,995,001\n",
      "Non-trainable params: 0\n",
      "----------------------------------------------------------------\n",
      "Input size (MB): 0.00\n",
      "Forward/backward pass size (MB): 0.24\n",
      "Params size (MB): 53.39\n",
      "Estimated Total Size (MB): 53.63\n",
      "----------------------------------------------------------------\n"
     ]
    }
   ],
   "source": [
    "from torchsummary import summary\n",
    "\n",
    "summary(create_model(), (7*7*4,), device=\"cpu\")"
   ]
  },
  {
   "cell_type": "code",
   "execution_count": null,
   "metadata": {},
   "outputs": [],
   "source": []
  },
  {
   "cell_type": "code",
   "execution_count": 18,
   "metadata": {},
   "outputs": [],
   "source": [
    "device = torch.device(\"cuda\" if torch.cuda.is_available() else \"cpu\")"
   ]
  },
  {
   "cell_type": "code",
   "execution_count": 19,
   "metadata": {},
   "outputs": [],
   "source": [
    "model = create_model().to(device)\n",
    "\n",
    "optimizer = optim.Adam(model.parameters())\n",
    "loss = nn.MSELoss()"
   ]
  },
  {
   "cell_type": "code",
   "execution_count": 20,
   "metadata": {},
   "outputs": [],
   "source": [
    "hold_train_loss = []\n",
    "hold_test_loss = []"
   ]
  },
  {
   "cell_type": "code",
   "execution_count": 21,
   "metadata": {},
   "outputs": [
    {
     "name": "stdout",
     "output_type": "stream",
     "text": [
      "len(SokobanDatasetTest) = 15056\n"
     ]
    }
   ],
   "source": [
    "data_loader_train = DataLoader(SokobanDataset(max_action_length=10), batch_size=64)\n",
    "data_loader_test = DataLoader(SokobanDatasetTest(max_action_length=10), batch_size=1)"
   ]
  },
  {
   "cell_type": "code",
   "execution_count": 22,
   "metadata": {
    "scrolled": true
   },
   "outputs": [
    {
     "data": {
      "image/png": "[encoded data removed]",
      "text/plain": [
       "<Figure size 432x288 with 1 Axes>"
      ]
     },
     "metadata": {
      "needs_background": "light"
     },
     "output_type": "display_data"
    },
    {
     "name": "stdout",
     "output_type": "stream",
     "text": [
      "5.870494 5.875817\n"
     ]
    },
    {
     "data": {
      "application/vnd.jupyter.widget-view+json": {
       "model_id": "e5be7bb06aca4671a04a9a7ba92dd677",
       "version_major": 2,
       "version_minor": 0
      },
      "text/plain": [
       "HBox(children=(IntProgress(value=0, description='Batch', max=1563, style=ProgressStyle(description_width='init…"
      ]
     },
     "metadata": {},
     "output_type": "display_data"
    },
    {
     "ename": "KeyboardInterrupt",
     "evalue": "",
     "output_type": "error",
     "traceback": [
      "\u001b[0;31m---------------------------------------------------------------------------\u001b[0m",
      "\u001b[0;31mKeyboardInterrupt\u001b[0m                         Traceback (most recent call last)",
      "\u001b[0;32m<ipython-input-22-b32ff6603ebf>\u001b[0m in \u001b[0;36m<module>\u001b[0;34m\u001b[0m\n\u001b[1;32m     11\u001b[0m     \u001b[0mtrain_loss\u001b[0m \u001b[0;34m=\u001b[0m \u001b[0;34m[\u001b[0m\u001b[0;34m]\u001b[0m\u001b[0;34m\u001b[0m\u001b[0;34m\u001b[0m\u001b[0m\n\u001b[1;32m     12\u001b[0m     \u001b[0mtest_loss\u001b[0m \u001b[0;34m=\u001b[0m \u001b[0;34m[\u001b[0m\u001b[0;34m]\u001b[0m\u001b[0;34m\u001b[0m\u001b[0;34m\u001b[0m\u001b[0m\n\u001b[0;32m---> 13\u001b[0;31m     \u001b[0;32mfor\u001b[0m \u001b[0mbatch_idx\u001b[0m\u001b[0;34m,\u001b[0m \u001b[0;34m(\u001b[0m\u001b[0mdata\u001b[0m\u001b[0;34m,\u001b[0m \u001b[0mtarget\u001b[0m\u001b[0;34m)\u001b[0m \u001b[0;32min\u001b[0m \u001b[0mtqdm_notebook\u001b[0m\u001b[0;34m(\u001b[0m\u001b[0menumerate\u001b[0m\u001b[0;34m(\u001b[0m\u001b[0mdata_loader_train\u001b[0m\u001b[0;34m)\u001b[0m\u001b[0;34m,\u001b[0m \u001b[0mtotal\u001b[0m\u001b[0;34m=\u001b[0m\u001b[0mlen\u001b[0m\u001b[0;34m(\u001b[0m\u001b[0mdata_loader_train\u001b[0m\u001b[0;34m)\u001b[0m\u001b[0;34m,\u001b[0m \u001b[0mdesc\u001b[0m\u001b[0;34m=\u001b[0m\u001b[0;34m'Batch'\u001b[0m\u001b[0;34m,\u001b[0m \u001b[0mleave\u001b[0m\u001b[0;34m=\u001b[0m\u001b[0;32mFalse\u001b[0m\u001b[0;34m)\u001b[0m\u001b[0;34m:\u001b[0m\u001b[0;34m\u001b[0m\u001b[0;34m\u001b[0m\u001b[0m\n\u001b[0m\u001b[1;32m     14\u001b[0m         \u001b[0mtr_x\u001b[0m\u001b[0;34m,\u001b[0m \u001b[0mtr_y\u001b[0m \u001b[0;34m=\u001b[0m \u001b[0mdata\u001b[0m\u001b[0;34m.\u001b[0m\u001b[0mfloat\u001b[0m\u001b[0;34m(\u001b[0m\u001b[0;34m)\u001b[0m\u001b[0;34m.\u001b[0m\u001b[0mto\u001b[0m\u001b[0;34m(\u001b[0m\u001b[0mdevice\u001b[0m\u001b[0;34m)\u001b[0m\u001b[0;34m,\u001b[0m \u001b[0mtarget\u001b[0m\u001b[0;34m.\u001b[0m\u001b[0mfloat\u001b[0m\u001b[0;34m(\u001b[0m\u001b[0;34m)\u001b[0m\u001b[0;34m.\u001b[0m\u001b[0mto\u001b[0m\u001b[0;34m(\u001b[0m\u001b[0mdevice\u001b[0m\u001b[0;34m)\u001b[0m\u001b[0;34m\u001b[0m\u001b[0;34m\u001b[0m\u001b[0m\n\u001b[1;32m     15\u001b[0m \u001b[0;34m\u001b[0m\u001b[0m\n",
      "\u001b[0;32m~/miniconda3/envs/AML/lib/python3.7/site-packages/tqdm/_tqdm_notebook.py\u001b[0m in \u001b[0;36m__iter__\u001b[0;34m(self, *args, **kwargs)\u001b[0m\n\u001b[1;32m    221\u001b[0m     \u001b[0;32mdef\u001b[0m \u001b[0m__iter__\u001b[0m\u001b[0;34m(\u001b[0m\u001b[0mself\u001b[0m\u001b[0;34m,\u001b[0m \u001b[0;34m*\u001b[0m\u001b[0margs\u001b[0m\u001b[0;34m,\u001b[0m \u001b[0;34m**\u001b[0m\u001b[0mkwargs\u001b[0m\u001b[0;34m)\u001b[0m\u001b[0;34m:\u001b[0m\u001b[0;34m\u001b[0m\u001b[0;34m\u001b[0m\u001b[0m\n\u001b[1;32m    222\u001b[0m         \u001b[0;32mtry\u001b[0m\u001b[0;34m:\u001b[0m\u001b[0;34m\u001b[0m\u001b[0;34m\u001b[0m\u001b[0m\n\u001b[0;32m--> 223\u001b[0;31m             \u001b[0;32mfor\u001b[0m \u001b[0mobj\u001b[0m \u001b[0;32min\u001b[0m \u001b[0msuper\u001b[0m\u001b[0;34m(\u001b[0m\u001b[0mtqdm_notebook\u001b[0m\u001b[0;34m,\u001b[0m \u001b[0mself\u001b[0m\u001b[0;34m)\u001b[0m\u001b[0;34m.\u001b[0m\u001b[0m__iter__\u001b[0m\u001b[0;34m(\u001b[0m\u001b[0;34m*\u001b[0m\u001b[0margs\u001b[0m\u001b[0;34m,\u001b[0m \u001b[0;34m**\u001b[0m\u001b[0mkwargs\u001b[0m\u001b[0;34m)\u001b[0m\u001b[0;34m:\u001b[0m\u001b[0;34m\u001b[0m\u001b[0;34m\u001b[0m\u001b[0m\n\u001b[0m\u001b[1;32m    224\u001b[0m                 \u001b[0;31m# return super(tqdm...) will not catch exception\u001b[0m\u001b[0;34m\u001b[0m\u001b[0;34m\u001b[0m\u001b[0;34m\u001b[0m\u001b[0m\n\u001b[1;32m    225\u001b[0m                 \u001b[0;32myield\u001b[0m \u001b[0mobj\u001b[0m\u001b[0;34m\u001b[0m\u001b[0;34m\u001b[0m\u001b[0m\n",
      "\u001b[0;32m~/miniconda3/envs/AML/lib/python3.7/site-packages/tqdm/_tqdm.py\u001b[0m in \u001b[0;36m__iter__\u001b[0;34m(self)\u001b[0m\n\u001b[1;32m   1030\u001b[0m                 \"\"\"), fp_write=getattr(self.fp, 'write', sys.stderr.write))\n\u001b[1;32m   1031\u001b[0m \u001b[0;34m\u001b[0m\u001b[0m\n\u001b[0;32m-> 1032\u001b[0;31m             \u001b[0;32mfor\u001b[0m \u001b[0mobj\u001b[0m \u001b[0;32min\u001b[0m \u001b[0miterable\u001b[0m\u001b[0;34m:\u001b[0m\u001b[0;34m\u001b[0m\u001b[0;34m\u001b[0m\u001b[0m\n\u001b[0m\u001b[1;32m   1033\u001b[0m                 \u001b[0;32myield\u001b[0m \u001b[0mobj\u001b[0m\u001b[0;34m\u001b[0m\u001b[0;34m\u001b[0m\u001b[0m\n\u001b[1;32m   1034\u001b[0m                 \u001b[0;31m# Update and possibly print the progressbar.\u001b[0m\u001b[0;34m\u001b[0m\u001b[0;34m\u001b[0m\u001b[0;34m\u001b[0m\u001b[0m\n",
      "\u001b[0;32m~/miniconda3/envs/AML/lib/python3.7/site-packages/torch/utils/data/dataloader.py\u001b[0m in \u001b[0;36m__next__\u001b[0;34m(self)\u001b[0m\n\u001b[1;32m    344\u001b[0m     \u001b[0;32mdef\u001b[0m \u001b[0m__next__\u001b[0m\u001b[0;34m(\u001b[0m\u001b[0mself\u001b[0m\u001b[0;34m)\u001b[0m\u001b[0;34m:\u001b[0m\u001b[0;34m\u001b[0m\u001b[0;34m\u001b[0m\u001b[0m\n\u001b[1;32m    345\u001b[0m         \u001b[0mindex\u001b[0m \u001b[0;34m=\u001b[0m \u001b[0mself\u001b[0m\u001b[0;34m.\u001b[0m\u001b[0m_next_index\u001b[0m\u001b[0;34m(\u001b[0m\u001b[0;34m)\u001b[0m  \u001b[0;31m# may raise StopIteration\u001b[0m\u001b[0;34m\u001b[0m\u001b[0;34m\u001b[0m\u001b[0m\n\u001b[0;32m--> 346\u001b[0;31m         \u001b[0mdata\u001b[0m \u001b[0;34m=\u001b[0m \u001b[0mself\u001b[0m\u001b[0;34m.\u001b[0m\u001b[0mdataset_fetcher\u001b[0m\u001b[0;34m.\u001b[0m\u001b[0mfetch\u001b[0m\u001b[0;34m(\u001b[0m\u001b[0mindex\u001b[0m\u001b[0;34m)\u001b[0m  \u001b[0;31m# may raise StopIteration\u001b[0m\u001b[0;34m\u001b[0m\u001b[0;34m\u001b[0m\u001b[0m\n\u001b[0m\u001b[1;32m    347\u001b[0m         \u001b[0;32mif\u001b[0m \u001b[0mself\u001b[0m\u001b[0;34m.\u001b[0m\u001b[0mpin_memory\u001b[0m\u001b[0;34m:\u001b[0m\u001b[0;34m\u001b[0m\u001b[0;34m\u001b[0m\u001b[0m\n\u001b[1;32m    348\u001b[0m             \u001b[0mdata\u001b[0m \u001b[0;34m=\u001b[0m \u001b[0m_utils\u001b[0m\u001b[0;34m.\u001b[0m\u001b[0mpin_memory\u001b[0m\u001b[0;34m.\u001b[0m\u001b[0mpin_memory\u001b[0m\u001b[0;34m(\u001b[0m\u001b[0mdata\u001b[0m\u001b[0;34m)\u001b[0m\u001b[0;34m\u001b[0m\u001b[0;34m\u001b[0m\u001b[0m\n",
      "\u001b[0;32m~/miniconda3/envs/AML/lib/python3.7/site-packages/torch/utils/data/_utils/fetch.py\u001b[0m in \u001b[0;36mfetch\u001b[0;34m(self, possibly_batched_index)\u001b[0m\n\u001b[1;32m     42\u001b[0m     \u001b[0;32mdef\u001b[0m \u001b[0mfetch\u001b[0m\u001b[0;34m(\u001b[0m\u001b[0mself\u001b[0m\u001b[0;34m,\u001b[0m \u001b[0mpossibly_batched_index\u001b[0m\u001b[0;34m)\u001b[0m\u001b[0;34m:\u001b[0m\u001b[0;34m\u001b[0m\u001b[0;34m\u001b[0m\u001b[0m\n\u001b[1;32m     43\u001b[0m         \u001b[0;32mif\u001b[0m \u001b[0mself\u001b[0m\u001b[0;34m.\u001b[0m\u001b[0mauto_collation\u001b[0m\u001b[0;34m:\u001b[0m\u001b[0;34m\u001b[0m\u001b[0;34m\u001b[0m\u001b[0m\n\u001b[0;32m---> 44\u001b[0;31m             \u001b[0mdata\u001b[0m \u001b[0;34m=\u001b[0m \u001b[0;34m[\u001b[0m\u001b[0mself\u001b[0m\u001b[0;34m.\u001b[0m\u001b[0mdataset\u001b[0m\u001b[0;34m[\u001b[0m\u001b[0midx\u001b[0m\u001b[0;34m]\u001b[0m \u001b[0;32mfor\u001b[0m \u001b[0midx\u001b[0m \u001b[0;32min\u001b[0m \u001b[0mpossibly_batched_index\u001b[0m\u001b[0;34m]\u001b[0m\u001b[0;34m\u001b[0m\u001b[0;34m\u001b[0m\u001b[0m\n\u001b[0m\u001b[1;32m     45\u001b[0m         \u001b[0;32melse\u001b[0m\u001b[0;34m:\u001b[0m\u001b[0;34m\u001b[0m\u001b[0;34m\u001b[0m\u001b[0m\n\u001b[1;32m     46\u001b[0m             \u001b[0mdata\u001b[0m \u001b[0;34m=\u001b[0m \u001b[0mself\u001b[0m\u001b[0;34m.\u001b[0m\u001b[0mdataset\u001b[0m\u001b[0;34m[\u001b[0m\u001b[0mpossibly_batched_index\u001b[0m\u001b[0;34m]\u001b[0m\u001b[0;34m\u001b[0m\u001b[0;34m\u001b[0m\u001b[0m\n",
      "\u001b[0;32m~/miniconda3/envs/AML/lib/python3.7/site-packages/torch/utils/data/_utils/fetch.py\u001b[0m in \u001b[0;36m<listcomp>\u001b[0;34m(.0)\u001b[0m\n\u001b[1;32m     42\u001b[0m     \u001b[0;32mdef\u001b[0m \u001b[0mfetch\u001b[0m\u001b[0;34m(\u001b[0m\u001b[0mself\u001b[0m\u001b[0;34m,\u001b[0m \u001b[0mpossibly_batched_index\u001b[0m\u001b[0;34m)\u001b[0m\u001b[0;34m:\u001b[0m\u001b[0;34m\u001b[0m\u001b[0;34m\u001b[0m\u001b[0m\n\u001b[1;32m     43\u001b[0m         \u001b[0;32mif\u001b[0m \u001b[0mself\u001b[0m\u001b[0;34m.\u001b[0m\u001b[0mauto_collation\u001b[0m\u001b[0;34m:\u001b[0m\u001b[0;34m\u001b[0m\u001b[0;34m\u001b[0m\u001b[0m\n\u001b[0;32m---> 44\u001b[0;31m             \u001b[0mdata\u001b[0m \u001b[0;34m=\u001b[0m \u001b[0;34m[\u001b[0m\u001b[0mself\u001b[0m\u001b[0;34m.\u001b[0m\u001b[0mdataset\u001b[0m\u001b[0;34m[\u001b[0m\u001b[0midx\u001b[0m\u001b[0;34m]\u001b[0m \u001b[0;32mfor\u001b[0m \u001b[0midx\u001b[0m \u001b[0;32min\u001b[0m \u001b[0mpossibly_batched_index\u001b[0m\u001b[0;34m]\u001b[0m\u001b[0;34m\u001b[0m\u001b[0;34m\u001b[0m\u001b[0m\n\u001b[0m\u001b[1;32m     45\u001b[0m         \u001b[0;32melse\u001b[0m\u001b[0;34m:\u001b[0m\u001b[0;34m\u001b[0m\u001b[0;34m\u001b[0m\u001b[0m\n\u001b[1;32m     46\u001b[0m             \u001b[0mdata\u001b[0m \u001b[0;34m=\u001b[0m \u001b[0mself\u001b[0m\u001b[0;34m.\u001b[0m\u001b[0mdataset\u001b[0m\u001b[0;34m[\u001b[0m\u001b[0mpossibly_batched_index\u001b[0m\u001b[0;34m]\u001b[0m\u001b[0;34m\u001b[0m\u001b[0;34m\u001b[0m\u001b[0m\n",
      "\u001b[0;32m<ipython-input-14-3e98ce4da865>\u001b[0m in \u001b[0;36m__getitem__\u001b[0;34m(self, idx)\u001b[0m\n\u001b[1;32m     17\u001b[0m     \u001b[0;32mdef\u001b[0m \u001b[0m__getitem__\u001b[0m\u001b[0;34m(\u001b[0m\u001b[0mself\u001b[0m\u001b[0;34m,\u001b[0m \u001b[0midx\u001b[0m\u001b[0;34m)\u001b[0m\u001b[0;34m:\u001b[0m\u001b[0;34m\u001b[0m\u001b[0;34m\u001b[0m\u001b[0m\n\u001b[1;32m     18\u001b[0m         \u001b[0;32mif\u001b[0m \u001b[0mlen\u001b[0m\u001b[0;34m(\u001b[0m\u001b[0mself\u001b[0m\u001b[0;34m.\u001b[0m\u001b[0mdata\u001b[0m\u001b[0;34m)\u001b[0m \u001b[0;34m<\u001b[0m \u001b[0;36m1\u001b[0m\u001b[0;34m:\u001b[0m\u001b[0;34m\u001b[0m\u001b[0;34m\u001b[0m\u001b[0m\n\u001b[0;32m---> 19\u001b[0;31m             \u001b[0mtargets\u001b[0m\u001b[0;34m,\u001b[0m \u001b[0mroom_states\u001b[0m\u001b[0;34m,\u001b[0m \u001b[0mroom_structures\u001b[0m \u001b[0;34m=\u001b[0m \u001b[0mgen_states_distances\u001b[0m\u001b[0;34m(\u001b[0m\u001b[0mself\u001b[0m\u001b[0;34m.\u001b[0m\u001b[0menv\u001b[0m\u001b[0;34m,\u001b[0m \u001b[0mself\u001b[0m\u001b[0;34m.\u001b[0m\u001b[0mgen_data\u001b[0m\u001b[0;34m,\u001b[0m \u001b[0mnum_boxes\u001b[0m\u001b[0;34m=\u001b[0m\u001b[0mself\u001b[0m\u001b[0;34m.\u001b[0m\u001b[0mnum_boxes\u001b[0m\u001b[0;34m,\u001b[0m \u001b[0mmax_action_length\u001b[0m\u001b[0;34m=\u001b[0m\u001b[0mself\u001b[0m\u001b[0;34m.\u001b[0m\u001b[0mmax_action_length\u001b[0m\u001b[0;34m)\u001b[0m\u001b[0;34m\u001b[0m\u001b[0;34m\u001b[0m\u001b[0m\n\u001b[0m\u001b[1;32m     20\u001b[0m             \u001b[0mself\u001b[0m\u001b[0;34m.\u001b[0m\u001b[0mtargets\u001b[0m\u001b[0;34m.\u001b[0m\u001b[0mextend\u001b[0m\u001b[0;34m(\u001b[0m\u001b[0mtargets\u001b[0m\u001b[0;34m)\u001b[0m\u001b[0;34m\u001b[0m\u001b[0;34m\u001b[0m\u001b[0m\n\u001b[1;32m     21\u001b[0m \u001b[0;34m\u001b[0m\u001b[0m\n",
      "\u001b[0;32m<ipython-input-12-5779da23b6a4>\u001b[0m in \u001b[0;36mgen_states_distances\u001b[0;34m(env, gen_data, num_boxes, max_action_length)\u001b[0m\n\u001b[1;32m      1\u001b[0m \u001b[0;32mdef\u001b[0m \u001b[0mgen_states_distances\u001b[0m\u001b[0;34m(\u001b[0m\u001b[0menv\u001b[0m\u001b[0;34m,\u001b[0m \u001b[0mgen_data\u001b[0m\u001b[0;34m,\u001b[0m \u001b[0mnum_boxes\u001b[0m\u001b[0;34m=\u001b[0m\u001b[0;36m3\u001b[0m\u001b[0;34m,\u001b[0m \u001b[0mmax_action_length\u001b[0m\u001b[0;34m=\u001b[0m\u001b[0;36m20\u001b[0m\u001b[0;34m)\u001b[0m\u001b[0;34m:\u001b[0m\u001b[0;34m\u001b[0m\u001b[0;34m\u001b[0m\u001b[0m\n\u001b[0;32m----> 2\u001b[0;31m     \u001b[0mactions_solution\u001b[0m \u001b[0;34m=\u001b[0m \u001b[0mgenereate_game\u001b[0m\u001b[0;34m(\u001b[0m\u001b[0menv\u001b[0m\u001b[0;34m,\u001b[0m \u001b[0mgen_data\u001b[0m\u001b[0;34m,\u001b[0m \u001b[0mnum_boxes\u001b[0m\u001b[0;34m,\u001b[0m \u001b[0mmax_action_length\u001b[0m\u001b[0;34m,\u001b[0m \u001b[0mexplored_states_max\u001b[0m\u001b[0;34m=\u001b[0m\u001b[0;36m5000\u001b[0m\u001b[0;34m)\u001b[0m\u001b[0;34m\u001b[0m\u001b[0;34m\u001b[0m\u001b[0m\n\u001b[0m\u001b[1;32m      3\u001b[0m \u001b[0;34m\u001b[0m\u001b[0m\n\u001b[1;32m      4\u001b[0m     \u001b[0mdistances\u001b[0m\u001b[0;34m,\u001b[0m \u001b[0mroom_states\u001b[0m\u001b[0;34m,\u001b[0m \u001b[0mroom_structures\u001b[0m \u001b[0;34m=\u001b[0m \u001b[0;34m[\u001b[0m\u001b[0;34m]\u001b[0m\u001b[0;34m,\u001b[0m \u001b[0;34m[\u001b[0m\u001b[0;34m]\u001b[0m\u001b[0;34m,\u001b[0m \u001b[0;34m[\u001b[0m\u001b[0;34m]\u001b[0m\u001b[0;34m\u001b[0m\u001b[0;34m\u001b[0m\u001b[0m\n\u001b[1;32m      5\u001b[0m     \u001b[0;32mfor\u001b[0m \u001b[0mdistance\u001b[0m\u001b[0;34m,\u001b[0m \u001b[0mroom_state\u001b[0m \u001b[0;32min\u001b[0m \u001b[0mzip\u001b[0m\u001b[0;34m(\u001b[0m\u001b[0mgen_data\u001b[0m\u001b[0;34m.\u001b[0m\u001b[0mbest_distances\u001b[0m\u001b[0;34m,\u001b[0m \u001b[0mgen_data\u001b[0m\u001b[0;34m.\u001b[0m\u001b[0mbest_old_room_states\u001b[0m\u001b[0;34m)\u001b[0m\u001b[0;34m:\u001b[0m\u001b[0;34m\u001b[0m\u001b[0;34m\u001b[0m\u001b[0m\n",
      "\u001b[0;32m<ipython-input-5-45efd50a864e>\u001b[0m in \u001b[0;36mgenereate_game\u001b[0;34m(env, gen_data, num_boxes, max_action_length, explored_states_max)\u001b[0m\n\u001b[1;32m     14\u001b[0m             \u001b[0mroom_structure\u001b[0m \u001b[0;34m=\u001b[0m \u001b[0mgen_data\u001b[0m\u001b[0;34m.\u001b[0m\u001b[0mget_room_structure\u001b[0m\u001b[0;34m(\u001b[0m\u001b[0mroom\u001b[0m\u001b[0;34m)\u001b[0m\u001b[0;34m\u001b[0m\u001b[0;34m\u001b[0m\u001b[0m\n\u001b[1;32m     15\u001b[0m \u001b[0;34m\u001b[0m\u001b[0m\n\u001b[0;32m---> 16\u001b[0;31m             \u001b[0mroom_state\u001b[0m\u001b[0;34m,\u001b[0m \u001b[0mscore\u001b[0m\u001b[0;34m,\u001b[0m \u001b[0mbox_mapping\u001b[0m \u001b[0;34m=\u001b[0m \u001b[0mgen_data\u001b[0m\u001b[0;34m.\u001b[0m\u001b[0mreverse_playing\u001b[0m\u001b[0;34m(\u001b[0m\u001b[0mroom_state\u001b[0m\u001b[0;34m,\u001b[0m \u001b[0mroom_structure\u001b[0m\u001b[0;34m,\u001b[0m \u001b[0mmax_action_length\u001b[0m\u001b[0;34m,\u001b[0m \u001b[0mexplored_states_max\u001b[0m\u001b[0;34m)\u001b[0m\u001b[0;34m\u001b[0m\u001b[0;34m\u001b[0m\u001b[0m\n\u001b[0m\u001b[1;32m     17\u001b[0m         \u001b[0;32mexcept\u001b[0m \u001b[0mException\u001b[0m \u001b[0;32mas\u001b[0m \u001b[0me\u001b[0m\u001b[0;34m:\u001b[0m\u001b[0;34m\u001b[0m\u001b[0;34m\u001b[0m\u001b[0m\n\u001b[1;32m     18\u001b[0m             \u001b[0;32mif\u001b[0m \u001b[0mDEBUG\u001b[0m\u001b[0;34m:\u001b[0m\u001b[0;34m\u001b[0m\u001b[0;34m\u001b[0m\u001b[0m\n",
      "\u001b[0;32m_cython_magic_08d89a1fba06ef43645f6a56fd5a549f.pyx\u001b[0m in \u001b[0;36m_cython_magic_08d89a1fba06ef43645f6a56fd5a549f.DataGenerator.reverse_playing\u001b[0;34m()\u001b[0m\n",
      "\u001b[0;32m_cython_magic_08d89a1fba06ef43645f6a56fd5a549f.pyx\u001b[0m in \u001b[0;36m_cython_magic_08d89a1fba06ef43645f6a56fd5a549f.DataGenerator.depth_first_search\u001b[0;34m()\u001b[0m\n",
      "\u001b[0;32m_cython_magic_08d89a1fba06ef43645f6a56fd5a549f.pyx\u001b[0m in \u001b[0;36m_cython_magic_08d89a1fba06ef43645f6a56fd5a549f.DataGenerator.depth_first_search\u001b[0;34m()\u001b[0m\n",
      "\u001b[0;32m_cython_magic_08d89a1fba06ef43645f6a56fd5a549f.pyx\u001b[0m in \u001b[0;36m_cython_magic_08d89a1fba06ef43645f6a56fd5a549f.DataGenerator.depth_first_search\u001b[0;34m()\u001b[0m\n",
      "\u001b[0;32m_cython_magic_08d89a1fba06ef43645f6a56fd5a549f.pyx\u001b[0m in \u001b[0;36m_cython_magic_08d89a1fba06ef43645f6a56fd5a549f.DataGenerator.depth_first_search\u001b[0;34m()\u001b[0m\n",
      "\u001b[0;32m_cython_magic_08d89a1fba06ef43645f6a56fd5a549f.pyx\u001b[0m in \u001b[0;36m_cython_magic_08d89a1fba06ef43645f6a56fd5a549f.DataGenerator.depth_first_search\u001b[0;34m()\u001b[0m\n",
      "\u001b[0;32m_cython_magic_08d89a1fba06ef43645f6a56fd5a549f.pyx\u001b[0m in \u001b[0;36m_cython_magic_08d89a1fba06ef43645f6a56fd5a549f.DataGenerator.depth_first_search\u001b[0;34m()\u001b[0m\n",
      "\u001b[0;32m~/miniconda3/envs/AML/lib/python3.7/site-packages/numpy/core/numeric.py\u001b[0m in \u001b[0;36marray_equal\u001b[0;34m(a1, a2)\u001b[0m\n\u001b[1;32m   2589\u001b[0m     \u001b[0;32mif\u001b[0m \u001b[0ma1\u001b[0m\u001b[0;34m.\u001b[0m\u001b[0mshape\u001b[0m \u001b[0;34m!=\u001b[0m \u001b[0ma2\u001b[0m\u001b[0;34m.\u001b[0m\u001b[0mshape\u001b[0m\u001b[0;34m:\u001b[0m\u001b[0;34m\u001b[0m\u001b[0;34m\u001b[0m\u001b[0m\n\u001b[1;32m   2590\u001b[0m         \u001b[0;32mreturn\u001b[0m \u001b[0;32mFalse\u001b[0m\u001b[0;34m\u001b[0m\u001b[0;34m\u001b[0m\u001b[0m\n\u001b[0;32m-> 2591\u001b[0;31m     \u001b[0;32mreturn\u001b[0m \u001b[0mbool\u001b[0m\u001b[0;34m(\u001b[0m\u001b[0masarray\u001b[0m\u001b[0;34m(\u001b[0m\u001b[0ma1\u001b[0m \u001b[0;34m==\u001b[0m \u001b[0ma2\u001b[0m\u001b[0;34m)\u001b[0m\u001b[0;34m.\u001b[0m\u001b[0mall\u001b[0m\u001b[0;34m(\u001b[0m\u001b[0;34m)\u001b[0m\u001b[0;34m)\u001b[0m\u001b[0;34m\u001b[0m\u001b[0;34m\u001b[0m\u001b[0m\n\u001b[0m\u001b[1;32m   2592\u001b[0m \u001b[0;34m\u001b[0m\u001b[0m\n\u001b[1;32m   2593\u001b[0m \u001b[0;34m\u001b[0m\u001b[0m\n",
      "\u001b[0;31mKeyboardInterrupt\u001b[0m: "
     ]
    }
   ],
   "source": [
    "from tqdm import tnrange, tqdm_notebook\n",
    "from IPython.display import clear_output\n",
    "\n",
    "epochs = 9999\n",
    "\n",
    "best_loss = 9999999\n",
    "\n",
    "fx, tr_y = None, None\n",
    "for epoch in tnrange(epochs, desc='Epoch'):\n",
    "    model.train()\n",
    "    train_loss = []\n",
    "    test_loss = []\n",
    "    for batch_idx, (data, target) in tqdm_notebook(enumerate(data_loader_train), total=len(data_loader_train), desc='Batch', leave=False):\n",
    "        tr_x, tr_y = data.float().to(device), target.float().to(device)\n",
    "\n",
    "        # Reset gradient\n",
    "        optimizer.zero_grad()\n",
    "\n",
    "        # Forward pass\n",
    "        fx = model(tr_x)\n",
    "        output = loss(fx, tr_y.view(-1, 1))  # loss for this batch\n",
    "        train_loss.append( output.detach().cpu().numpy())\n",
    "\n",
    "        # Backward\n",
    "        output.backward()\n",
    "\n",
    "        # Update parameters based on backprop\n",
    "        optimizer.step()\n",
    "        \n",
    "    with torch.no_grad():\n",
    "        model.eval()\n",
    "        for batch_idx, (data, target) in enumerate(data_loader_test):\n",
    "            tr_x, tr_y = data.float().to(device), target.float().to(device)\n",
    "            fx = model(tr_x)\n",
    "            test_loss.append(loss(fx, tr_y.view(-1, 1)).detach().cpu().numpy())  # loss for this batch\n",
    "\n",
    "    hold_train_loss.append(np.mean(train_loss))\n",
    "    hold_test_loss.append(np.mean(test_loss))\n",
    "    \n",
    "    clear_output(True)\n",
    "    plt.plot(np.array(hold_train_loss), label='train')\n",
    "    plt.plot(np.array(hold_test_loss), label='test')\n",
    "    plt.legend()\n",
    "    plt.show()\n",
    "    \n",
    "    if hold_train_loss[-1] + hold_test_loss[-1] < best_loss:\n",
    "        best_loss = hold_train_loss[-1] + hold_test_loss[-1]\n",
    "        torch.save(model.state_dict(), f\"longTraining_no_batchnorm/DAVI_steps_10_longTraining_no_batchnorm_{epoch}_{best_loss}.pth\")\n",
    "    \n",
    "    print(hold_train_loss[-1], hold_test_loss[-1])"
   ]
  },
  {
   "cell_type": "code",
   "execution_count": null,
   "metadata": {},
   "outputs": [],
   "source": [
    "torch.save(model.state_dict(), \"DAVI_steps_10_longTraining_no_batchnorm.pth\")"
   ]
  },
  {
   "cell_type": "code",
   "execution_count": 42,
   "metadata": {},
   "outputs": [
    {
     "data": {
      "image/png": "[encoded data removed]",
      "text/plain": [
       "<Figure size 432x288 with 1 Axes>"
      ]
     },
     "metadata": {
      "needs_background": "light"
     },
     "output_type": "display_data"
    }
   ],
   "source": [
    "plt.plot(np.array([min(x, 4) for x in hold_train_loss[:725]]), label='train')\n",
    "plt.plot(np.array(hold_test_loss[:725]), label='test')\n",
    "plt.ylim([-0.1, 4.35])\n",
    "plt.legend()\n",
    "\n",
    "plt.savefig(\"longTraining_no_batchnorm/DAVI_steps_10_loss_longTraining_no_batchnorm_lim.svg\")\n",
    "plt.savefig(\"longTraining_no_batchnorm/DAVI_steps_10_loss_longTraining_no_batchnorm_lim.pdf\")\n",
    "plt.show()"
   ]
  },
  {
   "cell_type": "code",
   "execution_count": null,
   "metadata": {},
   "outputs": [],
   "source": []
  },
  {
   "cell_type": "code",
   "execution_count": null,
   "metadata": {},
   "outputs": [],
   "source": [
    "from tqdm import tnrange, tqdm_notebook\n",
    "from IPython.display import clear_output\n",
    "\n",
    "epochs = 9999\n",
    "\n",
    "\n",
    "model.train()\n",
    "\n",
    "fx, tr_y = None, None\n",
    "for epoch in tnrange(epochs, desc='Epoch'):\n",
    "    train_loss = []\n",
    "    test_loss = []\n",
    "    for batch_idx, (data, target) in tqdm_notebook(enumerate(data_loader_train), total=len(data_loader_train), desc='Batch', leave=False):\n",
    "        tr_x, tr_y = data.float().to(device), target.float().to(device)\n",
    "\n",
    "        # Reset gradient\n",
    "        optimizer.zero_grad()\n",
    "\n",
    "        # Forward pass\n",
    "        fx = model(tr_x)\n",
    "        output = loss(fx, tr_y.view(-1, 1))  # loss for this batch\n",
    "        train_loss.append( output.detach().cpu().numpy())\n",
    "\n",
    "        # Backward\n",
    "        output.backward()\n",
    "\n",
    "        # Update parameters based on backprop\n",
    "        optimizer.step()\n",
    "        \n",
    "    with torch.no_grad():\n",
    "        for batch_idx, (data, target) in enumerate(data_loader_test):\n",
    "            tr_x, tr_y = data.float().to(device), target.float().to(device)\n",
    "            fx = model(tr_x)\n",
    "            test_loss.append(loss(fx, tr_y.view(-1, 1)).detach().cpu().numpy())  # loss for this batch\n",
    "\n",
    "    hold_train_loss.append(np.mean(train_loss))\n",
    "    hold_test_loss.append(np.mean(test_loss))\n",
    "    \n",
    "    clear_output(True)\n",
    "    plt.plot(np.array(hold_train_loss), label='train')\n",
    "    plt.plot(np.array(hold_test_loss), label='test')\n",
    "    plt.legend()\n",
    "    plt.show()\n",
    "    \n",
    "    print(hold_train_loss[-1], hold_test_loss[-1])"
   ]
  },
  {
   "cell_type": "code",
   "execution_count": null,
   "metadata": {},
   "outputs": [],
   "source": []
  },
  {
   "cell_type": "code",
   "execution_count": null,
   "metadata": {},
   "outputs": [],
   "source": []
  },
  {
   "cell_type": "code",
   "execution_count": null,
   "metadata": {},
   "outputs": [],
   "source": []
  },
  {
   "cell_type": "code",
   "execution_count": null,
   "metadata": {},
   "outputs": [],
   "source": [
    "x = []\n",
    "with torch.no_grad():\n",
    "    for batch_idx, (data, target) in enumerate(DataLoader(SokobanDatasetTest(max_action_length=10), batch_size=64)):\n",
    "        tr_x, tr_y = data.float().to(device), target.float().to(device)\n",
    "        fx = model(tr_x)\n",
    "        x.append(loss(fx, tr_y.view(-1, 1)).detach().cpu().numpy())  # loss for this batch\n",
    "        \n",
    "print(np.mean(x))"
   ]
  },
  {
   "cell_type": "code",
   "execution_count": null,
   "metadata": {},
   "outputs": [],
   "source": []
  },
  {
   "cell_type": "code",
   "execution_count": null,
   "metadata": {},
   "outputs": [],
   "source": [
    "model = create_model().to(device)\n",
    "model.load_state_dict(torch.load(\"DAVI_steps_10_longTraining.pth\"))"
   ]
  },
  {
   "cell_type": "code",
   "execution_count": null,
   "metadata": {},
   "outputs": [],
   "source": [
    "x = []\n",
    "with torch.no_grad():\n",
    "    for batch_idx, (data, target) in enumerate(DataLoader(SokobanDatasetTest(max_action_length=10), batch_size=64)):\n",
    "        tr_x, tr_y = data.float().to(device), target.float().to(device)\n",
    "        fx = model(tr_x)\n",
    "        x.append(loss(fx, tr_y.view(-1, 1)).detach().cpu().numpy())  # loss for this batch\n",
    "        \n",
    "print(np.mean(x))"
   ]
  },
  {
   "cell_type": "code",
   "execution_count": null,
   "metadata": {},
   "outputs": [],
   "source": [
    "data_loader_train = DataLoader(SokobanDataset(max_action_length=13), batch_size=64)\n",
    "data_loader_test = DataLoader(SokobanDatasetTest(max_action_length=13), batch_size=64)"
   ]
  },
  {
   "cell_type": "code",
   "execution_count": null,
   "metadata": {},
   "outputs": [],
   "source": [
    "from tqdm import tnrange, tqdm_notebook\n",
    "from IPython.display import clear_output\n",
    "\n",
    "epochs = 9999\n",
    "\n",
    "\n",
    "model.train()\n",
    "\n",
    "fx, tr_y = None, None\n",
    "for epoch in tnrange(epochs, desc='Epoch'):\n",
    "    train_loss = []\n",
    "    test_loss = []\n",
    "    for batch_idx, (data, target) in tqdm_notebook(enumerate(data_loader_train), total=len(data_loader_train), desc='Batch', leave=False):\n",
    "        tr_x, tr_y = data.float().to(device), target.float().to(device)\n",
    "\n",
    "        # Reset gradient\n",
    "        optimizer.zero_grad()\n",
    "\n",
    "        # Forward pass\n",
    "        fx = model(tr_x)\n",
    "        output = loss(fx, tr_y.view(-1, 1))  # loss for this batch\n",
    "        train_loss.append( output.detach().cpu().numpy())\n",
    "\n",
    "        # Backward\n",
    "        output.backward()\n",
    "\n",
    "        # Update parameters based on backprop\n",
    "        optimizer.step()\n",
    "        \n",
    "    with torch.no_grad():\n",
    "        for batch_idx, (data, target) in enumerate(data_loader_test):\n",
    "            tr_x, tr_y = data.float().to(device), target.float().to(device)\n",
    "            fx = model(tr_x)\n",
    "            test_loss.append(loss(fx, tr_y.view(-1, 1)).detach().cpu().numpy())  # loss for this batch\n",
    "\n",
    "    hold_train_loss.append(np.mean(train_loss))\n",
    "    hold_test_loss.append(np.mean(test_loss))\n",
    "    \n",
    "    clear_output(True)\n",
    "    plt.plot(np.array(hold_train_loss), label='train')\n",
    "    plt.plot(np.array(hold_test_loss), label='test')\n",
    "    plt.legend()\n",
    "    plt.show()\n",
    "    \n",
    "    print(hold_train_loss[-1], hold_test_loss[-1])"
   ]
  },
  {
   "cell_type": "code",
   "execution_count": null,
   "metadata": {},
   "outputs": [],
   "source": []
  },
  {
   "cell_type": "code",
   "execution_count": null,
   "metadata": {},
   "outputs": [],
   "source": []
  },
  {
   "cell_type": "code",
   "execution_count": null,
   "metadata": {},
   "outputs": [],
   "source": []
  }
 ],
 "metadata": {
  "kernelspec": {
   "display_name": "Python 3",
   "language": "python",
   "name": "python3"
  },
  "language_info": {
   "codemirror_mode": {
    "name": "ipython",
    "version": 3
   },
   "file_extension": ".py",
   "mimetype": "text/x-python",
   "name": "python",
   "nbconvert_exporter": "python",
   "pygments_lexer": "ipython3",
   "version": "3.7.4"
  }
 },
 "nbformat": 4,
 "nbformat_minor": 1
}

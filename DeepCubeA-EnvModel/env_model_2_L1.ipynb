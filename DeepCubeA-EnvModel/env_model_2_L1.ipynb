{
 "cells": [
  {
   "cell_type": "markdown",
   "metadata": {},
   "source": [
    "## setup env"
   ]
  },
  {
   "cell_type": "code",
   "execution_count": 1,
   "metadata": {},
   "outputs": [
    {
     "name": "stdout",
     "output_type": "stream",
     "text": [
      "7.4.0\n"
     ]
    }
   ],
   "source": [
    "%load_ext Cython\n",
    "%matplotlib inline"
   ]
  },
  {
   "cell_type": "code",
   "execution_count": 2,
   "metadata": {},
   "outputs": [],
   "source": [
    "DEBUG=False"
   ]
  },
  {
   "cell_type": "code",
   "execution_count": 3,
   "metadata": {},
   "outputs": [],
   "source": [
    "from gym_sokoban.envs import SokobanEnv\n",
    "import matplotlib.pyplot as plt"
   ]
  },
  {
   "cell_type": "markdown",
   "metadata": {},
   "source": [
    "## setup DataGenerator"
   ]
  },
  {
   "cell_type": "code",
   "execution_count": 4,
   "metadata": {},
   "outputs": [],
   "source": [
    "%%cython\n",
    "# --annotate\n",
    "import marshal\n",
    "import numpy as np\n",
    "from gym_sokoban.envs.room_utils import room_topology_generation, box_displacement_score, ACTION_LOOKUP, reverse_move\n",
    "\n",
    "class DataGenerator:\n",
    "    def __init__(self):\n",
    "        self.num_boxes = 0\n",
    "        self.best_actions = []\n",
    "    \n",
    "    \n",
    "    def resetEnv(self, env, num_boxes):\n",
    "        self.num_boxes = num_boxes\n",
    "        empty_room = room_topology_generation(dim=env.dim_room, num_steps=env.num_gen_steps)\n",
    "        return self.place_boxes_and_player(empty_room)\n",
    "        \n",
    "    \n",
    "    def place_boxes_and_player(self, room, second_player=False):\n",
    "        # Get all available positions\n",
    "        possible_positions = np.where(room == 1)\n",
    "        num_possible_positions = possible_positions[0].shape[0]\n",
    "        num_players = 2 if second_player else 1\n",
    "\n",
    "        if num_possible_positions <= self.num_boxes + num_players:\n",
    "            raise RuntimeError('Not enough free spots (#{}) to place {} player and {} boxes.'.format(\n",
    "                num_possible_positions,\n",
    "                num_players,\n",
    "                self.num_boxes)\n",
    "            )\n",
    "\n",
    "        placed_player = False\n",
    "\n",
    "        # place boxes\n",
    "        for n in range(self.num_boxes):\n",
    "            possible_positions = np.where(room == 1)\n",
    "            num_possible_positions = possible_positions[0].shape[0]\n",
    "\n",
    "            ind = np.random.randint(num_possible_positions)\n",
    "            box_position = possible_positions[0][ind], possible_positions[1][ind]\n",
    "            room[box_position] = 2\n",
    "\n",
    "            # place player\n",
    "            if not placed_player:\n",
    "                for player_position in [\n",
    "                    (box_position[0] + 1, box_position[1]), (box_position[0] - 1, box_position[1]),\n",
    "                    (box_position[0], box_position[1] + 1), (box_position[0], box_position[1] - 1)\n",
    "                ]:\n",
    "                    if room[player_position] == 1:\n",
    "                        room[player_position] = 5\n",
    "                        placed_player = True\n",
    "                        break\n",
    "\n",
    "        return room\n",
    "    \n",
    "    def get_room_state(self, room):\n",
    "        # Room structure represents the current state of the room including movable parts\n",
    "        room_state = room.copy()\n",
    "        room_state[room_state == 2] = 4\n",
    "        return room_state\n",
    "    \n",
    "    def get_room_structure(self, room):\n",
    "        # Room fixed represents all not movable parts of the room\n",
    "        room_structure = np.copy(room)\n",
    "        room_structure[room_structure == 5] = 1\n",
    "        return room_structure\n",
    "\n",
    "    def reverse_playing(self, room_state, room_structure, max_action_length, explored_states_max):\n",
    "        \"\"\"\n",
    "        This function plays Sokoban reverse in a way, such that the player can move and pull boxes.\n",
    "        It ensures a solvable level with all boxes not being placed on a box target.\n",
    "        \"\"\"\n",
    "\n",
    "        # Box_Mapping is used to calculate the box displacement for every box\n",
    "        box_mapping = {}\n",
    "        box_locations = np.where(room_structure == 2)\n",
    "        num_boxes = len(box_locations[0])\n",
    "        for l in range(num_boxes):\n",
    "            box = (box_locations[0][l], box_locations[1][l])\n",
    "            box_mapping[box] = box\n",
    "\n",
    "        # reset explored_states globally stores the best room state and score found during search\n",
    "        self.explored_states = set()\n",
    "        self.best_room_score = -1\n",
    "        self.best_box_mapping = box_mapping\n",
    "        self.depth_first_search(room_state, room_structure, box_mapping,\n",
    "                                box_swaps=0, last_pull=(-1, -1), ttl=300, max_action_length=max_action_length, explored_states_max=explored_states_max)\n",
    "\n",
    "        \n",
    "        \n",
    "        return self.best_room, self.best_room_score, self.best_box_mapping\n",
    "\n",
    "    \n",
    "    def depth_first_search(self, room_state, room_structure, box_mapping, box_swaps=0,\n",
    "                           last_pull=(-1, -1), ttl=300, actions=None, old_room_states=None, distances=None,\n",
    "                           max_action_length=30, explored_states_max=100000):\n",
    "        \"\"\"\n",
    "        Searches through all possible states of the room.\n",
    "        \"\"\"\n",
    "        if actions is None:\n",
    "            actions = [-1]\n",
    "        if old_room_states is None:\n",
    "            old_room_states = []\n",
    "        if distances is None:\n",
    "            distances = []\n",
    "\n",
    "        ttl -= 1\n",
    "        if ttl <= 0 or len(self.explored_states) >= explored_states_max:\n",
    "            return\n",
    "\n",
    "        state_tohash = marshal.dumps(room_state)\n",
    "\n",
    "        # Only search this state, if it not yet has been explored\n",
    "        if not (state_tohash in self.explored_states):\n",
    "\n",
    "            if len(distances) == 0:\n",
    "                distances.append(0)\n",
    "                old_room_states.append(room_state)\n",
    "\n",
    "            # Add current state and its score to explored states\n",
    "            room_score = box_swaps * box_displacement_score(box_mapping)\n",
    "            if np.where(room_state == 2)[0].shape[0] != self.num_boxes:\n",
    "                room_score = 0\n",
    "\n",
    "            if room_score > self.best_room_score:\n",
    "                self.best_room = room_state\n",
    "                self.best_room_score = room_score\n",
    "                self.best_box_mapping = box_mapping\n",
    "                self.best_actions = actions\n",
    "                self.best_old_room_states = old_room_states\n",
    "                self.best_distances = distances\n",
    "\n",
    "            self.explored_states.add(state_tohash)\n",
    "\n",
    "            for action in ACTION_LOOKUP.keys():\n",
    "                # The state and box mapping  need to be copied to ensure\n",
    "                # every action start from a similar state.\n",
    "                room_state_next = room_state.copy()\n",
    "                box_mapping_next = box_mapping.copy()\n",
    "                actions_next = actions.copy()\n",
    "                old_room_states_next = old_room_states.copy()\n",
    "                distances_next = distances.copy()\n",
    "\n",
    "                room_state_next, box_mapping_next, last_pull_next = \\\n",
    "                    reverse_move(room_state_next, room_structure, box_mapping_next, last_pull, action)\n",
    "\n",
    "                box_swaps_next = box_swaps\n",
    "                if not np.array_equal(room_state_next, room_state):  # only use room_state if something has changed\n",
    "                    if len(np.where(room_state_next == 2)[0]) > 0:  # only save actions if not solved\n",
    "                        actions_next.append(action)\n",
    "                        distances_next.append(len(actions_next) - 1)  # last action is nop\n",
    "                        old_room_states_next.append(room_state_next)\n",
    "\n",
    "                    if last_pull_next != last_pull:\n",
    "                        box_swaps_next += 1\n",
    "\n",
    "                    if len(actions_next) < max_action_length:\n",
    "                        self.depth_first_search(room_state_next, room_structure,\n",
    "                                                box_mapping_next, box_swaps_next,\n",
    "                                                last_pull, ttl, actions_next, old_room_states_next,\n",
    "                                                distances_next, max_action_length=max_action_length,\n",
    "                                                explored_states_max=explored_states_max)\n",
    "\n",
    "\n",
    "def action_solver(actions):\n",
    "    action_mapper = {-1: -1, 0: 1, 1: 0, 2: 3, 3: 2, 4: 5, 5: 4, 6: 7, 7: 6}\n",
    "    solution = []\n",
    "    for action in actions:\n",
    "        solution.append(action_mapper[action])\n",
    "    return solution"
   ]
  },
  {
   "cell_type": "code",
   "execution_count": 5,
   "metadata": {},
   "outputs": [],
   "source": [
    "def genereate_game(env, gen_data, num_boxes, max_action_length=10, explored_states_max=1000):\n",
    "    \n",
    "    gen_data.best_actions = []\n",
    "    while len(gen_data.best_actions) < 2:\n",
    "        try:\n",
    "            room = gen_data.resetEnv(env, num_boxes)\n",
    "\n",
    "            room_state = gen_data.get_room_state(room)\n",
    "\n",
    "            # plt.imshow(room)\n",
    "            # plt.show()\n",
    "\n",
    "            room_state = gen_data.get_room_state(room)\n",
    "            room_structure = gen_data.get_room_structure(room)\n",
    "\n",
    "            room_state, score, box_mapping = gen_data.reverse_playing(room_state, room_structure, max_action_length, explored_states_max)\n",
    "        except Exception as e:\n",
    "            if DEBUG:\n",
    "                print(e)\n",
    "    \n",
    "    gen_data.best_old_room_states[-1] = room_state.copy() # quick hack to fix last room not be the first room\n",
    "\n",
    "    # plt.imshow(room_state)\n",
    "    # plt.show()\n",
    "\n",
    "    env.room_fixed, env.room_state, env.box_mapping = room, room_state, box_mapping\n",
    "    env.room_state[env.room_state == 3] = 4  # fix \"box marked as on target\"\n",
    "    env.room_state[(env.room_state == 4) & (env.room_fixed == 2)] = 3  # check if really not on target\n",
    "    env.player_position = np.argwhere(env.room_state == 5)[0]\n",
    "    env.num_env_steps = 0\n",
    "    env.reward_last = 0\n",
    "    env.boxes_on_target = 0\n",
    "\n",
    "    # observation = env.render(mode='rgb_array')\n",
    "    # plt.imshow(observation)\n",
    "    # plt.show()\n",
    "\n",
    "    actions_solution = action_solver(gen_data.best_actions)\n",
    "    # print(actions_solution)\n",
    "    \n",
    "    return actions_solution"
   ]
  },
  {
   "cell_type": "markdown",
   "metadata": {},
   "source": [
    "## benchmark generate games"
   ]
  },
  {
   "cell_type": "code",
   "execution_count": 6,
   "metadata": {},
   "outputs": [
    {
     "name": "stdout",
     "output_type": "stream",
     "text": [
      "155 states\n",
      "CPU times: user 873 ms, sys: 4.55 ms, total: 877 ms\n",
      "Wall time: 865 ms\n"
     ]
    }
   ],
   "source": [
    "%%time\n",
    "\n",
    "num_total_states = 0\n",
    "\n",
    "for _ in range(10):\n",
    "    num_boxes=3\n",
    "\n",
    "    env = SokobanEnv(dim_room=(7, 7), num_boxes=num_boxes, num_gen_steps=None, reset=False)\n",
    "    gen_data = DataGenerator()\n",
    "    actions_solution = genereate_game(env, gen_data, num_boxes, max_action_length=20, explored_states_max=5000)\n",
    "    num_total_states += len(gen_data.best_old_room_states)\n",
    "\n",
    "print(f'{num_total_states} states')"
   ]
  },
  {
   "cell_type": "markdown",
   "metadata": {},
   "source": [
    "### preview generated games"
   ]
  },
  {
   "cell_type": "code",
   "execution_count": 7,
   "metadata": {
    "scrolled": true
   },
   "outputs": [
    {
     "name": "stdout",
     "output_type": "stream",
     "text": [
      "-1 do push left \n"
     ]
    },
    {
     "data": {
      "image/png": "[encoded data removed]",
      "text/plain": [
       "<Figure size 432x288 with 1 Axes>"
      ]
     },
     "metadata": {
      "needs_background": "light"
     },
     "output_type": "display_data"
    },
    {
     "name": "stdout",
     "output_type": "stream",
     "text": [
      "-2 do push left \n"
     ]
    },
    {
     "data": {
      "image/png": "[encoded data removed]",
      "text/plain": [
       "<Figure size 432x288 with 1 Axes>"
      ]
     },
     "metadata": {
      "needs_background": "light"
     },
     "output_type": "display_data"
    },
    {
     "name": "stdout",
     "output_type": "stream",
     "text": [
      "-3 do push down \n"
     ]
    },
    {
     "data": {
      "image/png": "[encoded data removed]",
      "text/plain": [
       "<Figure size 432x288 with 1 Axes>"
      ]
     },
     "metadata": {
      "needs_background": "light"
     },
     "output_type": "display_data"
    },
    {
     "name": "stdout",
     "output_type": "stream",
     "text": [
      "-4 do push left \n"
     ]
    },
    {
     "data": {
      "image/png": "[encoded data removed]",
      "text/plain": [
       "<Figure size 432x288 with 1 Axes>"
      ]
     },
     "metadata": {
      "needs_background": "light"
     },
     "output_type": "display_data"
    },
    {
     "name": "stdout",
     "output_type": "stream",
     "text": [
      "-5 do push left \n"
     ]
    },
    {
     "data": {
      "image/png": "[encoded data removed]",
      "text/plain": [
       "<Figure size 432x288 with 1 Axes>"
      ]
     },
     "metadata": {
      "needs_background": "light"
     },
     "output_type": "display_data"
    },
    {
     "name": "stdout",
     "output_type": "stream",
     "text": [
      "-6 do push down \n"
     ]
    },
    {
     "data": {
      "image/png": "[encoded data removed]",
      "text/plain": [
       "<Figure size 432x288 with 1 Axes>"
      ]
     },
     "metadata": {
      "needs_background": "light"
     },
     "output_type": "display_data"
    },
    {
     "name": "stdout",
     "output_type": "stream",
     "text": [
      "-7 do push down \n"
     ]
    },
    {
     "data": {
      "image/png": "[encoded data removed]",
      "text/plain": [
       "<Figure size 432x288 with 1 Axes>"
      ]
     },
     "metadata": {
      "needs_background": "light"
     },
     "output_type": "display_data"
    },
    {
     "name": "stdout",
     "output_type": "stream",
     "text": [
      "-8 do push right\n"
     ]
    },
    {
     "data": {
      "image/png": "[encoded data removed]",
      "text/plain": [
       "<Figure size 432x288 with 1 Axes>"
      ]
     },
     "metadata": {
      "needs_background": "light"
     },
     "output_type": "display_data"
    },
    {
     "name": "stdout",
     "output_type": "stream",
     "text": [
      "-9 do push right\n"
     ]
    },
    {
     "data": {
      "image/png": "[encoded data removed]",
      "text/plain": [
       "<Figure size 432x288 with 1 Axes>"
      ]
     },
     "metadata": {
      "needs_background": "light"
     },
     "output_type": "display_data"
    },
    {
     "name": "stdout",
     "output_type": "stream",
     "text": [
      "-10 do push left \n"
     ]
    },
    {
     "data": {
      "image/png": "[encoded data removed]",
      "text/plain": [
       "<Figure size 432x288 with 1 Axes>"
      ]
     },
     "metadata": {
      "needs_background": "light"
     },
     "output_type": "display_data"
    },
    {
     "name": "stdout",
     "output_type": "stream",
     "text": [
      "-11 do push up   \n"
     ]
    },
    {
     "data": {
      "image/png": "[encoded data removed]",
      "text/plain": [
       "<Figure size 432x288 with 1 Axes>"
      ]
     },
     "metadata": {
      "needs_background": "light"
     },
     "output_type": "display_data"
    },
    {
     "name": "stdout",
     "output_type": "stream",
     "text": [
      "-12 do push down \n"
     ]
    },
    {
     "data": {
      "image/png": "[encoded data removed]",
      "text/plain": [
       "<Figure size 432x288 with 1 Axes>"
      ]
     },
     "metadata": {
      "needs_background": "light"
     },
     "output_type": "display_data"
    },
    {
     "name": "stdout",
     "output_type": "stream",
     "text": [
      "-13 do push left \n"
     ]
    },
    {
     "data": {
      "image/png": "[encoded data removed]",
      "text/plain": [
       "<Figure size 432x288 with 1 Axes>"
      ]
     },
     "metadata": {
      "needs_background": "light"
     },
     "output_type": "display_data"
    },
    {
     "name": "stdout",
     "output_type": "stream",
     "text": [
      "-14 do push up   \n"
     ]
    },
    {
     "data": {
      "image/png": "[encoded data removed]",
      "text/plain": [
       "<Figure size 432x288 with 1 Axes>"
      ]
     },
     "metadata": {
      "needs_background": "light"
     },
     "output_type": "display_data"
    },
    {
     "name": "stdout",
     "output_type": "stream",
     "text": [
      "-15 do push up   \n"
     ]
    },
    {
     "data": {
      "image/png": "[encoded data removed]",
      "text/plain": [
       "<Figure size 432x288 with 1 Axes>"
      ]
     },
     "metadata": {
      "needs_background": "light"
     },
     "output_type": "display_data"
    },
    {
     "name": "stdout",
     "output_type": "stream",
     "text": [
      "-16 do push right\n"
     ]
    },
    {
     "data": {
      "image/png": "[encoded data removed]",
      "text/plain": [
       "<Figure size 432x288 with 1 Axes>"
      ]
     },
     "metadata": {
      "needs_background": "light"
     },
     "output_type": "display_data"
    },
    {
     "name": "stdout",
     "output_type": "stream",
     "text": [
      "-17 do push right\n"
     ]
    },
    {
     "data": {
      "image/png": "[encoded data removed]",
      "text/plain": [
       "<Figure size 432x288 with 1 Axes>"
      ]
     },
     "metadata": {
      "needs_background": "light"
     },
     "output_type": "display_data"
    },
    {
     "name": "stdout",
     "output_type": "stream",
     "text": [
      "👌 Episode finished after 18 timesteps\n",
      "11.3\n"
     ]
    }
   ],
   "source": [
    "import time\n",
    "\n",
    "score = 0\n",
    "ACTION_LOOKUP = env.unwrapped.get_action_lookup()\n",
    "done = False\n",
    "\n",
    "plt.imshow(env.render('rgb_array'))\n",
    "for t in range(1, len(actions_solution) + 1):\n",
    "    action = actions_solution[-t] + 1  # ignore 0 = no operation\n",
    "    print(f'{-t} do {ACTION_LOOKUP[action]:10}')\n",
    "\n",
    "    observation, reward, done, info = env.step(action)\n",
    "    plt.imshow(observation)\n",
    "    plt.axis('off')\n",
    "    plt.show()\n",
    "    time.sleep(0.1)\n",
    "    score += reward\n",
    "    \n",
    "    if done:\n",
    "        print('👌', \"Episode finished after {} timesteps\".format(t + 1))\n",
    "        break\n",
    "\n",
    "print(score)\n",
    "env.close()"
   ]
  },
  {
   "cell_type": "code",
   "execution_count": 8,
   "metadata": {},
   "outputs": [
    {
     "name": "stdout",
     "output_type": "stream",
     "text": [
      "18\n",
      "[[0 0 0 0 0 0 0]\n",
      " [0 0 0 0 1 1 0]\n",
      " [0 1 4 1 5 1 0]\n",
      " [0 1 1 1 4 1 0]\n",
      " [0 1 1 0 0 0 0]\n",
      " [0 1 1 1 4 0 0]\n",
      " [0 0 0 0 0 0 0]]\n"
     ]
    },
    {
     "data": {
      "image/png": "[encoded data removed]",
      "text/plain": [
       "<Figure size 432x288 with 1 Axes>"
      ]
     },
     "metadata": {
      "needs_background": "light"
     },
     "output_type": "display_data"
    },
    {
     "name": "stdout",
     "output_type": "stream",
     "text": [
      "[[0 0 0 0 0 0 0]\n",
      " [0 0 0 0 1 1 0]\n",
      " [0 1 4 1 1 1 0]\n",
      " [0 1 5 3 2 1 0]\n",
      " [0 1 1 0 0 0 0]\n",
      " [0 1 1 1 4 0 0]\n",
      " [0 0 0 0 0 0 0]]\n"
     ]
    },
    {
     "data": {
      "image/png": "[encoded data removed]",
      "text/plain": [
       "<Figure size 432x288 with 1 Axes>"
      ]
     },
     "metadata": {
      "needs_background": "light"
     },
     "output_type": "display_data"
    },
    {
     "name": "stdout",
     "output_type": "stream",
     "text": [
      "[[0 0 0 0 0 0 0]\n",
      " [0 0 0 0 1 1 0]\n",
      " [0 1 4 1 1 1 0]\n",
      " [0 5 3 1 2 1 0]\n",
      " [0 1 1 0 0 0 0]\n",
      " [0 1 1 1 4 0 0]\n",
      " [0 0 0 0 0 0 0]]\n"
     ]
    },
    {
     "data": {
      "image/png": "[encoded data removed]",
      "text/plain": [
       "<Figure size 432x288 with 1 Axes>"
      ]
     },
     "metadata": {
      "needs_background": "light"
     },
     "output_type": "display_data"
    },
    {
     "name": "stdout",
     "output_type": "stream",
     "text": [
      "[[0 0 0 0 0 0 0]\n",
      " [0 0 0 0 1 1 0]\n",
      " [0 1 4 1 1 1 0]\n",
      " [0 1 3 1 2 1 0]\n",
      " [0 5 1 0 0 0 0]\n",
      " [0 1 1 1 4 0 0]\n",
      " [0 0 0 0 0 0 0]]\n"
     ]
    },
    {
     "data": {
      "image/png": "[encoded data removed]",
      "text/plain": [
       "<Figure size 432x288 with 1 Axes>"
      ]
     },
     "metadata": {
      "needs_background": "light"
     },
     "output_type": "display_data"
    },
    {
     "name": "stdout",
     "output_type": "stream",
     "text": [
      "[[0 0 0 0 0 0 0]\n",
      " [0 0 0 0 1 1 0]\n",
      " [0 1 4 1 1 1 0]\n",
      " [0 1 3 1 2 1 0]\n",
      " [0 1 1 0 0 0 0]\n",
      " [0 5 1 1 4 0 0]\n",
      " [0 0 0 0 0 0 0]]\n"
     ]
    },
    {
     "data": {
      "image/png": "[encoded data removed]",
      "text/plain": [
       "<Figure size 432x288 with 1 Axes>"
      ]
     },
     "metadata": {
      "needs_background": "light"
     },
     "output_type": "display_data"
    },
    {
     "name": "stdout",
     "output_type": "stream",
     "text": [
      "[[0 0 0 0 0 0 0]\n",
      " [0 0 0 0 1 1 0]\n",
      " [0 1 4 1 1 1 0]\n",
      " [0 1 3 1 2 1 0]\n",
      " [0 1 1 0 0 0 0]\n",
      " [0 1 5 1 4 0 0]\n",
      " [0 0 0 0 0 0 0]]\n"
     ]
    },
    {
     "data": {
      "image/png": "[encoded data removed]",
      "text/plain": [
       "<Figure size 432x288 with 1 Axes>"
      ]
     },
     "metadata": {
      "needs_background": "light"
     },
     "output_type": "display_data"
    },
    {
     "name": "stdout",
     "output_type": "stream",
     "text": [
      "[[0 0 0 0 0 0 0]\n",
      " [0 0 0 0 1 1 0]\n",
      " [0 1 4 1 1 1 0]\n",
      " [0 1 3 1 2 1 0]\n",
      " [0 1 5 0 0 0 0]\n",
      " [0 1 1 1 4 0 0]\n",
      " [0 0 0 0 0 0 0]]\n"
     ]
    },
    {
     "data": {
      "image/png": "[encoded data removed]",
      "text/plain": [
       "<Figure size 432x288 with 1 Axes>"
      ]
     },
     "metadata": {
      "needs_background": "light"
     },
     "output_type": "display_data"
    },
    {
     "name": "stdout",
     "output_type": "stream",
     "text": [
      "[[0 0 0 0 0 0 0]\n",
      " [0 0 0 0 1 1 0]\n",
      " [0 1 4 1 1 1 0]\n",
      " [0 1 1 1 2 1 0]\n",
      " [0 1 3 0 0 0 0]\n",
      " [0 1 5 1 4 0 0]\n",
      " [0 0 0 0 0 0 0]]\n"
     ]
    },
    {
     "data": {
      "image/png": "[encoded data removed]",
      "text/plain": [
       "<Figure size 432x288 with 1 Axes>"
      ]
     },
     "metadata": {
      "needs_background": "light"
     },
     "output_type": "display_data"
    },
    {
     "name": "stdout",
     "output_type": "stream",
     "text": [
      "[[0 0 0 0 0 0 0]\n",
      " [0 0 0 0 1 1 0]\n",
      " [0 1 4 1 1 1 0]\n",
      " [0 1 1 1 2 1 0]\n",
      " [0 1 3 0 0 0 0]\n",
      " [0 1 1 5 4 0 0]\n",
      " [0 0 0 0 0 0 0]]\n"
     ]
    },
    {
     "data": {
      "image/png": "[encoded data removed]",
      "text/plain": [
       "<Figure size 432x288 with 1 Axes>"
      ]
     },
     "metadata": {
      "needs_background": "light"
     },
     "output_type": "display_data"
    },
    {
     "name": "stdout",
     "output_type": "stream",
     "text": [
      "[[0 0 0 0 0 0 0]\n",
      " [0 0 0 0 1 1 0]\n",
      " [0 1 4 1 1 1 0]\n",
      " [0 1 1 1 2 1 0]\n",
      " [0 1 3 0 0 0 0]\n",
      " [0 1 5 3 2 0 0]\n",
      " [0 0 0 0 0 0 0]]\n"
     ]
    },
    {
     "data": {
      "image/png": "[encoded data removed]",
      "text/plain": [
       "<Figure size 432x288 with 1 Axes>"
      ]
     },
     "metadata": {
      "needs_background": "light"
     },
     "output_type": "display_data"
    },
    {
     "name": "stdout",
     "output_type": "stream",
     "text": [
      "[[0 0 0 0 0 0 0]\n",
      " [0 0 0 0 1 1 0]\n",
      " [0 1 4 1 1 1 0]\n",
      " [0 1 1 1 2 1 0]\n",
      " [0 1 3 0 0 0 0]\n",
      " [0 5 3 1 2 0 0]\n",
      " [0 0 0 0 0 0 0]]\n"
     ]
    },
    {
     "data": {
      "image/png": "[encoded data removed]",
      "text/plain": [
       "<Figure size 432x288 with 1 Axes>"
      ]
     },
     "metadata": {
      "needs_background": "light"
     },
     "output_type": "display_data"
    },
    {
     "name": "stdout",
     "output_type": "stream",
     "text": [
      "[[0 0 0 0 0 0 0]\n",
      " [0 0 0 0 1 1 0]\n",
      " [0 1 4 1 1 1 0]\n",
      " [0 1 1 1 2 1 0]\n",
      " [0 5 3 0 0 0 0]\n",
      " [0 1 3 1 2 0 0]\n",
      " [0 0 0 0 0 0 0]]\n"
     ]
    },
    {
     "data": {
      "image/png": "[encoded data removed]",
      "text/plain": [
       "<Figure size 432x288 with 1 Axes>"
      ]
     },
     "metadata": {
      "needs_background": "light"
     },
     "output_type": "display_data"
    },
    {
     "name": "stdout",
     "output_type": "stream",
     "text": [
      "[[0 0 0 0 0 0 0]\n",
      " [0 0 0 0 1 1 0]\n",
      " [0 1 4 1 1 1 0]\n",
      " [0 5 1 1 2 1 0]\n",
      " [0 1 3 0 0 0 0]\n",
      " [0 1 3 1 2 0 0]\n",
      " [0 0 0 0 0 0 0]]\n"
     ]
    },
    {
     "data": {
      "image/png": "[encoded data removed]",
      "text/plain": [
       "<Figure size 432x288 with 1 Axes>"
      ]
     },
     "metadata": {
      "needs_background": "light"
     },
     "output_type": "display_data"
    },
    {
     "name": "stdout",
     "output_type": "stream",
     "text": [
      "[[0 0 0 0 0 0 0]\n",
      " [0 0 0 0 1 1 0]\n",
      " [0 1 4 1 1 1 0]\n",
      " [0 1 5 1 2 1 0]\n",
      " [0 1 3 0 0 0 0]\n",
      " [0 1 3 1 2 0 0]\n",
      " [0 0 0 0 0 0 0]]\n"
     ]
    },
    {
     "data": {
      "image/png": "[encoded data removed]",
      "text/plain": [
       "<Figure size 432x288 with 1 Axes>"
      ]
     },
     "metadata": {
      "needs_background": "light"
     },
     "output_type": "display_data"
    },
    {
     "name": "stdout",
     "output_type": "stream",
     "text": [
      "[[0 0 0 0 0 0 0]\n",
      " [0 0 0 0 1 1 0]\n",
      " [0 1 4 1 1 1 0]\n",
      " [0 1 1 5 2 1 0]\n",
      " [0 1 3 0 0 0 0]\n",
      " [0 1 3 1 2 0 0]\n",
      " [0 0 0 0 0 0 0]]\n"
     ]
    },
    {
     "data": {
      "image/png": "[encoded data removed]",
      "text/plain": [
       "<Figure size 432x288 with 1 Axes>"
      ]
     },
     "metadata": {
      "needs_background": "light"
     },
     "output_type": "display_data"
    },
    {
     "name": "stdout",
     "output_type": "stream",
     "text": [
      "[[0 0 0 0 0 0 0]\n",
      " [0 0 0 0 1 1 0]\n",
      " [0 1 4 5 1 1 0]\n",
      " [0 1 1 1 2 1 0]\n",
      " [0 1 3 0 0 0 0]\n",
      " [0 1 3 1 2 0 0]\n",
      " [0 0 0 0 0 0 0]]\n"
     ]
    },
    {
     "data": {
      "image/png": "[encoded data removed]",
      "text/plain": [
       "<Figure size 432x288 with 1 Axes>"
      ]
     },
     "metadata": {
      "needs_background": "light"
     },
     "output_type": "display_data"
    },
    {
     "name": "stdout",
     "output_type": "stream",
     "text": [
      "[[0 0 0 0 0 0 0]\n",
      " [0 0 0 0 1 1 0]\n",
      " [0 1 2 3 5 1 0]\n",
      " [0 1 1 1 2 1 0]\n",
      " [0 1 3 0 0 0 0]\n",
      " [0 1 3 1 2 0 0]\n",
      " [0 0 0 0 0 0 0]]\n"
     ]
    },
    {
     "data": {
      "image/png": "[encoded data removed]",
      "text/plain": [
       "<Figure size 432x288 with 1 Axes>"
      ]
     },
     "metadata": {
      "needs_background": "light"
     },
     "output_type": "display_data"
    },
    {
     "name": "stdout",
     "output_type": "stream",
     "text": [
      "[[0 0 0 0 0 0 0]\n",
      " [0 0 0 0 1 1 0]\n",
      " [0 1 2 1 3 5 0]\n",
      " [0 1 1 1 2 1 0]\n",
      " [0 1 3 0 0 0 0]\n",
      " [0 1 3 1 2 0 0]\n",
      " [0 0 0 0 0 0 0]]\n"
     ]
    },
    {
     "data": {
      "image/png": "[encoded data removed]",
      "text/plain": [
       "<Figure size 432x288 with 1 Axes>"
      ]
     },
     "metadata": {
      "needs_background": "light"
     },
     "output_type": "display_data"
    }
   ],
   "source": [
    "print(len(gen_data.best_old_room_states))\n",
    "\n",
    "for best_old_room_state in gen_data.best_old_room_states:\n",
    "    print(best_old_room_state)\n",
    "    plt.imshow(best_old_room_state)\n",
    "    plt.axis('off')\n",
    "    plt.show()"
   ]
  },
  {
   "cell_type": "markdown",
   "metadata": {},
   "source": [
    "## generate and augmentate data"
   ]
  },
  {
   "cell_type": "code",
   "execution_count": 9,
   "metadata": {},
   "outputs": [],
   "source": [
    "def gen_states_distances(env, gen_data, num_boxes=3, max_action_length=20):\n",
    "    actions_solution = genereate_game(env, gen_data, num_boxes, max_action_length, explored_states_max=5000)\n",
    "    env.room_fixed[env.room_fixed == 5] = 1\n",
    "    return gen_data.best_old_room_states[-1], env.room_fixed, [action + 1 for action in reversed(actions_solution[1:])]"
   ]
  },
  {
   "cell_type": "markdown",
   "metadata": {},
   "source": [
    "### benchmark generation"
   ]
  },
  {
   "cell_type": "code",
   "execution_count": 10,
   "metadata": {},
   "outputs": [
    {
     "name": "stdout",
     "output_type": "stream",
     "text": [
      "[[0 0 0 0 0 0 0]\n",
      " [0 1 1 1 1 1 0]\n",
      " [0 1 3 2 0 1 0]\n",
      " [0 5 3 2 1 1 0]\n",
      " [0 1 0 1 1 1 0]\n",
      " [0 1 0 0 0 0 0]\n",
      " [0 0 0 0 0 0 0]]\n",
      "\n",
      "[[0 0 0 0 0 0 0]\n",
      " [0 1 1 1 1 1 0]\n",
      " [0 1 1 2 0 1 0]\n",
      " [0 1 1 2 1 1 0]\n",
      " [0 1 0 1 1 1 0]\n",
      " [0 1 0 0 0 0 0]\n",
      " [0 0 0 0 0 0 0]]\n",
      "\n",
      "[4, 3, 1, 4, 1, 1, 4, 4, 4, 2, 2, 3]\n",
      "12\n"
     ]
    }
   ],
   "source": [
    "# %%time\n",
    "env = SokobanEnv(dim_room=(7, 7), num_boxes=3, num_gen_steps=None, reset=False)\n",
    "gen_data = DataGenerator()\n",
    "\n",
    "for _ in range(1):\n",
    "    end_room_state_, end_room_fixed_, actions_solution_ = gen_states_distances(env, gen_data, num_boxes=2, max_action_length=15)\n",
    "    print(end_room_state_)\n",
    "    print()\n",
    "    print(end_room_fixed_)\n",
    "    print()\n",
    "    print(actions_solution_)\n",
    "\n",
    "print(len(actions_solution_))"
   ]
  },
  {
   "cell_type": "code",
   "execution_count": 11,
   "metadata": {},
   "outputs": [
    {
     "data": {
      "text/plain": [
       "array([[0, 0, 0, 0, 0, 0, 0],\n",
       "       [0, 1, 1, 1, 1, 1, 0],\n",
       "       [0, 1, 3, 2, 0, 1, 0],\n",
       "       [0, 5, 3, 2, 1, 1, 0],\n",
       "       [0, 1, 0, 1, 1, 1, 0],\n",
       "       [0, 1, 0, 0, 0, 0, 0],\n",
       "       [0, 0, 0, 0, 0, 0, 0]])"
      ]
     },
     "execution_count": 11,
     "metadata": {},
     "output_type": "execute_result"
    }
   ],
   "source": [
    "end_room_state_"
   ]
  },
  {
   "cell_type": "code",
   "execution_count": 12,
   "metadata": {},
   "outputs": [
    {
     "data": {
      "text/plain": [
       "(5, 5)"
      ]
     },
     "execution_count": 12,
     "metadata": {},
     "output_type": "execute_result"
    }
   ],
   "source": [
    "end_room_state_[1:-1, 1:-1].shape"
   ]
  },
  {
   "cell_type": "code",
   "execution_count": 13,
   "metadata": {
    "scrolled": true
   },
   "outputs": [
    {
     "data": {
      "image/png": "[encoded data removed]",
      "text/plain": [
       "<Figure size 432x288 with 1 Axes>"
      ]
     },
     "metadata": {
      "needs_background": "light"
     },
     "output_type": "display_data"
    },
    {
     "name": "stdout",
     "output_type": "stream",
     "text": [
      "4 push right\n"
     ]
    },
    {
     "data": {
      "image/png": "[encoded data removed]",
      "text/plain": [
       "<Figure size 432x288 with 1 Axes>"
      ]
     },
     "metadata": {
      "needs_background": "light"
     },
     "output_type": "display_data"
    },
    {
     "name": "stdout",
     "output_type": "stream",
     "text": [
      "\n",
      "\n",
      "\n"
     ]
    },
    {
     "data": {
      "image/png": "[encoded data removed]",
      "text/plain": [
       "<Figure size 432x288 with 1 Axes>"
      ]
     },
     "metadata": {
      "needs_background": "light"
     },
     "output_type": "display_data"
    },
    {
     "name": "stdout",
     "output_type": "stream",
     "text": [
      "3 push left\n"
     ]
    },
    {
     "data": {
      "image/png": "[encoded data removed]",
      "text/plain": [
       "<Figure size 432x288 with 1 Axes>"
      ]
     },
     "metadata": {
      "needs_background": "light"
     },
     "output_type": "display_data"
    },
    {
     "name": "stdout",
     "output_type": "stream",
     "text": [
      "\n",
      "\n",
      "\n"
     ]
    },
    {
     "data": {
      "image/png": "[encoded data removed]",
      "text/plain": [
       "<Figure size 432x288 with 1 Axes>"
      ]
     },
     "metadata": {
      "needs_background": "light"
     },
     "output_type": "display_data"
    },
    {
     "name": "stdout",
     "output_type": "stream",
     "text": [
      "1 push up\n"
     ]
    },
    {
     "data": {
      "image/png": "[encoded data removed]",
      "text/plain": [
       "<Figure size 432x288 with 1 Axes>"
      ]
     },
     "metadata": {
      "needs_background": "light"
     },
     "output_type": "display_data"
    },
    {
     "name": "stdout",
     "output_type": "stream",
     "text": [
      "\n",
      "\n",
      "\n"
     ]
    },
    {
     "data": {
      "image/png": "[encoded data removed]",
      "text/plain": [
       "<Figure size 432x288 with 1 Axes>"
      ]
     },
     "metadata": {
      "needs_background": "light"
     },
     "output_type": "display_data"
    },
    {
     "name": "stdout",
     "output_type": "stream",
     "text": [
      "4 push right\n"
     ]
    },
    {
     "data": {
      "image/png": "[encoded data removed]",
      "text/plain": [
       "<Figure size 432x288 with 1 Axes>"
      ]
     },
     "metadata": {
      "needs_background": "light"
     },
     "output_type": "display_data"
    },
    {
     "name": "stdout",
     "output_type": "stream",
     "text": [
      "\n",
      "\n",
      "\n"
     ]
    },
    {
     "data": {
      "image/png": "[encoded data removed]",
      "text/plain": [
       "<Figure size 432x288 with 1 Axes>"
      ]
     },
     "metadata": {
      "needs_background": "light"
     },
     "output_type": "display_data"
    },
    {
     "name": "stdout",
     "output_type": "stream",
     "text": [
      "1 push up\n"
     ]
    },
    {
     "data": {
      "image/png": "[encoded data removed]",
      "text/plain": [
       "<Figure size 432x288 with 1 Axes>"
      ]
     },
     "metadata": {
      "needs_background": "light"
     },
     "output_type": "display_data"
    },
    {
     "name": "stdout",
     "output_type": "stream",
     "text": [
      "\n",
      "\n",
      "\n"
     ]
    },
    {
     "data": {
      "image/png": "[encoded data removed]",
      "text/plain": [
       "<Figure size 432x288 with 1 Axes>"
      ]
     },
     "metadata": {
      "needs_background": "light"
     },
     "output_type": "display_data"
    },
    {
     "name": "stdout",
     "output_type": "stream",
     "text": [
      "1 push up\n"
     ]
    },
    {
     "data": {
      "image/png": "[encoded data removed]",
      "text/plain": [
       "<Figure size 432x288 with 1 Axes>"
      ]
     },
     "metadata": {
      "needs_background": "light"
     },
     "output_type": "display_data"
    },
    {
     "name": "stdout",
     "output_type": "stream",
     "text": [
      "\n",
      "\n",
      "\n"
     ]
    },
    {
     "data": {
      "image/png": "[encoded data removed]",
      "text/plain": [
       "<Figure size 432x288 with 1 Axes>"
      ]
     },
     "metadata": {
      "needs_background": "light"
     },
     "output_type": "display_data"
    },
    {
     "name": "stdout",
     "output_type": "stream",
     "text": [
      "4 push right\n"
     ]
    },
    {
     "data": {
      "image/png": "[encoded data removed]",
      "text/plain": [
       "<Figure size 432x288 with 1 Axes>"
      ]
     },
     "metadata": {
      "needs_background": "light"
     },
     "output_type": "display_data"
    },
    {
     "name": "stdout",
     "output_type": "stream",
     "text": [
      "\n",
      "\n",
      "\n"
     ]
    },
    {
     "data": {
      "image/png": "[encoded data removed]",
      "text/plain": [
       "<Figure size 432x288 with 1 Axes>"
      ]
     },
     "metadata": {
      "needs_background": "light"
     },
     "output_type": "display_data"
    },
    {
     "name": "stdout",
     "output_type": "stream",
     "text": [
      "4 push right\n"
     ]
    },
    {
     "data": {
      "image/png": "[encoded data removed]",
      "text/plain": [
       "<Figure size 432x288 with 1 Axes>"
      ]
     },
     "metadata": {
      "needs_background": "light"
     },
     "output_type": "display_data"
    },
    {
     "name": "stdout",
     "output_type": "stream",
     "text": [
      "\n",
      "\n",
      "\n"
     ]
    },
    {
     "data": {
      "image/png": "[encoded data removed]",
      "text/plain": [
       "<Figure size 432x288 with 1 Axes>"
      ]
     },
     "metadata": {
      "needs_background": "light"
     },
     "output_type": "display_data"
    },
    {
     "name": "stdout",
     "output_type": "stream",
     "text": [
      "4 push right\n"
     ]
    },
    {
     "data": {
      "image/png": "[encoded data removed]",
      "text/plain": [
       "<Figure size 432x288 with 1 Axes>"
      ]
     },
     "metadata": {
      "needs_background": "light"
     },
     "output_type": "display_data"
    },
    {
     "name": "stdout",
     "output_type": "stream",
     "text": [
      "\n",
      "\n",
      "\n"
     ]
    },
    {
     "data": {
      "image/png": "[encoded data removed]",
      "text/plain": [
       "<Figure size 432x288 with 1 Axes>"
      ]
     },
     "metadata": {
      "needs_background": "light"
     },
     "output_type": "display_data"
    },
    {
     "name": "stdout",
     "output_type": "stream",
     "text": [
      "2 push down\n"
     ]
    },
    {
     "data": {
      "image/png": "[encoded data removed]",
      "text/plain": [
       "<Figure size 432x288 with 1 Axes>"
      ]
     },
     "metadata": {
      "needs_background": "light"
     },
     "output_type": "display_data"
    },
    {
     "name": "stdout",
     "output_type": "stream",
     "text": [
      "\n",
      "\n",
      "\n"
     ]
    },
    {
     "data": {
      "image/png": "[encoded data removed]",
      "text/plain": [
       "<Figure size 432x288 with 1 Axes>"
      ]
     },
     "metadata": {
      "needs_background": "light"
     },
     "output_type": "display_data"
    },
    {
     "name": "stdout",
     "output_type": "stream",
     "text": [
      "2 push down\n"
     ]
    },
    {
     "data": {
      "image/png": "[encoded data removed]",
      "text/plain": [
       "<Figure size 432x288 with 1 Axes>"
      ]
     },
     "metadata": {
      "needs_background": "light"
     },
     "output_type": "display_data"
    },
    {
     "name": "stdout",
     "output_type": "stream",
     "text": [
      "\n",
      "\n",
      "\n"
     ]
    },
    {
     "data": {
      "image/png": "[encoded data removed]",
      "text/plain": [
       "<Figure size 432x288 with 1 Axes>"
      ]
     },
     "metadata": {
      "needs_background": "light"
     },
     "output_type": "display_data"
    },
    {
     "name": "stdout",
     "output_type": "stream",
     "text": [
      "3 push left\n"
     ]
    },
    {
     "data": {
      "image/png": "[encoded data removed]",
      "text/plain": [
       "<Figure size 432x288 with 1 Axes>"
      ]
     },
     "metadata": {
      "needs_background": "light"
     },
     "output_type": "display_data"
    },
    {
     "name": "stdout",
     "output_type": "stream",
     "text": [
      "\n",
      "\n",
      "\n"
     ]
    }
   ],
   "source": [
    "import gym\n",
    "import gym_sokoban\n",
    "from gym_sokoban.envs import ACTION_LOOKUP\n",
    "\n",
    "player_env = SokobanEnv(dim_room=(7, 7), num_boxes=num_boxes, num_gen_steps=None, reset=False)\n",
    "player_env.set_maxsteps(999999)\n",
    "player_env.room_state, player_env.room_fixed, player_env.done = end_room_state_, end_room_fixed_, False\n",
    "player_position = np.where(player_env.room_state == 5)\n",
    "player_env.player_position = np.array([player_position[0][0], player_position[1][0]])\n",
    "player_env.num_env_steps = 0\n",
    "\n",
    "for action in actions_solution_:\n",
    "    # plt.imshow(player_env.room_state)\n",
    "    plt.imshow(player_env.render('rgb_array'))\n",
    "    plt.axis('off')\n",
    "    plt.show()\n",
    "    \n",
    "    print(action, ACTION_LOOKUP[action])\n",
    "    \n",
    "    _, _, done, _ = player_env.step(action)\n",
    "    # plt.imshow(player_env.room_state) \n",
    "    plt.imshow(player_env.render('rgb_array'))\n",
    "    plt.axis('off')\n",
    "    plt.show()\n",
    "    \n",
    "    print()\n",
    "    print()\n",
    "    print()"
   ]
  },
  {
   "cell_type": "code",
   "execution_count": 14,
   "metadata": {},
   "outputs": [],
   "source": [
    "from torch.utils.data import Dataset, DataLoader\n",
    "from copy import deepcopy\n",
    "from multiprocessing import Process, Manager\n",
    "\n",
    "class SokobanDataset(Dataset):\n",
    "    def __init__(self, num_boxes=2, max_action_length=15):\n",
    "        self.manager = Manager()\n",
    "        \n",
    "        self.num_boxes = num_boxes\n",
    "        self.max_action_length = max_action_length\n",
    "        \n",
    "        self.env = SokobanEnv(dim_room=(7, 7), num_boxes=num_boxes, num_gen_steps=None, reset=False)\n",
    "        self.gen_data = DataGenerator()\n",
    "        \n",
    "        self.data = self.manager.list()\n",
    "        self.targets = self.manager.list()\n",
    "        \n",
    "        self.p1 = Process(target=self.generate_data)\n",
    "        self.p1.start()\n",
    "        self.p2 = Process(target=self.generate_data)\n",
    "        self.p2.start()\n",
    "        self.p3 = Process(target=self.generate_data)\n",
    "        self.p3.start()\n",
    "        self.p4 = Process(target=self.generate_data)\n",
    "        self.p4.start()\n",
    "        print(\"started backgound process\")\n",
    "\n",
    "        \n",
    "    def generate_data(self):\n",
    "        while True:\n",
    "            if len(self.data) > 1500:\n",
    "                time.sleep(1)\n",
    "            else:\n",
    "                end_room_state_, end_room_fixed_, actions_solution_ = gen_states_distances(env, gen_data, num_boxes=self.num_boxes, max_action_length=self.max_action_length)\n",
    "\n",
    "                player_env = SokobanEnv(dim_room=(7, 7), num_boxes=num_boxes, num_gen_steps=None, reset=False)\n",
    "                player_env.set_maxsteps(999999)\n",
    "                player_env.room_state, player_env.room_fixed, player_env.done = end_room_state_, end_room_fixed_, False\n",
    "                player_position = np.where(player_env.room_state == 5)\n",
    "                player_env.player_position = np.array([player_position[0][0], player_position[1][0]])\n",
    "                player_env.num_env_steps = 0\n",
    "\n",
    "                for step_idx in range(len(actions_solution_)):\n",
    "                    for action in [1, 2, 3, 4]:\n",
    "                        player_env_copy = deepcopy(player_env)\n",
    "\n",
    "                        # remove 0 \"padding\" from room_state\n",
    "                        room_state_torch = torch.from_numpy((player_env_copy.room_state[1:-1, 1:-1] / 5).astype(float)).flatten()\n",
    "                        _, _, done, _ = player_env_copy.step(action)\n",
    "                        target_room_state_torch = torch.from_numpy((player_env_copy.room_state[1:-1, 1:-1] / 5).astype(float)).flatten()\n",
    "\n",
    "                        action_torch = torch.from_numpy(np.asarray([action / 4]).astype(float)).flatten()\n",
    "                        self.data.append([torch.cat((room_state_torch, action_torch), 0), target_room_state_torch])\n",
    "                        # self.targets.append(target_room_state_torch)\n",
    "\n",
    "    def __len__(self):\n",
    "        return 10000\n",
    "\n",
    "    def __getitem__(self, idx):\n",
    "        while len(self.data) < 64:\n",
    "            time.sleep(0.1)\n",
    "            \n",
    "        data = self.data.pop()\n",
    "        return data[0], data[1]"
   ]
  },
  {
   "cell_type": "code",
   "execution_count": 15,
   "metadata": {},
   "outputs": [],
   "source": [
    "class SokobanDatasetTest(Dataset):\n",
    "    def __init__(self, num_boxes=2, max_action_length=15):\n",
    "        self.num_boxes = num_boxes\n",
    "        self.max_action_length = max_action_length\n",
    "        \n",
    "        self.env = SokobanEnv(dim_room=(7, 7), num_boxes=num_boxes, num_gen_steps=None, reset=False)\n",
    "        self.gen_data = DataGenerator()\n",
    "        \n",
    "        self.data = []\n",
    "        self.targets = []\n",
    "        \n",
    "        for _ in range(150):\n",
    "            end_room_state_, end_room_fixed_, actions_solution_ = gen_states_distances(env, gen_data, num_boxes=self.num_boxes, max_action_length=self.max_action_length)\n",
    "            \n",
    "            player_env = SokobanEnv(dim_room=(7, 7), num_boxes=num_boxes, num_gen_steps=None, reset=False)\n",
    "            player_env.set_maxsteps(999999)\n",
    "            player_env.room_state, player_env.room_fixed, player_env.done = end_room_state_, end_room_fixed_, False\n",
    "            player_position = np.where(player_env.room_state == 5)\n",
    "            player_env.player_position = np.array([player_position[0][0], player_position[1][0]])\n",
    "            player_env.num_env_steps = 0\n",
    "            \n",
    "            for step_idx in range(len(actions_solution_)):\n",
    "                for action in [1, 2, 3, 4]:\n",
    "                    player_env_copy = deepcopy(player_env)\n",
    "                    \n",
    "                    room_state_torch = torch.from_numpy((player_env_copy.room_state[1:-1, 1:-1] / 5).astype(float)).flatten()\n",
    "                    _, _, done, _ = player_env_copy.step(action)\n",
    "                    target_room_state_torch = torch.from_numpy((player_env_copy.room_state[1:-1, 1:-1] / 5).astype(float)).flatten()\n",
    "\n",
    "                    action_torch = torch.from_numpy(np.asarray([action / 4]).astype(float)).flatten()\n",
    "                    self.data.append([torch.cat((room_state_torch, action_torch), 0), target_room_state_torch])\n",
    "                    # self.targets.append(target_room_state_torch)\n",
    "                \n",
    "        print(\"len(SokobanDatasetTest) =\", len(self.data))\n",
    "        \n",
    "\n",
    "    def __len__(self):\n",
    "        return len(self.data)\n",
    "\n",
    "    def __getitem__(self, idx):\n",
    "        data = self.data[idx]\n",
    "        return data[0], data[1]"
   ]
  },
  {
   "cell_type": "code",
   "execution_count": 16,
   "metadata": {},
   "outputs": [],
   "source": [
    "import torch\n",
    "from torch import nn, optim\n",
    "\n",
    "def create_model():\n",
    "    class ResidualBlock(nn.Module):\n",
    "\n",
    "        def __init__(self, num_features):\n",
    "            super(ResidualBlock, self).__init__()\n",
    "\n",
    "            self.fc1 = nn.Linear(num_features, num_features)\n",
    "            #self.bn1 = nn.BatchNorm1d(num_features)\n",
    "            self.relu = nn.ReLU(inplace=True)\n",
    "            self.fc2 = nn.Linear(num_features, num_features)\n",
    "            #self.bn2 = nn.BatchNorm1d(num_features)\n",
    "\n",
    "        def forward(self, x):\n",
    "            identity = x\n",
    "\n",
    "            out = self.fc1(x)\n",
    "            #out = self.bn1(out)\n",
    "            out = self.relu(out)\n",
    "\n",
    "            out = self.fc2(out)\n",
    "            #out = self.bn2(out)\n",
    "\n",
    "            out += identity\n",
    "\n",
    "            return self.relu(out)\n",
    "\n",
    "    class Net(nn.Module):\n",
    "        def __init__(self):\n",
    "            super(Net, self).__init__()\n",
    "\n",
    "            self.model = nn.Sequential(\n",
    "                nn.Linear(5*5+1, 1000),\n",
    "                #nn.BatchNorm1d(5000),\n",
    "                nn.ReLU(),\n",
    "\n",
    "                #nn.Linear(5000, 1000),\n",
    "                #nn.BatchNorm1d(1000),\n",
    "                #nn.ReLU(),\n",
    "\n",
    "                ResidualBlock(1000),\n",
    "                #ResidualBlock(1000),\n",
    "                #ResidualBlock(1000),\n",
    "                #ResidualBlock(1000),\n",
    "\n",
    "                nn.Linear(1000, 5*5)\n",
    "            )\n",
    "\n",
    "        def forward(self, x):\n",
    "            return self.model(x)\n",
    "\n",
    "    return Net()\n"
   ]
  },
  {
   "cell_type": "code",
   "execution_count": 17,
   "metadata": {},
   "outputs": [
    {
     "name": "stdout",
     "output_type": "stream",
     "text": [
      "----------------------------------------------------------------\n",
      "        Layer (type)               Output Shape         Param #\n",
      "================================================================\n",
      "            Linear-1                 [-1, 1000]          27,000\n",
      "              ReLU-2                 [-1, 1000]               0\n",
      "            Linear-3                 [-1, 1000]       1,001,000\n",
      "              ReLU-4                 [-1, 1000]               0\n",
      "            Linear-5                 [-1, 1000]       1,001,000\n",
      "              ReLU-6                 [-1, 1000]               0\n",
      "     ResidualBlock-7                 [-1, 1000]               0\n",
      "            Linear-8                   [-1, 25]          25,025\n",
      "================================================================\n",
      "Total params: 2,054,025\n",
      "Trainable params: 2,054,025\n",
      "Non-trainable params: 0\n",
      "----------------------------------------------------------------\n",
      "Input size (MB): 0.00\n",
      "Forward/backward pass size (MB): 0.05\n",
      "Params size (MB): 7.84\n",
      "Estimated Total Size (MB): 7.89\n",
      "----------------------------------------------------------------\n"
     ]
    }
   ],
   "source": [
    "from torchsummary import summary\n",
    "\n",
    "summary(create_model(), (5*5+1,), device=\"cpu\")"
   ]
  },
  {
   "cell_type": "code",
   "execution_count": null,
   "metadata": {},
   "outputs": [],
   "source": []
  },
  {
   "cell_type": "code",
   "execution_count": 18,
   "metadata": {},
   "outputs": [],
   "source": [
    "device = torch.device(\"cuda\" if torch.cuda.is_available() else \"cpu\")"
   ]
  },
  {
   "cell_type": "code",
   "execution_count": 19,
   "metadata": {},
   "outputs": [],
   "source": [
    "model = create_model().to(device)\n",
    "\n",
    "optimizer = optim.Adam(model.parameters())\n",
    "loss = nn.L1Loss()"
   ]
  },
  {
   "cell_type": "code",
   "execution_count": 20,
   "metadata": {},
   "outputs": [],
   "source": [
    "hold_train_loss = []\n",
    "hold_test_loss = []"
   ]
  },
  {
   "cell_type": "code",
   "execution_count": 21,
   "metadata": {},
   "outputs": [],
   "source": [
    "import resource\n",
    "rlimit = resource.getrlimit(resource.RLIMIT_NOFILE)\n",
    "resource.setrlimit(resource.RLIMIT_NOFILE, (2048 * 2, rlimit[1]))"
   ]
  },
  {
   "cell_type": "code",
   "execution_count": 22,
   "metadata": {},
   "outputs": [
    {
     "name": "stdout",
     "output_type": "stream",
     "text": [
      "started backgound process\n",
      "len(SokobanDatasetTest) = 7848\n"
     ]
    },
    {
     "name": "stderr",
     "output_type": "stream",
     "text": [
      "Process Process-2:\n",
      "Process Process-5:\n",
      "Traceback (most recent call last):\n",
      "Process Process-4:\n",
      "Traceback (most recent call last):\n",
      "  File \"/home/pascal/miniconda3/envs/AML/lib/python3.7/multiprocessing/process.py\", line 297, in _bootstrap\n",
      "    self.run()\n",
      "  File \"/home/pascal/miniconda3/envs/AML/lib/python3.7/multiprocessing/process.py\", line 99, in run\n",
      "    self._target(*self._args, **self._kwargs)\n",
      "  File \"<ipython-input-14-0a3b2c5fd7c7>\", line 53, in generate_data\n",
      "    self.data.append([torch.cat((room_state_torch, action_torch), 0), target_room_state_torch])\n",
      "  File \"<string>\", line 2, in append\n",
      "  File \"/home/pascal/miniconda3/envs/AML/lib/python3.7/multiprocessing/managers.py\", line 819, in _callmethod\n",
      "    kind, result = conn.recv()\n",
      "  File \"/home/pascal/miniconda3/envs/AML/lib/python3.7/multiprocessing/connection.py\", line 250, in recv\n",
      "    buf = self._recv_bytes()\n",
      "Traceback (most recent call last):\n",
      "  File \"/home/pascal/miniconda3/envs/AML/lib/python3.7/multiprocessing/process.py\", line 297, in _bootstrap\n",
      "    self.run()\n",
      "Process Process-3:\n",
      "  File \"/home/pascal/miniconda3/envs/AML/lib/python3.7/multiprocessing/process.py\", line 297, in _bootstrap\n",
      "    self.run()\n",
      "Traceback (most recent call last):\n",
      "  File \"/home/pascal/miniconda3/envs/AML/lib/python3.7/multiprocessing/process.py\", line 99, in run\n",
      "    self._target(*self._args, **self._kwargs)\n",
      "  File \"<ipython-input-14-0a3b2c5fd7c7>\", line 34, in generate_data\n",
      "    end_room_state_, end_room_fixed_, actions_solution_ = gen_states_distances(env, gen_data, num_boxes=self.num_boxes, max_action_length=self.max_action_length)\n",
      "  File \"<ipython-input-9-55321f88ee06>\", line 2, in gen_states_distances\n",
      "    actions_solution = genereate_game(env, gen_data, num_boxes, max_action_length, explored_states_max=5000)\n",
      "  File \"<ipython-input-5-45efd50a864e>\", line 16, in genereate_game\n",
      "    room_state, score, box_mapping = gen_data.reverse_playing(room_state, room_structure, max_action_length, explored_states_max)\n",
      "  File \"_cython_magic_08d89a1fba06ef43645f6a56fd5a549f.pyx\", line 85, in _cython_magic_08d89a1fba06ef43645f6a56fd5a549f.DataGenerator.reverse_playing\n",
      "  File \"_cython_magic_08d89a1fba06ef43645f6a56fd5a549f.pyx\", line 120, in _cython_magic_08d89a1fba06ef43645f6a56fd5a549f.DataGenerator.depth_first_search\n",
      "  File \"/home/pascal/miniconda3/envs/AML/lib/python3.7/multiprocessing/connection.py\", line 407, in _recv_bytes\n",
      "    buf = self._recv(4)\n",
      "  File \"/home/pascal/miniconda3/envs/AML/lib/python3.7/multiprocessing/process.py\", line 99, in run\n",
      "    self._target(*self._args, **self._kwargs)\n",
      "  File \"/home/pascal/miniconda3/envs/AML/lib/python3.7/site-packages/gym_sokoban/envs/room_utils.py\", line 316, in box_displacement_score\n",
      "    dist = np.sum(np.abs(box_location - box_target))\n",
      "  File \"/home/pascal/miniconda3/envs/AML/lib/python3.7/multiprocessing/process.py\", line 297, in _bootstrap\n",
      "    self.run()\n",
      "KeyboardInterrupt\n",
      "  File \"/home/pascal/miniconda3/envs/AML/lib/python3.7/multiprocessing/process.py\", line 99, in run\n",
      "    self._target(*self._args, **self._kwargs)\n",
      "  File \"/home/pascal/miniconda3/envs/AML/lib/python3.7/multiprocessing/connection.py\", line 379, in _recv\n",
      "    chunk = read(handle, remaining)\n",
      "KeyboardInterrupt\n",
      "  File \"<ipython-input-14-0a3b2c5fd7c7>\", line 53, in generate_data\n",
      "    self.data.append([torch.cat((room_state_torch, action_torch), 0), target_room_state_torch])\n",
      "  File \"<string>\", line 2, in append\n",
      "  File \"<ipython-input-14-0a3b2c5fd7c7>\", line 34, in generate_data\n",
      "    end_room_state_, end_room_fixed_, actions_solution_ = gen_states_distances(env, gen_data, num_boxes=self.num_boxes, max_action_length=self.max_action_length)\n",
      "  File \"<ipython-input-9-55321f88ee06>\", line 2, in gen_states_distances\n",
      "    actions_solution = genereate_game(env, gen_data, num_boxes, max_action_length, explored_states_max=5000)\n",
      "  File \"<ipython-input-5-45efd50a864e>\", line 16, in genereate_game\n",
      "    room_state, score, box_mapping = gen_data.reverse_playing(room_state, room_structure, max_action_length, explored_states_max)\n",
      "  File \"_cython_magic_08d89a1fba06ef43645f6a56fd5a549f.pyx\", line 85, in _cython_magic_08d89a1fba06ef43645f6a56fd5a549f.DataGenerator.reverse_playing\n",
      "  File \"_cython_magic_08d89a1fba06ef43645f6a56fd5a549f.pyx\", line 157, in _cython_magic_08d89a1fba06ef43645f6a56fd5a549f.DataGenerator.depth_first_search\n",
      "  File \"/home/pascal/miniconda3/envs/AML/lib/python3.7/multiprocessing/managers.py\", line 819, in _callmethod\n",
      "    kind, result = conn.recv()\n",
      "  File \"/home/pascal/miniconda3/envs/AML/lib/python3.7/multiprocessing/connection.py\", line 250, in recv\n",
      "    buf = self._recv_bytes()\n",
      "  File \"/home/pascal/miniconda3/envs/AML/lib/python3.7/multiprocessing/connection.py\", line 407, in _recv_bytes\n",
      "    buf = self._recv(4)\n",
      "  File \"/home/pascal/miniconda3/envs/AML/lib/python3.7/multiprocessing/connection.py\", line 379, in _recv\n",
      "    chunk = read(handle, remaining)\n",
      "KeyboardInterrupt\n",
      "  File \"_cython_magic_08d89a1fba06ef43645f6a56fd5a549f.pyx\", line 157, in _cython_magic_08d89a1fba06ef43645f6a56fd5a549f.DataGenerator.depth_first_search\n",
      "  File \"_cython_magic_08d89a1fba06ef43645f6a56fd5a549f.pyx\", line 157, in _cython_magic_08d89a1fba06ef43645f6a56fd5a549f.DataGenerator.depth_first_search\n",
      "  [Previous line repeated 13 more times]\n",
      "  File \"_cython_magic_08d89a1fba06ef43645f6a56fd5a549f.pyx\", line 147, in _cython_magic_08d89a1fba06ef43645f6a56fd5a549f.DataGenerator.depth_first_search\n",
      "  File \"/home/pascal/miniconda3/envs/AML/lib/python3.7/site-packages/numpy/core/numeric.py\", line 2586, in array_equal\n",
      "    a1, a2 = asarray(a1), asarray(a2)\n",
      "  File \"/home/pascal/miniconda3/envs/AML/lib/python3.7/site-packages/numpy/core/numeric.py\", line 538, in asarray\n",
      "    return array(a, dtype, copy=False, order=order)\n",
      "KeyboardInterrupt\n"
     ]
    }
   ],
   "source": [
    "data_loader_train = DataLoader(SokobanDataset(num_boxes=3, max_action_length=18), batch_size=64)\n",
    "data_loader_test = DataLoader(SokobanDatasetTest(num_boxes=3, max_action_length=18), batch_size=1)"
   ]
  },
  {
   "cell_type": "code",
   "execution_count": 23,
   "metadata": {
    "scrolled": false
   },
   "outputs": [
    {
     "name": "stderr",
     "output_type": "stream",
     "text": [
      "\r",
      "Epoch:   8%|▊         | 814/9999 [6:51:51<83:55:42, 32.90s/it]"
     ]
    },
    {
     "data": {
      "image/png": "[encoded data removed]",
      "text/plain": [
       "<Figure size 432x288 with 1 Axes>"
      ]
     },
     "metadata": {
      "needs_background": "light"
     },
     "output_type": "display_data"
    },
    {
     "name": "stdout",
     "output_type": "stream",
     "text": [
      "tensor([[0.4000, 0.2000, 0.2000, 0.6000, 1.0000, 0.0000, 0.2000, 0.6000, 0.6000,\n",
      "         0.4000, 0.0000, 0.0000, 0.0000, 0.2000, 0.2000, 0.0000, 0.0000, 0.0000,\n",
      "         0.4000, 0.2000, 0.0000, 0.0000, 0.0000, 0.2000, 0.2000]],\n",
      "       device='cuda:0')\n",
      "tensor([[ 3.9730e-01,  2.1242e-01,  1.9980e-01,  5.8779e-01,  1.1096e+00,\n",
      "         -1.1705e-02,  2.1926e-01,  6.2839e-01,  5.9969e-01,  4.0072e-01,\n",
      "         -9.0859e-03, -2.0332e-03,  1.1937e-04,  2.2084e-01,  1.7906e-01,\n",
      "          4.4464e-03,  8.4471e-03, -2.8961e-03,  3.8172e-01,  2.0623e-01,\n",
      "          8.3027e-03, -1.7760e-02, -3.2529e-04,  1.9392e-01,  2.1355e-01]],\n",
      "       device='cuda:0')\n",
      "0.034080513 0.03515667\n"
     ]
    },
    {
     "data": {
      "application/vnd.jupyter.widget-view+json": {
       "model_id": "9e3afed9a3c7477e925bdd945ba4ee11",
       "version_major": 2,
       "version_minor": 0
      },
      "text/plain": [
       "HBox(children=(IntProgress(value=0, description='Batch', max=157, style=ProgressStyle(description_width='initi…"
      ]
     },
     "metadata": {},
     "output_type": "display_data"
    },
    {
     "ename": "KeyboardInterrupt",
     "evalue": "",
     "output_type": "error",
     "traceback": [
      "\u001b[0;31m---------------------------------------------------------------------------\u001b[0m",
      "\u001b[0;31mKeyboardInterrupt\u001b[0m                         Traceback (most recent call last)",
      "\u001b[0;32m<ipython-input-23-9b77ae49d971>\u001b[0m in \u001b[0;36m<module>\u001b[0;34m\u001b[0m\n\u001b[1;32m     13\u001b[0m     \u001b[0mtrain_loss\u001b[0m \u001b[0;34m=\u001b[0m \u001b[0;34m[\u001b[0m\u001b[0;34m]\u001b[0m\u001b[0;34m\u001b[0m\u001b[0;34m\u001b[0m\u001b[0m\n\u001b[1;32m     14\u001b[0m     \u001b[0mtest_loss\u001b[0m \u001b[0;34m=\u001b[0m \u001b[0;34m[\u001b[0m\u001b[0;34m]\u001b[0m\u001b[0;34m\u001b[0m\u001b[0;34m\u001b[0m\u001b[0m\n\u001b[0;32m---> 15\u001b[0;31m     \u001b[0;32mfor\u001b[0m \u001b[0mbatch_idx\u001b[0m\u001b[0;34m,\u001b[0m \u001b[0;34m(\u001b[0m\u001b[0mdata\u001b[0m\u001b[0;34m,\u001b[0m \u001b[0mtarget\u001b[0m\u001b[0;34m)\u001b[0m \u001b[0;32min\u001b[0m \u001b[0mtqdm_notebook\u001b[0m\u001b[0;34m(\u001b[0m\u001b[0menumerate\u001b[0m\u001b[0;34m(\u001b[0m\u001b[0mdata_loader_train\u001b[0m\u001b[0;34m)\u001b[0m\u001b[0;34m,\u001b[0m \u001b[0mtotal\u001b[0m\u001b[0;34m=\u001b[0m\u001b[0mlen\u001b[0m\u001b[0;34m(\u001b[0m\u001b[0mdata_loader_train\u001b[0m\u001b[0;34m)\u001b[0m\u001b[0;34m,\u001b[0m \u001b[0mdesc\u001b[0m\u001b[0;34m=\u001b[0m\u001b[0;34m'Batch'\u001b[0m\u001b[0;34m,\u001b[0m \u001b[0mleave\u001b[0m\u001b[0;34m=\u001b[0m\u001b[0;32mFalse\u001b[0m\u001b[0;34m)\u001b[0m\u001b[0;34m:\u001b[0m\u001b[0;34m\u001b[0m\u001b[0;34m\u001b[0m\u001b[0m\n\u001b[0m\u001b[1;32m     16\u001b[0m         \u001b[0mtr_x\u001b[0m\u001b[0;34m,\u001b[0m \u001b[0mtr_y\u001b[0m \u001b[0;34m=\u001b[0m \u001b[0mdata\u001b[0m\u001b[0;34m.\u001b[0m\u001b[0mfloat\u001b[0m\u001b[0;34m(\u001b[0m\u001b[0;34m)\u001b[0m\u001b[0;34m.\u001b[0m\u001b[0mto\u001b[0m\u001b[0;34m(\u001b[0m\u001b[0mdevice\u001b[0m\u001b[0;34m)\u001b[0m\u001b[0;34m,\u001b[0m \u001b[0mtarget\u001b[0m\u001b[0;34m.\u001b[0m\u001b[0mfloat\u001b[0m\u001b[0;34m(\u001b[0m\u001b[0;34m)\u001b[0m\u001b[0;34m.\u001b[0m\u001b[0mto\u001b[0m\u001b[0;34m(\u001b[0m\u001b[0mdevice\u001b[0m\u001b[0;34m)\u001b[0m\u001b[0;34m\u001b[0m\u001b[0;34m\u001b[0m\u001b[0m\n\u001b[1;32m     17\u001b[0m \u001b[0;34m\u001b[0m\u001b[0m\n",
      "\u001b[0;32m~/miniconda3/envs/AML/lib/python3.7/site-packages/tqdm/_tqdm_notebook.py\u001b[0m in \u001b[0;36m__iter__\u001b[0;34m(self, *args, **kwargs)\u001b[0m\n\u001b[1;32m    221\u001b[0m     \u001b[0;32mdef\u001b[0m \u001b[0m__iter__\u001b[0m\u001b[0;34m(\u001b[0m\u001b[0mself\u001b[0m\u001b[0;34m,\u001b[0m \u001b[0;34m*\u001b[0m\u001b[0margs\u001b[0m\u001b[0;34m,\u001b[0m \u001b[0;34m**\u001b[0m\u001b[0mkwargs\u001b[0m\u001b[0;34m)\u001b[0m\u001b[0;34m:\u001b[0m\u001b[0;34m\u001b[0m\u001b[0;34m\u001b[0m\u001b[0m\n\u001b[1;32m    222\u001b[0m         \u001b[0;32mtry\u001b[0m\u001b[0;34m:\u001b[0m\u001b[0;34m\u001b[0m\u001b[0;34m\u001b[0m\u001b[0m\n\u001b[0;32m--> 223\u001b[0;31m             \u001b[0;32mfor\u001b[0m \u001b[0mobj\u001b[0m \u001b[0;32min\u001b[0m \u001b[0msuper\u001b[0m\u001b[0;34m(\u001b[0m\u001b[0mtqdm_notebook\u001b[0m\u001b[0;34m,\u001b[0m \u001b[0mself\u001b[0m\u001b[0;34m)\u001b[0m\u001b[0;34m.\u001b[0m\u001b[0m__iter__\u001b[0m\u001b[0;34m(\u001b[0m\u001b[0;34m*\u001b[0m\u001b[0margs\u001b[0m\u001b[0;34m,\u001b[0m \u001b[0;34m**\u001b[0m\u001b[0mkwargs\u001b[0m\u001b[0;34m)\u001b[0m\u001b[0;34m:\u001b[0m\u001b[0;34m\u001b[0m\u001b[0;34m\u001b[0m\u001b[0m\n\u001b[0m\u001b[1;32m    224\u001b[0m                 \u001b[0;31m# return super(tqdm...) will not catch exception\u001b[0m\u001b[0;34m\u001b[0m\u001b[0;34m\u001b[0m\u001b[0;34m\u001b[0m\u001b[0m\n\u001b[1;32m    225\u001b[0m                 \u001b[0;32myield\u001b[0m \u001b[0mobj\u001b[0m\u001b[0;34m\u001b[0m\u001b[0;34m\u001b[0m\u001b[0m\n",
      "\u001b[0;32m~/miniconda3/envs/AML/lib/python3.7/site-packages/tqdm/_tqdm.py\u001b[0m in \u001b[0;36m__iter__\u001b[0;34m(self)\u001b[0m\n\u001b[1;32m   1030\u001b[0m                 \"\"\"), fp_write=getattr(self.fp, 'write', sys.stderr.write))\n\u001b[1;32m   1031\u001b[0m \u001b[0;34m\u001b[0m\u001b[0m\n\u001b[0;32m-> 1032\u001b[0;31m             \u001b[0;32mfor\u001b[0m \u001b[0mobj\u001b[0m \u001b[0;32min\u001b[0m \u001b[0miterable\u001b[0m\u001b[0;34m:\u001b[0m\u001b[0;34m\u001b[0m\u001b[0;34m\u001b[0m\u001b[0m\n\u001b[0m\u001b[1;32m   1033\u001b[0m                 \u001b[0;32myield\u001b[0m \u001b[0mobj\u001b[0m\u001b[0;34m\u001b[0m\u001b[0;34m\u001b[0m\u001b[0m\n\u001b[1;32m   1034\u001b[0m                 \u001b[0;31m# Update and possibly print the progressbar.\u001b[0m\u001b[0;34m\u001b[0m\u001b[0;34m\u001b[0m\u001b[0;34m\u001b[0m\u001b[0m\n",
      "\u001b[0;32m~/miniconda3/envs/AML/lib/python3.7/site-packages/torch/utils/data/dataloader.py\u001b[0m in \u001b[0;36m__next__\u001b[0;34m(self)\u001b[0m\n\u001b[1;32m    344\u001b[0m     \u001b[0;32mdef\u001b[0m \u001b[0m__next__\u001b[0m\u001b[0;34m(\u001b[0m\u001b[0mself\u001b[0m\u001b[0;34m)\u001b[0m\u001b[0;34m:\u001b[0m\u001b[0;34m\u001b[0m\u001b[0;34m\u001b[0m\u001b[0m\n\u001b[1;32m    345\u001b[0m         \u001b[0mindex\u001b[0m \u001b[0;34m=\u001b[0m \u001b[0mself\u001b[0m\u001b[0;34m.\u001b[0m\u001b[0m_next_index\u001b[0m\u001b[0;34m(\u001b[0m\u001b[0;34m)\u001b[0m  \u001b[0;31m# may raise StopIteration\u001b[0m\u001b[0;34m\u001b[0m\u001b[0;34m\u001b[0m\u001b[0m\n\u001b[0;32m--> 346\u001b[0;31m         \u001b[0mdata\u001b[0m \u001b[0;34m=\u001b[0m \u001b[0mself\u001b[0m\u001b[0;34m.\u001b[0m\u001b[0mdataset_fetcher\u001b[0m\u001b[0;34m.\u001b[0m\u001b[0mfetch\u001b[0m\u001b[0;34m(\u001b[0m\u001b[0mindex\u001b[0m\u001b[0;34m)\u001b[0m  \u001b[0;31m# may raise StopIteration\u001b[0m\u001b[0;34m\u001b[0m\u001b[0;34m\u001b[0m\u001b[0m\n\u001b[0m\u001b[1;32m    347\u001b[0m         \u001b[0;32mif\u001b[0m \u001b[0mself\u001b[0m\u001b[0;34m.\u001b[0m\u001b[0mpin_memory\u001b[0m\u001b[0;34m:\u001b[0m\u001b[0;34m\u001b[0m\u001b[0;34m\u001b[0m\u001b[0m\n\u001b[1;32m    348\u001b[0m             \u001b[0mdata\u001b[0m \u001b[0;34m=\u001b[0m \u001b[0m_utils\u001b[0m\u001b[0;34m.\u001b[0m\u001b[0mpin_memory\u001b[0m\u001b[0;34m.\u001b[0m\u001b[0mpin_memory\u001b[0m\u001b[0;34m(\u001b[0m\u001b[0mdata\u001b[0m\u001b[0;34m)\u001b[0m\u001b[0;34m\u001b[0m\u001b[0;34m\u001b[0m\u001b[0m\n",
      "\u001b[0;31mKeyboardInterrupt\u001b[0m: "
     ]
    }
   ],
   "source": [
    "from tqdm import tnrange, tqdm_notebook\n",
    "from tqdm import tqdm\n",
    "from IPython.display import clear_output\n",
    "\n",
    "epochs = 9999\n",
    "\n",
    "best_loss = 9999999\n",
    "\n",
    "fx, tr_y = None, None\n",
    "pbar = tqdm(total=epochs, desc='Epoch')\n",
    "for epoch in range(epochs):\n",
    "    model.train()\n",
    "    train_loss = []\n",
    "    test_loss = []\n",
    "    for batch_idx, (data, target) in tqdm_notebook(enumerate(data_loader_train), total=len(data_loader_train), desc='Batch', leave=False):\n",
    "        tr_x, tr_y = data.float().to(device), target.float().to(device)\n",
    "\n",
    "        # Reset gradient\n",
    "        optimizer.zero_grad()\n",
    "\n",
    "        # Forward pass\n",
    "        fx = model(tr_x)\n",
    "        output = loss(fx, tr_y.view(-1, 5*5))  # loss for this batch\n",
    "        train_loss.append( output.detach().cpu().numpy())\n",
    "\n",
    "        # Backward\n",
    "        output.backward()\n",
    "\n",
    "        # Update parameters based on backprop\n",
    "        optimizer.step()\n",
    "        \n",
    "    printer = []\n",
    "    with torch.no_grad():\n",
    "        model.eval()\n",
    "        for batch_idx, (data, target) in enumerate(data_loader_test):\n",
    "            tr_x, tr_y = data.float().to(device), target.float().to(device)\n",
    "            fx = model(tr_x)\n",
    "            test_loss.append(loss(fx, tr_y.view(-1, 5*5)).detach().cpu().numpy())  # loss for this batch\n",
    "            printer = [tr_y, fx]\n",
    "\n",
    "    hold_train_loss.append(np.mean(train_loss))\n",
    "    hold_test_loss.append(np.mean(test_loss))\n",
    "    \n",
    "    clear_output(True)\n",
    "    pbar.update(1)\n",
    "    plt.plot(np.array(hold_train_loss), label='train')\n",
    "    plt.plot(np.array(hold_test_loss), label='test')\n",
    "    plt.legend()\n",
    "    plt.show()\n",
    "    \n",
    "    print(printer[0])\n",
    "    print(printer[1])\n",
    "    \n",
    "    if hold_train_loss[-1] + hold_test_loss[-1] < best_loss:\n",
    "        best_loss = hold_train_loss[-1] + hold_test_loss[-1]\n",
    "        torch.save(model.state_dict(), f\"environment_model_copy_2/environment_model_{epoch}_{best_loss}.pth\")\n",
    "    \n",
    "    print(hold_train_loss[-1], hold_test_loss[-1])"
   ]
  },
  {
   "cell_type": "code",
   "execution_count": 24,
   "metadata": {},
   "outputs": [
    {
     "name": "stderr",
     "output_type": "stream",
     "text": [
      "\n"
     ]
    }
   ],
   "source": [
    "pbar.close()"
   ]
  },
  {
   "cell_type": "code",
   "execution_count": 27,
   "metadata": {},
   "outputs": [
    {
     "data": {
      "image/png": "[encoded data removed]",
      "text/plain": [
       "<Figure size 432x288 with 1 Axes>"
      ]
     },
     "metadata": {
      "needs_background": "light"
     },
     "output_type": "display_data"
    }
   ],
   "source": [
    "plt.plot(np.array(hold_train_loss), label='train')\n",
    "plt.plot(np.array(hold_test_loss), label='test')\n",
    "plt.legend()\n",
    "plt.xlabel('epochs')\n",
    "plt.ylabel('L1 loss')\n",
    "plt.tight_layout()\n",
    "plt.savefig(\"environment_model_copy_2/loss.pdf\")\n",
    "plt.show()"
   ]
  },
  {
   "cell_type": "code",
   "execution_count": null,
   "metadata": {},
   "outputs": [],
   "source": []
  },
  {
   "cell_type": "code",
   "execution_count": null,
   "metadata": {},
   "outputs": [],
   "source": []
  },
  {
   "cell_type": "code",
   "execution_count": null,
   "metadata": {},
   "outputs": [],
   "source": []
  },
  {
   "cell_type": "code",
   "execution_count": null,
   "metadata": {},
   "outputs": [],
   "source": []
  },
  {
   "cell_type": "code",
   "execution_count": null,
   "metadata": {},
   "outputs": [],
   "source": [
    "torch.save(model.state_dict(), \"DAVI_steps_10_longTraining_no_batchnorm.pth\")"
   ]
  },
  {
   "cell_type": "code",
   "execution_count": null,
   "metadata": {},
   "outputs": [],
   "source": [
    "plt.plot(np.array([min(x, 4) for x in hold_train_loss[:725]]), label='train')\n",
    "plt.plot(np.array(hold_test_loss[:725]), label='test')\n",
    "plt.ylim([-0.1, 4.35])\n",
    "plt.legend()\n",
    "\n",
    "plt.savefig(\"longTraining_no_batchnorm/DAVI_steps_10_loss_longTraining_no_batchnorm_lim.svg\")\n",
    "plt.savefig(\"longTraining_no_batchnorm/DAVI_steps_10_loss_longTraining_no_batchnorm_lim.pdf\")\n",
    "plt.show()"
   ]
  },
  {
   "cell_type": "code",
   "execution_count": null,
   "metadata": {},
   "outputs": [],
   "source": []
  },
  {
   "cell_type": "code",
   "execution_count": null,
   "metadata": {},
   "outputs": [],
   "source": [
    "from tqdm import tnrange, tqdm_notebook\n",
    "from IPython.display import clear_output\n",
    "\n",
    "epochs = 9999\n",
    "\n",
    "\n",
    "model.train()\n",
    "\n",
    "fx, tr_y = None, None\n",
    "for epoch in tnrange(epochs, desc='Epoch'):\n",
    "    train_loss = []\n",
    "    test_loss = []\n",
    "    for batch_idx, (data, target) in tqdm_notebook(enumerate(data_loader_train), total=len(data_loader_train), desc='Batch', leave=False):\n",
    "        tr_x, tr_y = data.float().to(device), target.float().to(device)\n",
    "\n",
    "        # Reset gradient\n",
    "        optimizer.zero_grad()\n",
    "\n",
    "        # Forward pass\n",
    "        fx = model(tr_x)\n",
    "        output = loss(fx, tr_y.view(-1, 1))  # loss for this batch\n",
    "        train_loss.append( output.detach().cpu().numpy())\n",
    "\n",
    "        # Backward\n",
    "        output.backward()\n",
    "\n",
    "        # Update parameters based on backprop\n",
    "        optimizer.step()\n",
    "        \n",
    "    with torch.no_grad():\n",
    "        for batch_idx, (data, target) in enumerate(data_loader_test):\n",
    "            tr_x, tr_y = data.float().to(device), target.float().to(device)\n",
    "            fx = model(tr_x)\n",
    "            test_loss.append(loss(fx, tr_y.view(-1, 1)).detach().cpu().numpy())  # loss for this batch\n",
    "\n",
    "    hold_train_loss.append(np.mean(train_loss))\n",
    "    hold_test_loss.append(np.mean(test_loss))\n",
    "    \n",
    "    clear_output(True)\n",
    "    plt.plot(np.array(hold_train_loss), label='train')\n",
    "    plt.plot(np.array(hold_test_loss), label='test')\n",
    "    plt.legend()\n",
    "    plt.show()\n",
    "    \n",
    "    print(hold_train_loss[-1], hold_test_loss[-1])"
   ]
  },
  {
   "cell_type": "code",
   "execution_count": null,
   "metadata": {},
   "outputs": [],
   "source": []
  },
  {
   "cell_type": "code",
   "execution_count": null,
   "metadata": {},
   "outputs": [],
   "source": []
  },
  {
   "cell_type": "code",
   "execution_count": null,
   "metadata": {},
   "outputs": [],
   "source": []
  },
  {
   "cell_type": "code",
   "execution_count": null,
   "metadata": {},
   "outputs": [],
   "source": [
    "x = []\n",
    "with torch.no_grad():\n",
    "    for batch_idx, (data, target) in enumerate(DataLoader(SokobanDatasetTest(max_action_length=10), batch_size=64)):\n",
    "        tr_x, tr_y = data.float().to(device), target.float().to(device)\n",
    "        fx = model(tr_x)\n",
    "        x.append(loss(fx, tr_y.view(-1, 1)).detach().cpu().numpy())  # loss for this batch\n",
    "        \n",
    "print(np.mean(x))"
   ]
  },
  {
   "cell_type": "code",
   "execution_count": null,
   "metadata": {},
   "outputs": [],
   "source": []
  },
  {
   "cell_type": "code",
   "execution_count": null,
   "metadata": {},
   "outputs": [],
   "source": [
    "model = create_model().to(device)\n",
    "model.load_state_dict(torch.load(\"DAVI_steps_10_longTraining.pth\"))"
   ]
  },
  {
   "cell_type": "code",
   "execution_count": null,
   "metadata": {},
   "outputs": [],
   "source": [
    "x = []\n",
    "with torch.no_grad():\n",
    "    for batch_idx, (data, target) in enumerate(DataLoader(SokobanDatasetTest(max_action_length=10), batch_size=64)):\n",
    "        tr_x, tr_y = data.float().to(device), target.float().to(device)\n",
    "        fx = model(tr_x)\n",
    "        x.append(loss(fx, tr_y.view(-1, 1)).detach().cpu().numpy())  # loss for this batch\n",
    "        \n",
    "print(np.mean(x))"
   ]
  },
  {
   "cell_type": "code",
   "execution_count": null,
   "metadata": {},
   "outputs": [],
   "source": [
    "data_loader_train = DataLoader(SokobanDataset(max_action_length=13), batch_size=64)\n",
    "data_loader_test = DataLoader(SokobanDatasetTest(max_action_length=13), batch_size=64)"
   ]
  },
  {
   "cell_type": "code",
   "execution_count": null,
   "metadata": {},
   "outputs": [],
   "source": [
    "from tqdm import tnrange, tqdm_notebook\n",
    "from IPython.display import clear_output\n",
    "\n",
    "epochs = 9999\n",
    "\n",
    "\n",
    "model.train()\n",
    "\n",
    "fx, tr_y = None, None\n",
    "for epoch in tnrange(epochs, desc='Epoch'):\n",
    "    train_loss = []\n",
    "    test_loss = []\n",
    "    for batch_idx, (data, target) in tqdm_notebook(enumerate(data_loader_train), total=len(data_loader_train), desc='Batch', leave=False):\n",
    "        tr_x, tr_y = data.float().to(device), target.float().to(device)\n",
    "\n",
    "        # Reset gradient\n",
    "        optimizer.zero_grad()\n",
    "\n",
    "        # Forward pass\n",
    "        fx = model(tr_x)\n",
    "        output = loss(fx, tr_y.view(-1, 1))  # loss for this batch\n",
    "        train_loss.append( output.detach().cpu().numpy())\n",
    "\n",
    "        # Backward\n",
    "        output.backward()\n",
    "\n",
    "        # Update parameters based on backprop\n",
    "        optimizer.step()\n",
    "        \n",
    "    with torch.no_grad():\n",
    "        for batch_idx, (data, target) in enumerate(data_loader_test):\n",
    "            tr_x, tr_y = data.float().to(device), target.float().to(device)\n",
    "            fx = model(tr_x)\n",
    "            test_loss.append(loss(fx, tr_y.view(-1, 1)).detach().cpu().numpy())  # loss for this batch\n",
    "\n",
    "    hold_train_loss.append(np.mean(train_loss))\n",
    "    hold_test_loss.append(np.mean(test_loss))\n",
    "    \n",
    "    clear_output(True)\n",
    "    plt.plot(np.array(hold_train_loss), label='train')\n",
    "    plt.plot(np.array(hold_test_loss), label='test')\n",
    "    plt.legend()\n",
    "    plt.show()\n",
    "    \n",
    "    print(hold_train_loss[-1], hold_test_loss[-1])"
   ]
  },
  {
   "cell_type": "code",
   "execution_count": null,
   "metadata": {},
   "outputs": [],
   "source": []
  },
  {
   "cell_type": "code",
   "execution_count": null,
   "metadata": {},
   "outputs": [],
   "source": []
  },
  {
   "cell_type": "code",
   "execution_count": null,
   "metadata": {},
   "outputs": [],
   "source": []
  }
 ],
 "metadata": {
  "kernelspec": {
   "display_name": "Python 3",
   "language": "python",
   "name": "python3"
  },
  "language_info": {
   "codemirror_mode": {
    "name": "ipython",
    "version": 3
   },
   "file_extension": ".py",
   "mimetype": "text/x-python",
   "name": "python",
   "nbconvert_exporter": "python",
   "pygments_lexer": "ipython3",
   "version": "3.7.4"
  }
 },
 "nbformat": 4,
 "nbformat_minor": 1
}
